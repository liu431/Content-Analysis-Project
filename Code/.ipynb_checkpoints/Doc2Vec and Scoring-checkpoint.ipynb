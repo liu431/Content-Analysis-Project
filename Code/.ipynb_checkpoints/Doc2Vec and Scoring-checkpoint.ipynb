{
 "cells": [
  {
   "cell_type": "markdown",
   "metadata": {},
   "source": [
    "This notebook applies Doc2Vec and Scoring fucntion on the consumer reviews to quantify product-level differences."
   ]
  },
  {
   "cell_type": "code",
   "execution_count": 1,
   "metadata": {},
   "outputs": [],
   "source": [
    "#All these packages need to be installed from pip\n",
    "import gensim#For word2vec, etc\n",
    "import requests #For downloading our datasets\n",
    "import lucem_illud_2020\n",
    "\n",
    "import numpy as np #For arrays\n",
    "import pandas #Gives us DataFrames\n",
    "import matplotlib.pyplot as plt #For graphics\n",
    "import seaborn #Makes the graphics look nicer\n",
    "import sklearn.metrics.pairwise #For cosine similarity\n",
    "import sklearn.manifold #For T-SNE\n",
    "import sklearn.decomposition #For PCA\n",
    "\n",
    "#This 'magic' command makes the plots work better\n",
    "#in the notebook, don't use it outside of a notebook.\n",
    "#Also you can ignore the warning\n",
    "%matplotlib inline\n",
    "\n",
    "import os #For looking through files\n",
    "import os.path #For managing file paths"
   ]
  },
  {
   "cell_type": "markdown",
   "metadata": {},
   "source": [
    "## Data\n",
    "\n",
    "Check out [this notebook](https://github.com/liu431/Content-Analysis-Project/blob/master/Data/data_extraction_electronics.ipynb) for getting the Amazon Review Data (2018), transformed the format, and extracted the sample corpus.\n"
   ]
  },
  {
   "cell_type": "markdown",
   "metadata": {},
   "source": [
    "Sample data: metadata and reviews of 10 keyboards that have highest reviews in the data "
   ]
  },
  {
   "cell_type": "code",
   "execution_count": 10,
   "metadata": {},
   "outputs": [
    {
     "data": {
      "application/javascript": [
       "\n",
       "        if (window._pyforest_update_imports_cell) { window._pyforest_update_imports_cell('import pandas as pd'); }\n",
       "    "
      ],
      "text/plain": [
       "<IPython.core.display.Javascript object>"
      ]
     },
     "metadata": {},
     "output_type": "display_data"
    },
    {
     "data": {
      "application/javascript": [
       "\n",
       "        if (window._pyforest_update_imports_cell) { window._pyforest_update_imports_cell('import pandas as pd'); }\n",
       "    "
      ],
      "text/plain": [
       "<IPython.core.display.Javascript object>"
      ]
     },
     "metadata": {},
     "output_type": "display_data"
    }
   ],
   "source": [
    "meta = pd.read_csv('../Data/output_meta.csv')\n",
    "review = pd.read_csv('../Data/output_review.csv')\n",
    "review = review[review['reviewText'].notnull()]"
   ]
  },
  {
   "cell_type": "code",
   "execution_count": 44,
   "metadata": {},
   "outputs": [
    {
     "data": {
      "text/html": [
       "<div>\n",
       "<style scoped>\n",
       "    .dataframe tbody tr th:only-of-type {\n",
       "        vertical-align: middle;\n",
       "    }\n",
       "\n",
       "    .dataframe tbody tr th {\n",
       "        vertical-align: top;\n",
       "    }\n",
       "\n",
       "    .dataframe thead th {\n",
       "        text-align: right;\n",
       "    }\n",
       "</style>\n",
       "<table border=\"1\" class=\"dataframe\">\n",
       "  <thead>\n",
       "    <tr style=\"text-align: right;\">\n",
       "      <th></th>\n",
       "      <th>Unnamed: 0</th>\n",
       "      <th>overall</th>\n",
       "      <th>asin</th>\n",
       "      <th>category</th>\n",
       "      <th>description</th>\n",
       "      <th>title</th>\n",
       "      <th>image</th>\n",
       "      <th>brand</th>\n",
       "      <th>feature</th>\n",
       "      <th>rank</th>\n",
       "      <th>main_cat</th>\n",
       "      <th>date</th>\n",
       "      <th>price</th>\n",
       "      <th>also_buy</th>\n",
       "      <th>also_view</th>\n",
       "      <th>similar_item</th>\n",
       "      <th>tech1</th>\n",
       "      <th>tech2</th>\n",
       "      <th>details</th>\n",
       "      <th>fit</th>\n",
       "    </tr>\n",
       "  </thead>\n",
       "  <tbody>\n",
       "    <tr>\n",
       "      <th>0</th>\n",
       "      <td>92</td>\n",
       "      <td>2567</td>\n",
       "      <td>B000A6PPOK</td>\n",
       "      <td>['Electronics', 'Computers &amp; Accessories', 'Co...</td>\n",
       "      <td>['USB']</td>\n",
       "      <td>Microsoft Natural Ergonomic Keyboard 4000</td>\n",
       "      <td>['https://images-na.ssl-images-amazon.com/imag...</td>\n",
       "      <td>Microsoft</td>\n",
       "      <td>['Split ergonomic design encourages natural ha...</td>\n",
       "      <td>['&gt;#222 in Computers &amp; Accessories &gt; Computer ...</td>\n",
       "      <td>All Electronics</td>\n",
       "      <td>September 27, 2017</td>\n",
       "      <td>NaN</td>\n",
       "      <td>['B00FPAVUHC', 'B0043T7FXE', 'B001F42MKG', 'B0...</td>\n",
       "      <td>['B075GZVD4T', 'B002MMY4WY', 'B00CYX26BC', 'B0...</td>\n",
       "      <td>[{'asin': '', 'href': '', 'name': 'Microsoft N...</td>\n",
       "      <td>NaN</td>\n",
       "      <td>NaN</td>\n",
       "      <td>NaN</td>\n",
       "      <td>NaN</td>\n",
       "    </tr>\n",
       "    <tr>\n",
       "      <th>1</th>\n",
       "      <td>191</td>\n",
       "      <td>1805</td>\n",
       "      <td>B00I0S6SK0</td>\n",
       "      <td>['Electronics', 'Computers &amp; Accessories', 'Co...</td>\n",
       "      <td>['The AZiO Vision keyboard features extra larg...</td>\n",
       "      <td>Azio Vision Backlit USB Keyboard with Large Pr...</td>\n",
       "      <td>['https://images-na.ssl-images-amazon.com/imag...</td>\n",
       "      <td>Azio</td>\n",
       "      <td>['Easy to see large print keys. 2x Larger than...</td>\n",
       "      <td>['&gt;#56 in Computers &amp; Accessories &gt; Computer A...</td>\n",
       "      <td>Computers</td>\n",
       "      <td>October 21, 2017</td>\n",
       "      <td>$2.54</td>\n",
       "      <td>['B00ERV026K', 'B0787QZ6WD', 'B075WW7V6W', 'B0...</td>\n",
       "      <td>['B003VAGXWK', 'B00AGI7NKG', 'B007ZUC7DG', 'B0...</td>\n",
       "      <td>[{'asin': '', 'href': '', 'name': 'Azio Vision...</td>\n",
       "      <td>{'Number of USB 2.0 Ports': '1'}</td>\n",
       "      <td>{'Brand Name': 'Azio', 'Item model number': 'K...</td>\n",
       "      <td>NaN</td>\n",
       "      <td>NaN</td>\n",
       "    </tr>\n",
       "    <tr>\n",
       "      <th>2</th>\n",
       "      <td>501</td>\n",
       "      <td>1092</td>\n",
       "      <td>B00KF9IVKC</td>\n",
       "      <td>['Electronics', 'Computers &amp; Accessories', 'Co...</td>\n",
       "      <td>NaN</td>\n",
       "      <td>iPazzPort 3-color Backlit Wireless Mini Keyboa...</td>\n",
       "      <td>['https://images-na.ssl-images-amazon.com/imag...</td>\n",
       "      <td>iPazzPort</td>\n",
       "      <td>['3 in 1 multifunction 2.4ghz mini wireless qw...</td>\n",
       "      <td>['&gt;#82 in Computers &amp; Accessories &gt; Computer A...</td>\n",
       "      <td>Computers</td>\n",
       "      <td>June 23, 2017</td>\n",
       "      <td>$14.99</td>\n",
       "      <td>['B07BCC8PK7', 'B06XHY5VXF', 'B0153R2A9I', 'B0...</td>\n",
       "      <td>['B015J6TEN8', 'B00Z81U3YY', 'B017N6J44G', 'B0...</td>\n",
       "      <td>[{'asin': '', 'href': '', 'name': 'iPazzPort 3...</td>\n",
       "      <td>NaN</td>\n",
       "      <td>NaN</td>\n",
       "      <td>NaN</td>\n",
       "      <td>NaN</td>\n",
       "    </tr>\n",
       "    <tr>\n",
       "      <th>3</th>\n",
       "      <td>1630</td>\n",
       "      <td>523</td>\n",
       "      <td>B00D9UTZWW</td>\n",
       "      <td>['Electronics', 'Computers &amp; Accessories', 'La...</td>\n",
       "      <td>NaN</td>\n",
       "      <td>iBenzer MacBook Air 11 Inch Case, Soft Touch H...</td>\n",
       "      <td>['https://images-na.ssl-images-amazon.com/imag...</td>\n",
       "      <td>IBENZER</td>\n",
       "      <td>['Compatibility - MacBook Air 11 Inch model A1...</td>\n",
       "      <td>['&gt;#259 in Computers &amp; Accessories &gt; Laptop Ac...</td>\n",
       "      <td>Computers</td>\n",
       "      <td>August 28, 2017</td>\n",
       "      <td>$12.99</td>\n",
       "      <td>['B01AJVYE9W', 'B00VVLE5CG', 'B007TA1YNQ', 'B0...</td>\n",
       "      <td>['B07L17HNZR', 'B07KQNHKVL', 'B00H0272VQ', 'B0...</td>\n",
       "      <td>[{'asin': '', 'href': '', 'name': 'iBenzer Mac...</td>\n",
       "      <td>NaN</td>\n",
       "      <td>NaN</td>\n",
       "      <td>NaN</td>\n",
       "      <td>NaN</td>\n",
       "    </tr>\n",
       "    <tr>\n",
       "      <th>4</th>\n",
       "      <td>1640</td>\n",
       "      <td>521</td>\n",
       "      <td>B00NG8EJOG</td>\n",
       "      <td>['Electronics', 'Computers &amp; Accessories', 'Ta...</td>\n",
       "      <td>['DUAL MODE CONNECTION 1. BLUETOOTH MODE: Pair...</td>\n",
       "      <td>Foldable Bluetooth Keyboard, Jelly Comb B003B ...</td>\n",
       "      <td>['https://images-na.ssl-images-amazon.com/imag...</td>\n",
       "      <td>Jelly Comb</td>\n",
       "      <td>['FOLDING BLUETOOTH KEYBOARD: Bluetooth 3.0 te...</td>\n",
       "      <td>['&gt;#37 in Computers &amp; Accessories &gt; Tablet Acc...</td>\n",
       "      <td>Computers</td>\n",
       "      <td>April 27, 2017</td>\n",
       "      <td>$32.99</td>\n",
       "      <td>['B07G723CB2', 'B079TL2TGY', 'B01HRIDPOA', 'B0...</td>\n",
       "      <td>['B018K5EJCQ', 'B078K1FFCP', 'B01MTVC775', 'B0...</td>\n",
       "      <td>[{'asin': '', 'href': '', 'name': 'Foldable Bl...</td>\n",
       "      <td>NaN</td>\n",
       "      <td>NaN</td>\n",
       "      <td>NaN</td>\n",
       "      <td>NaN</td>\n",
       "    </tr>\n",
       "    <tr>\n",
       "      <th>5</th>\n",
       "      <td>2263</td>\n",
       "      <td>418</td>\n",
       "      <td>B00E4TOWR0</td>\n",
       "      <td>['Electronics', 'Computers &amp; Accessories', 'Co...</td>\n",
       "      <td>[\"Get-more-done productivity: Achieve more wit...</td>\n",
       "      <td>HP Wired USB Keyboard K1500 (Black) (H3C52AA#ABA)</td>\n",
       "      <td>['https://images-na.ssl-images-amazon.com/imag...</td>\n",
       "      <td>HP</td>\n",
       "      <td>['Get-more-done productivity: Achieve more wit...</td>\n",
       "      <td>['&gt;#25 in Computers &amp; Accessories &gt; Computer A...</td>\n",
       "      <td>Computers</td>\n",
       "      <td>July 28, 2017</td>\n",
       "      <td>$14.99</td>\n",
       "      <td>NaN</td>\n",
       "      <td>['B005EOWBHC', 'B00ZYLMQH0', 'B004YDSPSS', 'B0...</td>\n",
       "      <td>[{'asin': '', 'href': '', 'name': 'HP Wired US...</td>\n",
       "      <td>{'Brand Name': 'HP', 'Series': 'H3C52AA', 'Ite...</td>\n",
       "      <td>NaN</td>\n",
       "      <td>NaN</td>\n",
       "      <td>NaN</td>\n",
       "    </tr>\n",
       "    <tr>\n",
       "      <th>6</th>\n",
       "      <td>2547</td>\n",
       "      <td>387</td>\n",
       "      <td>B00O1B59AU</td>\n",
       "      <td>['Electronics', 'Computers &amp; Accessories', 'Ta...</td>\n",
       "      <td>[\"The ZAGG Slim Book wireless Bluetooth keyboa...</td>\n",
       "      <td>ZAGG Slim Book Ultrathin Case, Hinged with Det...</td>\n",
       "      <td>['https://images-na.ssl-images-amazon.com/imag...</td>\n",
       "      <td>ZAGG</td>\n",
       "      <td>[\"Thin: Its ultrathin design is easy to carry ...</td>\n",
       "      <td>['&gt;#188 in Computers &amp; Accessories &gt; Tablet Ac...</td>\n",
       "      <td>Computers</td>\n",
       "      <td>October 6, 2017</td>\n",
       "      <td>$54.99</td>\n",
       "      <td>['B00MJX9CFU', 'B00P7TQR3S', 'B00PYMHOG2', 'B0...</td>\n",
       "      <td>['B00MJX9CFU', 'B078883T1C', 'B00X5X1XXW', 'B0...</td>\n",
       "      <td>[{'asin': '', 'href': '', 'name': 'ZAGG Slim B...</td>\n",
       "      <td>{'Screen Size': '9.7 inches'}</td>\n",
       "      <td>{'Brand Name': 'ZAGG', 'Item model number': 'I...</td>\n",
       "      <td>NaN</td>\n",
       "      <td>NaN</td>\n",
       "    </tr>\n",
       "    <tr>\n",
       "      <th>7</th>\n",
       "      <td>2620</td>\n",
       "      <td>378</td>\n",
       "      <td>B00LSGKEC4</td>\n",
       "      <td>['Electronics', 'Computers &amp; Accessories', 'Co...</td>\n",
       "      <td>NaN</td>\n",
       "      <td>Redragon K502 Gaming Keyboard RGB LED Backlit ...</td>\n",
       "      <td>['https://images-na.ssl-images-amazon.com/imag...</td>\n",
       "      <td>Redragon</td>\n",
       "      <td>['SILENT GAMING KEYBOARD; 104 Key Gaming Keybo...</td>\n",
       "      <td>&gt;#263 in Computers &amp; Accessories &gt; Computer Ac...</td>\n",
       "      <td>Computers</td>\n",
       "      <td>July 28, 2017</td>\n",
       "      <td>NaN</td>\n",
       "      <td>['B00HTK1NCS', 'B011HMDZ0Q', 'B00GU4F4OM', 'B0...</td>\n",
       "      <td>['B073DBS35C', 'B074DRFHYS', 'B01EOH2JLW', 'B0...</td>\n",
       "      <td>[{'asin': '', 'href': '', 'name': 'Redragon K5...</td>\n",
       "      <td>{'Brand Name': 'Redragon', 'Series': 'K502 Kar...</td>\n",
       "      <td>NaN</td>\n",
       "      <td>NaN</td>\n",
       "      <td>NaN</td>\n",
       "    </tr>\n",
       "    <tr>\n",
       "      <th>8</th>\n",
       "      <td>2962</td>\n",
       "      <td>343</td>\n",
       "      <td>B0194MC7JG</td>\n",
       "      <td>['Electronics', 'Computers &amp; Accessories', 'Co...</td>\n",
       "      <td>['ONE WIRELESS KEYBOARD AND MOUSE SET FOR WIRE...</td>\n",
       "      <td>Wireless Keyboard and Mouse - Jelly Comb K025 ...</td>\n",
       "      <td>['https://images-na.ssl-images-amazon.com/imag...</td>\n",
       "      <td>Jelly Comb</td>\n",
       "      <td>['RELIABLE 2.4GHz WIRELESS CONNECTION: 10m or ...</td>\n",
       "      <td>['&gt;#323 in Computers &amp; Accessories &gt; Computer ...</td>\n",
       "      <td>Computers</td>\n",
       "      <td>July 18, 2018</td>\n",
       "      <td>$2.54</td>\n",
       "      <td>['B01B4RWTAG', 'B001CJRM36', 'B0181JTPCU', 'B0...</td>\n",
       "      <td>NaN</td>\n",
       "      <td>[{'asin': '', 'href': '', 'name': 'Wireless Ke...</td>\n",
       "      <td>NaN</td>\n",
       "      <td>NaN</td>\n",
       "      <td>NaN</td>\n",
       "      <td>NaN</td>\n",
       "    </tr>\n",
       "    <tr>\n",
       "      <th>9</th>\n",
       "      <td>3180</td>\n",
       "      <td>327</td>\n",
       "      <td>B004HJDUW0</td>\n",
       "      <td>['Electronics', 'Accessories &amp; Supplies', 'Aud...</td>\n",
       "      <td>['Due to its design, USB cable has a normal ma...</td>\n",
       "      <td>Monoprice 32ft 10M USB 2.0 A Male to A Female ...</td>\n",
       "      <td>['https://images-na.ssl-images-amazon.com/imag...</td>\n",
       "      <td>Monoprice</td>\n",
       "      <td>['Compliant with USB 2.0 High Speed (480Mbps) ...</td>\n",
       "      <td>['&gt;#300 in Electronics &gt; Accessories &amp; Supplie...</td>\n",
       "      <td>Computers</td>\n",
       "      <td>October 6, 2017</td>\n",
       "      <td>$14.97</td>\n",
       "      <td>['B00BDE4IUK', 'B003M6FDS8', 'B0044D7J1W', 'B0...</td>\n",
       "      <td>['B01L81WQ2O', 'B004AGX4YO', 'B005LJKEXS', 'B0...</td>\n",
       "      <td>[{'asin': '', 'href': '', 'name': 'Monoprice 3...</td>\n",
       "      <td>{'Brand Name': 'Monoprice', 'Item model number...</td>\n",
       "      <td>NaN</td>\n",
       "      <td>NaN</td>\n",
       "      <td>NaN</td>\n",
       "    </tr>\n",
       "  </tbody>\n",
       "</table>\n",
       "</div>"
      ],
      "text/plain": [
       "   Unnamed: 0  overall        asin  \\\n",
       "0          92     2567  B000A6PPOK   \n",
       "1         191     1805  B00I0S6SK0   \n",
       "2         501     1092  B00KF9IVKC   \n",
       "3        1630      523  B00D9UTZWW   \n",
       "4        1640      521  B00NG8EJOG   \n",
       "5        2263      418  B00E4TOWR0   \n",
       "6        2547      387  B00O1B59AU   \n",
       "7        2620      378  B00LSGKEC4   \n",
       "8        2962      343  B0194MC7JG   \n",
       "9        3180      327  B004HJDUW0   \n",
       "\n",
       "                                            category  \\\n",
       "0  ['Electronics', 'Computers & Accessories', 'Co...   \n",
       "1  ['Electronics', 'Computers & Accessories', 'Co...   \n",
       "2  ['Electronics', 'Computers & Accessories', 'Co...   \n",
       "3  ['Electronics', 'Computers & Accessories', 'La...   \n",
       "4  ['Electronics', 'Computers & Accessories', 'Ta...   \n",
       "5  ['Electronics', 'Computers & Accessories', 'Co...   \n",
       "6  ['Electronics', 'Computers & Accessories', 'Ta...   \n",
       "7  ['Electronics', 'Computers & Accessories', 'Co...   \n",
       "8  ['Electronics', 'Computers & Accessories', 'Co...   \n",
       "9  ['Electronics', 'Accessories & Supplies', 'Aud...   \n",
       "\n",
       "                                         description  \\\n",
       "0                                            ['USB']   \n",
       "1  ['The AZiO Vision keyboard features extra larg...   \n",
       "2                                                NaN   \n",
       "3                                                NaN   \n",
       "4  ['DUAL MODE CONNECTION 1. BLUETOOTH MODE: Pair...   \n",
       "5  [\"Get-more-done productivity: Achieve more wit...   \n",
       "6  [\"The ZAGG Slim Book wireless Bluetooth keyboa...   \n",
       "7                                                NaN   \n",
       "8  ['ONE WIRELESS KEYBOARD AND MOUSE SET FOR WIRE...   \n",
       "9  ['Due to its design, USB cable has a normal ma...   \n",
       "\n",
       "                                               title  \\\n",
       "0          Microsoft Natural Ergonomic Keyboard 4000   \n",
       "1  Azio Vision Backlit USB Keyboard with Large Pr...   \n",
       "2  iPazzPort 3-color Backlit Wireless Mini Keyboa...   \n",
       "3  iBenzer MacBook Air 11 Inch Case, Soft Touch H...   \n",
       "4  Foldable Bluetooth Keyboard, Jelly Comb B003B ...   \n",
       "5  HP Wired USB Keyboard K1500 (Black) (H3C52AA#ABA)   \n",
       "6  ZAGG Slim Book Ultrathin Case, Hinged with Det...   \n",
       "7  Redragon K502 Gaming Keyboard RGB LED Backlit ...   \n",
       "8  Wireless Keyboard and Mouse - Jelly Comb K025 ...   \n",
       "9  Monoprice 32ft 10M USB 2.0 A Male to A Female ...   \n",
       "\n",
       "                                               image       brand  \\\n",
       "0  ['https://images-na.ssl-images-amazon.com/imag...   Microsoft   \n",
       "1  ['https://images-na.ssl-images-amazon.com/imag...        Azio   \n",
       "2  ['https://images-na.ssl-images-amazon.com/imag...   iPazzPort   \n",
       "3  ['https://images-na.ssl-images-amazon.com/imag...     IBENZER   \n",
       "4  ['https://images-na.ssl-images-amazon.com/imag...  Jelly Comb   \n",
       "5  ['https://images-na.ssl-images-amazon.com/imag...          HP   \n",
       "6  ['https://images-na.ssl-images-amazon.com/imag...        ZAGG   \n",
       "7  ['https://images-na.ssl-images-amazon.com/imag...    Redragon   \n",
       "8  ['https://images-na.ssl-images-amazon.com/imag...  Jelly Comb   \n",
       "9  ['https://images-na.ssl-images-amazon.com/imag...   Monoprice   \n",
       "\n",
       "                                             feature  \\\n",
       "0  ['Split ergonomic design encourages natural ha...   \n",
       "1  ['Easy to see large print keys. 2x Larger than...   \n",
       "2  ['3 in 1 multifunction 2.4ghz mini wireless qw...   \n",
       "3  ['Compatibility - MacBook Air 11 Inch model A1...   \n",
       "4  ['FOLDING BLUETOOTH KEYBOARD: Bluetooth 3.0 te...   \n",
       "5  ['Get-more-done productivity: Achieve more wit...   \n",
       "6  [\"Thin: Its ultrathin design is easy to carry ...   \n",
       "7  ['SILENT GAMING KEYBOARD; 104 Key Gaming Keybo...   \n",
       "8  ['RELIABLE 2.4GHz WIRELESS CONNECTION: 10m or ...   \n",
       "9  ['Compliant with USB 2.0 High Speed (480Mbps) ...   \n",
       "\n",
       "                                                rank         main_cat  \\\n",
       "0  ['>#222 in Computers & Accessories > Computer ...  All Electronics   \n",
       "1  ['>#56 in Computers & Accessories > Computer A...        Computers   \n",
       "2  ['>#82 in Computers & Accessories > Computer A...        Computers   \n",
       "3  ['>#259 in Computers & Accessories > Laptop Ac...        Computers   \n",
       "4  ['>#37 in Computers & Accessories > Tablet Acc...        Computers   \n",
       "5  ['>#25 in Computers & Accessories > Computer A...        Computers   \n",
       "6  ['>#188 in Computers & Accessories > Tablet Ac...        Computers   \n",
       "7  >#263 in Computers & Accessories > Computer Ac...        Computers   \n",
       "8  ['>#323 in Computers & Accessories > Computer ...        Computers   \n",
       "9  ['>#300 in Electronics > Accessories & Supplie...        Computers   \n",
       "\n",
       "                 date   price  \\\n",
       "0  September 27, 2017     NaN   \n",
       "1    October 21, 2017   $2.54   \n",
       "2       June 23, 2017  $14.99   \n",
       "3     August 28, 2017  $12.99   \n",
       "4      April 27, 2017  $32.99   \n",
       "5       July 28, 2017  $14.99   \n",
       "6     October 6, 2017  $54.99   \n",
       "7       July 28, 2017     NaN   \n",
       "8       July 18, 2018   $2.54   \n",
       "9     October 6, 2017  $14.97   \n",
       "\n",
       "                                            also_buy  \\\n",
       "0  ['B00FPAVUHC', 'B0043T7FXE', 'B001F42MKG', 'B0...   \n",
       "1  ['B00ERV026K', 'B0787QZ6WD', 'B075WW7V6W', 'B0...   \n",
       "2  ['B07BCC8PK7', 'B06XHY5VXF', 'B0153R2A9I', 'B0...   \n",
       "3  ['B01AJVYE9W', 'B00VVLE5CG', 'B007TA1YNQ', 'B0...   \n",
       "4  ['B07G723CB2', 'B079TL2TGY', 'B01HRIDPOA', 'B0...   \n",
       "5                                                NaN   \n",
       "6  ['B00MJX9CFU', 'B00P7TQR3S', 'B00PYMHOG2', 'B0...   \n",
       "7  ['B00HTK1NCS', 'B011HMDZ0Q', 'B00GU4F4OM', 'B0...   \n",
       "8  ['B01B4RWTAG', 'B001CJRM36', 'B0181JTPCU', 'B0...   \n",
       "9  ['B00BDE4IUK', 'B003M6FDS8', 'B0044D7J1W', 'B0...   \n",
       "\n",
       "                                           also_view  \\\n",
       "0  ['B075GZVD4T', 'B002MMY4WY', 'B00CYX26BC', 'B0...   \n",
       "1  ['B003VAGXWK', 'B00AGI7NKG', 'B007ZUC7DG', 'B0...   \n",
       "2  ['B015J6TEN8', 'B00Z81U3YY', 'B017N6J44G', 'B0...   \n",
       "3  ['B07L17HNZR', 'B07KQNHKVL', 'B00H0272VQ', 'B0...   \n",
       "4  ['B018K5EJCQ', 'B078K1FFCP', 'B01MTVC775', 'B0...   \n",
       "5  ['B005EOWBHC', 'B00ZYLMQH0', 'B004YDSPSS', 'B0...   \n",
       "6  ['B00MJX9CFU', 'B078883T1C', 'B00X5X1XXW', 'B0...   \n",
       "7  ['B073DBS35C', 'B074DRFHYS', 'B01EOH2JLW', 'B0...   \n",
       "8                                                NaN   \n",
       "9  ['B01L81WQ2O', 'B004AGX4YO', 'B005LJKEXS', 'B0...   \n",
       "\n",
       "                                        similar_item  \\\n",
       "0  [{'asin': '', 'href': '', 'name': 'Microsoft N...   \n",
       "1  [{'asin': '', 'href': '', 'name': 'Azio Vision...   \n",
       "2  [{'asin': '', 'href': '', 'name': 'iPazzPort 3...   \n",
       "3  [{'asin': '', 'href': '', 'name': 'iBenzer Mac...   \n",
       "4  [{'asin': '', 'href': '', 'name': 'Foldable Bl...   \n",
       "5  [{'asin': '', 'href': '', 'name': 'HP Wired US...   \n",
       "6  [{'asin': '', 'href': '', 'name': 'ZAGG Slim B...   \n",
       "7  [{'asin': '', 'href': '', 'name': 'Redragon K5...   \n",
       "8  [{'asin': '', 'href': '', 'name': 'Wireless Ke...   \n",
       "9  [{'asin': '', 'href': '', 'name': 'Monoprice 3...   \n",
       "\n",
       "                                               tech1  \\\n",
       "0                                                NaN   \n",
       "1                   {'Number of USB 2.0 Ports': '1'}   \n",
       "2                                                NaN   \n",
       "3                                                NaN   \n",
       "4                                                NaN   \n",
       "5  {'Brand Name': 'HP', 'Series': 'H3C52AA', 'Ite...   \n",
       "6                      {'Screen Size': '9.7 inches'}   \n",
       "7  {'Brand Name': 'Redragon', 'Series': 'K502 Kar...   \n",
       "8                                                NaN   \n",
       "9  {'Brand Name': 'Monoprice', 'Item model number...   \n",
       "\n",
       "                                               tech2  details  fit  \n",
       "0                                                NaN      NaN  NaN  \n",
       "1  {'Brand Name': 'Azio', 'Item model number': 'K...      NaN  NaN  \n",
       "2                                                NaN      NaN  NaN  \n",
       "3                                                NaN      NaN  NaN  \n",
       "4                                                NaN      NaN  NaN  \n",
       "5                                                NaN      NaN  NaN  \n",
       "6  {'Brand Name': 'ZAGG', 'Item model number': 'I...      NaN  NaN  \n",
       "7                                                NaN      NaN  NaN  \n",
       "8                                                NaN      NaN  NaN  \n",
       "9                                                NaN      NaN  NaN  "
      ]
     },
     "execution_count": 44,
     "metadata": {},
     "output_type": "execute_result"
    }
   ],
   "source": [
    "meta"
   ]
  },
  {
   "cell_type": "code",
   "execution_count": 11,
   "metadata": {},
   "outputs": [
    {
     "data": {
      "text/html": [
       "<div>\n",
       "<style scoped>\n",
       "    .dataframe tbody tr th:only-of-type {\n",
       "        vertical-align: middle;\n",
       "    }\n",
       "\n",
       "    .dataframe tbody tr th {\n",
       "        vertical-align: top;\n",
       "    }\n",
       "\n",
       "    .dataframe thead th {\n",
       "        text-align: right;\n",
       "    }\n",
       "</style>\n",
       "<table border=\"1\" class=\"dataframe\">\n",
       "  <thead>\n",
       "    <tr style=\"text-align: right;\">\n",
       "      <th></th>\n",
       "      <th>Unnamed: 0</th>\n",
       "      <th>asin</th>\n",
       "      <th>title</th>\n",
       "      <th>overall</th>\n",
       "      <th>vote</th>\n",
       "      <th>verified</th>\n",
       "      <th>reviewTime</th>\n",
       "      <th>reviewerID</th>\n",
       "      <th>style</th>\n",
       "      <th>reviewerName</th>\n",
       "      <th>reviewText</th>\n",
       "      <th>summary</th>\n",
       "      <th>unixReviewTime</th>\n",
       "      <th>image</th>\n",
       "    </tr>\n",
       "  </thead>\n",
       "  <tbody>\n",
       "    <tr>\n",
       "      <th>0</th>\n",
       "      <td>0</td>\n",
       "      <td>B000A6PPOK</td>\n",
       "      <td>Microsoft Natural Ergonomic Keyboard 4000</td>\n",
       "      <td>5.0</td>\n",
       "      <td>1,113</td>\n",
       "      <td>True</td>\n",
       "      <td>10 18, 2005</td>\n",
       "      <td>AILCWT1IIP7ZT</td>\n",
       "      <td>{'Style:': ' Retail'}</td>\n",
       "      <td>Charles Chen</td>\n",
       "      <td>As a software developer, I am literally attach...</td>\n",
       "      <td>Best Overall Keyboard to Date</td>\n",
       "      <td>1129593600</td>\n",
       "      <td>NaN</td>\n",
       "    </tr>\n",
       "    <tr>\n",
       "      <th>1</th>\n",
       "      <td>1</td>\n",
       "      <td>B000A6PPOK</td>\n",
       "      <td>Microsoft Natural Ergonomic Keyboard 4000</td>\n",
       "      <td>5.0</td>\n",
       "      <td>16</td>\n",
       "      <td>True</td>\n",
       "      <td>10 12, 2005</td>\n",
       "      <td>A300T403J8526F</td>\n",
       "      <td>{'Style:': ' Retail'}</td>\n",
       "      <td>T. Becker</td>\n",
       "      <td>I've had a Natural Keyboard Pro for years, and...</td>\n",
       "      <td>Best keyboard I've used</td>\n",
       "      <td>1129075200</td>\n",
       "      <td>NaN</td>\n",
       "    </tr>\n",
       "    <tr>\n",
       "      <th>2</th>\n",
       "      <td>2</td>\n",
       "      <td>B000A6PPOK</td>\n",
       "      <td>Microsoft Natural Ergonomic Keyboard 4000</td>\n",
       "      <td>4.0</td>\n",
       "      <td>11</td>\n",
       "      <td>True</td>\n",
       "      <td>10 5, 2005</td>\n",
       "      <td>AFPGV3IQ9K691</td>\n",
       "      <td>{'Style:': ' Retail'}</td>\n",
       "      <td>GDC</td>\n",
       "      <td>As with most Microsoft products, great hardwar...</td>\n",
       "      <td>Great keyboard, poor software.</td>\n",
       "      <td>1128470400</td>\n",
       "      <td>NaN</td>\n",
       "    </tr>\n",
       "    <tr>\n",
       "      <th>3</th>\n",
       "      <td>3</td>\n",
       "      <td>B000A6PPOK</td>\n",
       "      <td>Microsoft Natural Ergonomic Keyboard 4000</td>\n",
       "      <td>5.0</td>\n",
       "      <td>NaN</td>\n",
       "      <td>True</td>\n",
       "      <td>05 15, 2018</td>\n",
       "      <td>A2FMMCFQ8702DN</td>\n",
       "      <td>{'Style:': ' Business'}</td>\n",
       "      <td>Wickenball</td>\n",
       "      <td>Love it.</td>\n",
       "      <td>Five Stars</td>\n",
       "      <td>1526342400</td>\n",
       "      <td>NaN</td>\n",
       "    </tr>\n",
       "    <tr>\n",
       "      <th>4</th>\n",
       "      <td>4</td>\n",
       "      <td>B000A6PPOK</td>\n",
       "      <td>Microsoft Natural Ergonomic Keyboard 4000</td>\n",
       "      <td>5.0</td>\n",
       "      <td>NaN</td>\n",
       "      <td>True</td>\n",
       "      <td>05 12, 2018</td>\n",
       "      <td>A1I8WBJSZIPJE0</td>\n",
       "      <td>{'Style:': ' Business'}</td>\n",
       "      <td>B. Stearn</td>\n",
       "      <td>I've had various versions of this keyboard for...</td>\n",
       "      <td>Five Stars</td>\n",
       "      <td>1526083200</td>\n",
       "      <td>NaN</td>\n",
       "    </tr>\n",
       "  </tbody>\n",
       "</table>\n",
       "</div>"
      ],
      "text/plain": [
       "   Unnamed: 0        asin                                      title  overall  \\\n",
       "0           0  B000A6PPOK  Microsoft Natural Ergonomic Keyboard 4000      5.0   \n",
       "1           1  B000A6PPOK  Microsoft Natural Ergonomic Keyboard 4000      5.0   \n",
       "2           2  B000A6PPOK  Microsoft Natural Ergonomic Keyboard 4000      4.0   \n",
       "3           3  B000A6PPOK  Microsoft Natural Ergonomic Keyboard 4000      5.0   \n",
       "4           4  B000A6PPOK  Microsoft Natural Ergonomic Keyboard 4000      5.0   \n",
       "\n",
       "    vote  verified   reviewTime      reviewerID                    style  \\\n",
       "0  1,113      True  10 18, 2005   AILCWT1IIP7ZT    {'Style:': ' Retail'}   \n",
       "1     16      True  10 12, 2005  A300T403J8526F    {'Style:': ' Retail'}   \n",
       "2     11      True   10 5, 2005   AFPGV3IQ9K691    {'Style:': ' Retail'}   \n",
       "3    NaN      True  05 15, 2018  A2FMMCFQ8702DN  {'Style:': ' Business'}   \n",
       "4    NaN      True  05 12, 2018  A1I8WBJSZIPJE0  {'Style:': ' Business'}   \n",
       "\n",
       "   reviewerName                                         reviewText  \\\n",
       "0  Charles Chen  As a software developer, I am literally attach...   \n",
       "1     T. Becker  I've had a Natural Keyboard Pro for years, and...   \n",
       "2           GDC  As with most Microsoft products, great hardwar...   \n",
       "3    Wickenball                                           Love it.   \n",
       "4     B. Stearn  I've had various versions of this keyboard for...   \n",
       "\n",
       "                          summary  unixReviewTime image  \n",
       "0   Best Overall Keyboard to Date      1129593600   NaN  \n",
       "1         Best keyboard I've used      1129075200   NaN  \n",
       "2  Great keyboard, poor software.      1128470400   NaN  \n",
       "3                      Five Stars      1526342400   NaN  \n",
       "4                      Five Stars      1526083200   NaN  "
      ]
     },
     "execution_count": 11,
     "metadata": {},
     "output_type": "execute_result"
    }
   ],
   "source": [
    "review.head()"
   ]
  },
  {
   "cell_type": "markdown",
   "metadata": {},
   "source": [
    "## Doc2Vec"
   ]
  },
  {
   "cell_type": "code",
   "execution_count": 121,
   "metadata": {},
   "outputs": [
    {
     "data": {
      "text/html": [
       "<div>\n",
       "<style scoped>\n",
       "    .dataframe tbody tr th:only-of-type {\n",
       "        vertical-align: middle;\n",
       "    }\n",
       "\n",
       "    .dataframe tbody tr th {\n",
       "        vertical-align: top;\n",
       "    }\n",
       "\n",
       "    .dataframe thead th {\n",
       "        text-align: right;\n",
       "    }\n",
       "</style>\n",
       "<table border=\"1\" class=\"dataframe\">\n",
       "  <thead>\n",
       "    <tr style=\"text-align: right;\">\n",
       "      <th></th>\n",
       "      <th>asin</th>\n",
       "      <th>title</th>\n",
       "      <th>reviewText</th>\n",
       "    </tr>\n",
       "  </thead>\n",
       "  <tbody>\n",
       "    <tr>\n",
       "      <th>0</th>\n",
       "      <td>B000A6PPOK</td>\n",
       "      <td>Microsoft Natural Ergonomic Keyboard 4000</td>\n",
       "      <td>As a software developer, I am literally attach...</td>\n",
       "    </tr>\n",
       "    <tr>\n",
       "      <th>1</th>\n",
       "      <td>B004HJDUW0</td>\n",
       "      <td>Monoprice 32ft 10M USB 2.0 A Male to A Female ...</td>\n",
       "      <td>I have a LifeCam VX-5000 HD webcam on the end ...</td>\n",
       "    </tr>\n",
       "    <tr>\n",
       "      <th>2</th>\n",
       "      <td>B00D9UTZWW</td>\n",
       "      <td>iBenzer MacBook Air 11 Inch Case, Soft Touch H...</td>\n",
       "      <td>Don't love the keyboard screen, but the case i...</td>\n",
       "    </tr>\n",
       "    <tr>\n",
       "      <th>3</th>\n",
       "      <td>B00E4TOWR0</td>\n",
       "      <td>HP Wired USB Keyboard K1500 (Black) (H3C52AA#ABA)</td>\n",
       "      <td>Love it.  The keys are placed where I like the...</td>\n",
       "    </tr>\n",
       "    <tr>\n",
       "      <th>4</th>\n",
       "      <td>B00I0S6SK0</td>\n",
       "      <td>Azio Vision Backlit USB Keyboard with Large Pr...</td>\n",
       "      <td>This is just what I needed and it works great....</td>\n",
       "    </tr>\n",
       "    <tr>\n",
       "      <th>5</th>\n",
       "      <td>B00KF9IVKC</td>\n",
       "      <td>iPazzPort 3-color Backlit Wireless Mini Keyboa...</td>\n",
       "      <td>For $11.99 you can't go wrong. The keyboard ha...</td>\n",
       "    </tr>\n",
       "    <tr>\n",
       "      <th>6</th>\n",
       "      <td>B00LSGKEC4</td>\n",
       "      <td>Redragon K502 Gaming Keyboard RGB LED Backlit ...</td>\n",
       "      <td>This would have been five stars, but I receive...</td>\n",
       "    </tr>\n",
       "    <tr>\n",
       "      <th>7</th>\n",
       "      <td>B00NG8EJOG</td>\n",
       "      <td>Foldable Bluetooth Keyboard, Jelly Comb B003B ...</td>\n",
       "      <td>Outstanding little bluetooth keyboard. I'm usi...</td>\n",
       "    </tr>\n",
       "    <tr>\n",
       "      <th>8</th>\n",
       "      <td>B00O1B59AU</td>\n",
       "      <td>ZAGG Slim Book Ultrathin Case, Hinged with Det...</td>\n",
       "      <td>Zagg has really gone downhill in quality.  I'v...</td>\n",
       "    </tr>\n",
       "    <tr>\n",
       "      <th>9</th>\n",
       "      <td>B0194MC7JG</td>\n",
       "      <td>Wireless Keyboard and Mouse - Jelly Comb K025 ...</td>\n",
       "      <td>I didn't think it would be possible with this ...</td>\n",
       "    </tr>\n",
       "  </tbody>\n",
       "</table>\n",
       "</div>"
      ],
      "text/plain": [
       "         asin                                              title  \\\n",
       "0  B000A6PPOK          Microsoft Natural Ergonomic Keyboard 4000   \n",
       "1  B004HJDUW0  Monoprice 32ft 10M USB 2.0 A Male to A Female ...   \n",
       "2  B00D9UTZWW  iBenzer MacBook Air 11 Inch Case, Soft Touch H...   \n",
       "3  B00E4TOWR0  HP Wired USB Keyboard K1500 (Black) (H3C52AA#ABA)   \n",
       "4  B00I0S6SK0  Azio Vision Backlit USB Keyboard with Large Pr...   \n",
       "5  B00KF9IVKC  iPazzPort 3-color Backlit Wireless Mini Keyboa...   \n",
       "6  B00LSGKEC4  Redragon K502 Gaming Keyboard RGB LED Backlit ...   \n",
       "7  B00NG8EJOG  Foldable Bluetooth Keyboard, Jelly Comb B003B ...   \n",
       "8  B00O1B59AU  ZAGG Slim Book Ultrathin Case, Hinged with Det...   \n",
       "9  B0194MC7JG  Wireless Keyboard and Mouse - Jelly Comb K025 ...   \n",
       "\n",
       "                                          reviewText  \n",
       "0  As a software developer, I am literally attach...  \n",
       "1  I have a LifeCam VX-5000 HD webcam on the end ...  \n",
       "2  Don't love the keyboard screen, but the case i...  \n",
       "3  Love it.  The keys are placed where I like the...  \n",
       "4  This is just what I needed and it works great....  \n",
       "5  For $11.99 you can't go wrong. The keyboard ha...  \n",
       "6  This would have been five stars, but I receive...  \n",
       "7  Outstanding little bluetooth keyboard. I'm usi...  \n",
       "8  Zagg has really gone downhill in quality.  I'v...  \n",
       "9  I didn't think it would be possible with this ...  "
      ]
     },
     "execution_count": 121,
     "metadata": {},
     "output_type": "execute_result"
    }
   ],
   "source": [
    "review_agg = review.groupby(['asin', 'title'], as_index=False)[['reviewText']].agg(sum)\n",
    "review_agg"
   ]
  },
  {
   "cell_type": "markdown",
   "metadata": {},
   "source": [
    "### Cleaning"
   ]
  },
  {
   "cell_type": "code",
   "execution_count": 122,
   "metadata": {},
   "outputs": [],
   "source": [
    "review_agg['tokenized_words'] = review_agg['reviewText'].apply(lambda x: \n",
    "                                                               lucem_illud_2020.word_tokenize(x))\n",
    "review_agg['normalized_words'] = review_agg['tokenized_words'].apply(lambda x: \n",
    "                                                                     lucem_illud_2020.normalizeTokens(x, lemma=False))"
   ]
  },
  {
   "cell_type": "code",
   "execution_count": 149,
   "metadata": {},
   "outputs": [],
   "source": [
    "keywords = ['keyboard', 'Microsoft', 'HP', 'MacBook', 'Monoprice', \n",
    "            'Azio', 'iPazzPort', 'Redragon', 'Jelly', 'ZAGG']"
   ]
  },
  {
   "cell_type": "code",
   "execution_count": 150,
   "metadata": {},
   "outputs": [],
   "source": [
    "taggedDocs = []\n",
    "for index, row in review_agg.iterrows():\n",
    "    #Just doing a simple keyword assignment\n",
    "    docKeywords = [s for s in keywords if s in row['normalized_words']]\n",
    "    docKeywords.append(row['asin'])\n",
    "    docKeywords.append(row['title']) #This lets us extract individual documnets since doi's are unique\n",
    "    taggedDocs.append(gensim.models.doc2vec.LabeledSentence(words = row['normalized_words'], tags = docKeywords))\n",
    "review_agg['TaggedReviews'] = taggedDocs"
   ]
  },
  {
   "cell_type": "code",
   "execution_count": 151,
   "metadata": {},
   "outputs": [
    {
     "data": {
      "text/plain": [
       "['keyboard',\n",
       " 'B0194MC7JG',\n",
       " 'Wireless Keyboard and Mouse - Jelly Comb K025 Compact 2.4Ghz Wireless Keyboard Mouse - Keyboard and Mouse Combo- Compatible with PC Laptop Windows 7/8/10-Updated (Yellow and Black)']"
      ]
     },
     "execution_count": 151,
     "metadata": {},
     "output_type": "execute_result"
    }
   ],
   "source": [
    "docKeywords"
   ]
  },
  {
   "cell_type": "markdown",
   "metadata": {},
   "source": [
    "### Model"
   ]
  },
  {
   "cell_type": "code",
   "execution_count": 153,
   "metadata": {},
   "outputs": [],
   "source": [
    "dfD2V = gensim.models.doc2vec.Doc2Vec(review_agg['TaggedReviews'], vector_size = 100) #Limiting to 100 dimensions"
   ]
  },
  {
   "cell_type": "markdown",
   "metadata": {},
   "source": [
    "### Analysis"
   ]
  },
  {
   "cell_type": "code",
   "execution_count": 154,
   "metadata": {},
   "outputs": [
    {
     "data": {
      "text/plain": [
       "[('price', 0.9982938766479492)]"
      ]
     },
     "execution_count": 154,
     "metadata": {},
     "output_type": "execute_result"
    }
   ],
   "source": [
    "dfD2V.most_similar(positive = ['feel','great'], negative = ['like'], topn = 1)"
   ]
  },
  {
   "cell_type": "markdown",
   "metadata": {},
   "source": [
    "#### Words that are most similar to the whole document"
   ]
  },
  {
   "cell_type": "code",
   "execution_count": 155,
   "metadata": {},
   "outputs": [
    {
     "data": {
      "text/plain": [
       "[('esc', 0.9445194602012634),\n",
       " ('loudest', 0.9021098613739014),\n",
       " ('palms', 0.8328696489334106),\n",
       " ('elite', 0.8097238540649414),\n",
       " ('reaching', 0.8017771244049072)]"
      ]
     },
     "execution_count": 155,
     "metadata": {},
     "output_type": "execute_result"
    }
   ],
   "source": [
    "dfD2V.most_similar( [ dfD2V.docvecs['B000A6PPOK']], topn=5) "
   ]
  },
  {
   "cell_type": "code",
   "execution_count": 156,
   "metadata": {},
   "outputs": [
    {
     "data": {
      "text/plain": [
       "[('receiver', 0.993975043296814),\n",
       " ('port', 0.9919992089271545),\n",
       " ('os', 0.9847533702850342),\n",
       " ('plug', 0.9733117818832397),\n",
       " ('recognized', 0.9720518589019775)]"
      ]
     },
     "execution_count": 156,
     "metadata": {},
     "output_type": "execute_result"
    }
   ],
   "source": [
    "dfD2V.most_similar( [ dfD2V.docvecs['B004HJDUW0'] ], topn=5) "
   ]
  },
  {
   "cell_type": "markdown",
   "metadata": {},
   "source": [
    "#### Recommend products by keywords"
   ]
  },
  {
   "cell_type": "code",
   "execution_count": 157,
   "metadata": {},
   "outputs": [
    {
     "data": {
      "text/plain": [
       "[('HP Wired USB Keyboard K1500 (Black) (H3C52AA#ABA)', 0.9216263294219971),\n",
       " ('B00E4TOWR0', 0.9215660691261292),\n",
       " ('keyboard', 0.9141351580619812),\n",
       " ('Monoprice 32ft 10M USB 2.0 A Male to A Female Active Extension / Repeater Cable use with PlayStation, Xbox, Kinenct, Oculus VR, USB Flash Drive, Card Reader, Hard Drive, Keyboard, Printer, Camera and More!',\n",
       "  0.8484570980072021),\n",
       " ('B004HJDUW0', 0.8481110334396362)]"
      ]
     },
     "execution_count": 157,
     "metadata": {},
     "output_type": "execute_result"
    }
   ],
   "source": [
    "dfD2V.docvecs.most_similar([dfD2V['wireless']], topn=5 )"
   ]
  },
  {
   "cell_type": "code",
   "execution_count": 158,
   "metadata": {},
   "outputs": [
    {
     "data": {
      "text/plain": [
       "[('keyboard', 0.9874275326728821),\n",
       " ('HP Wired USB Keyboard K1500 (Black) (H3C52AA#ABA)', 0.9399813413619995),\n",
       " ('B00E4TOWR0', 0.9399290084838867),\n",
       " ('Foldable Bluetooth Keyboard, Jelly Comb B003B Dual Mode USB Wired & Bluetooth Keyboard with Touchpad Rechargeable for Windows Android Tablet Smartphone Surface and More-Updated (Black)',\n",
       "  0.783848226070404),\n",
       " ('B00NG8EJOG', 0.7819780111312866)]"
      ]
     },
     "execution_count": 158,
     "metadata": {},
     "output_type": "execute_result"
    }
   ],
   "source": [
    "dfD2V.docvecs.most_similar([ dfD2V['wireless']+dfD2V['keyboard']], topn=5 )"
   ]
  },
  {
   "cell_type": "markdown",
   "metadata": {},
   "source": [
    "#### Heatmap: cosine similarities between products"
   ]
  },
  {
   "cell_type": "code",
   "execution_count": 159,
   "metadata": {},
   "outputs": [],
   "source": [
    "targetDocs = review_agg['asin']\n",
    "\n",
    "heatmapMatrixD = []\n",
    "\n",
    "for tagOuter in targetDocs:\n",
    "    column = []\n",
    "    tagVec = dfD2V.docvecs[tagOuter].reshape(1, -1)\n",
    "    for tagInner in targetDocs:\n",
    "        column.append(sklearn.metrics.pairwise.cosine_similarity(tagVec, dfD2V.docvecs[tagInner].reshape(1, -1))[0][0])\n",
    "    heatmapMatrixD.append(column)\n",
    "heatmapMatrixD = np.array(heatmapMatrixD)"
   ]
  },
  {
   "cell_type": "code",
   "execution_count": 160,
   "metadata": {},
   "outputs": [
    {
     "data": {
      "image/png": "[encoded data removed]",
      "text/plain": [
       "<Figure size 432x288 with 2 Axes>"
      ]
     },
     "metadata": {
      "needs_background": "light"
     },
     "output_type": "display_data"
    }
   ],
   "source": [
    "fig, ax = plt.subplots()\n",
    "hmap = ax.pcolor(heatmapMatrixD, cmap='terrain')\n",
    "cbar = plt.colorbar(hmap)\n",
    "\n",
    "cbar.set_label('cosine similarity', rotation=270)\n",
    "a = ax.set_xticks(np.arange(heatmapMatrixD.shape[1]) + 0.5, minor=False)\n",
    "a = ax.set_yticks(np.arange(heatmapMatrixD.shape[0]) + 0.5, minor=False)\n",
    "\n",
    "a = ax.set_xticklabels(targetDocs, minor=False, rotation=270)\n",
    "a = ax.set_yticklabels(targetDocs, minor=False)"
   ]
  },
  {
   "cell_type": "code",
   "execution_count": null,
   "metadata": {},
   "outputs": [],
   "source": []
  },
  {
   "cell_type": "markdown",
   "metadata": {},
   "source": [
    "## Scoring function"
   ]
  },
  {
   "cell_type": "markdown",
   "metadata": {},
   "source": [
    "calculate the likelihood that a given text would have been generated by a word-embedding model by summing the inner product between each pair of the text's word vectors."
   ]
  },
  {
   "cell_type": "code",
   "execution_count": 183,
   "metadata": {},
   "outputs": [
    {
     "data": {
      "text/html": [
       "<div>\n",
       "<style scoped>\n",
       "    .dataframe tbody tr th:only-of-type {\n",
       "        vertical-align: middle;\n",
       "    }\n",
       "\n",
       "    .dataframe tbody tr th {\n",
       "        vertical-align: top;\n",
       "    }\n",
       "\n",
       "    .dataframe thead th {\n",
       "        text-align: right;\n",
       "    }\n",
       "</style>\n",
       "<table border=\"1\" class=\"dataframe\">\n",
       "  <thead>\n",
       "    <tr style=\"text-align: right;\">\n",
       "      <th></th>\n",
       "      <th>Unnamed: 0</th>\n",
       "      <th>overall</th>\n",
       "      <th>asin</th>\n",
       "      <th>category</th>\n",
       "      <th>description</th>\n",
       "      <th>title</th>\n",
       "      <th>image</th>\n",
       "      <th>brand</th>\n",
       "      <th>feature</th>\n",
       "      <th>rank</th>\n",
       "      <th>...</th>\n",
       "      <th>price</th>\n",
       "      <th>also_buy</th>\n",
       "      <th>also_view</th>\n",
       "      <th>similar_item</th>\n",
       "      <th>tech1</th>\n",
       "      <th>tech2</th>\n",
       "      <th>details</th>\n",
       "      <th>fit</th>\n",
       "      <th>tokenized_words</th>\n",
       "      <th>normalized_words</th>\n",
       "    </tr>\n",
       "  </thead>\n",
       "  <tbody>\n",
       "    <tr>\n",
       "      <th>0</th>\n",
       "      <td>92</td>\n",
       "      <td>2567</td>\n",
       "      <td>B000A6PPOK</td>\n",
       "      <td>['Electronics', 'Computers &amp; Accessories', 'Co...</td>\n",
       "      <td>['USB']</td>\n",
       "      <td>Microsoft Natural Ergonomic Keyboard 4000</td>\n",
       "      <td>['https://images-na.ssl-images-amazon.com/imag...</td>\n",
       "      <td>Microsoft</td>\n",
       "      <td>['Split ergonomic design encourages natural ha...</td>\n",
       "      <td>['&gt;#222 in Computers &amp; Accessories &gt; Computer ...</td>\n",
       "      <td>...</td>\n",
       "      <td>NaN</td>\n",
       "      <td>['B00FPAVUHC', 'B0043T7FXE', 'B001F42MKG', 'B0...</td>\n",
       "      <td>['B075GZVD4T', 'B002MMY4WY', 'B00CYX26BC', 'B0...</td>\n",
       "      <td>[{'asin': '', 'href': '', 'name': 'Microsoft N...</td>\n",
       "      <td>NaN</td>\n",
       "      <td>NaN</td>\n",
       "      <td>NaN</td>\n",
       "      <td>NaN</td>\n",
       "      <td>[Split, ergonomic, design, encourages, natural...</td>\n",
       "      <td>[split, ergonomic, design, encourages, natural...</td>\n",
       "    </tr>\n",
       "  </tbody>\n",
       "</table>\n",
       "<p>1 rows × 22 columns</p>\n",
       "</div>"
      ],
      "text/plain": [
       "   Unnamed: 0  overall        asin  \\\n",
       "0          92     2567  B000A6PPOK   \n",
       "\n",
       "                                            category description  \\\n",
       "0  ['Electronics', 'Computers & Accessories', 'Co...     ['USB']   \n",
       "\n",
       "                                       title  \\\n",
       "0  Microsoft Natural Ergonomic Keyboard 4000   \n",
       "\n",
       "                                               image      brand  \\\n",
       "0  ['https://images-na.ssl-images-amazon.com/imag...  Microsoft   \n",
       "\n",
       "                                             feature  \\\n",
       "0  ['Split ergonomic design encourages natural ha...   \n",
       "\n",
       "                                                rank  ... price  \\\n",
       "0  ['>#222 in Computers & Accessories > Computer ...  ...   NaN   \n",
       "\n",
       "                                            also_buy  \\\n",
       "0  ['B00FPAVUHC', 'B0043T7FXE', 'B001F42MKG', 'B0...   \n",
       "\n",
       "                                           also_view  \\\n",
       "0  ['B075GZVD4T', 'B002MMY4WY', 'B00CYX26BC', 'B0...   \n",
       "\n",
       "                                        similar_item tech1 tech2 details fit  \\\n",
       "0  [{'asin': '', 'href': '', 'name': 'Microsoft N...   NaN   NaN     NaN NaN   \n",
       "\n",
       "                                     tokenized_words  \\\n",
       "0  [Split, ergonomic, design, encourages, natural...   \n",
       "\n",
       "                                    normalized_words  \n",
       "0  [split, ergonomic, design, encourages, natural...  \n",
       "\n",
       "[1 rows x 22 columns]"
      ]
     },
     "execution_count": 183,
     "metadata": {},
     "output_type": "execute_result"
    }
   ],
   "source": [
    "meta['tokenized_words'] = meta['feature'].apply(lambda x: lucem_illud_2020.word_tokenize(x))\n",
    "meta['normalized_words'] = meta['tokenized_words'].apply(lambda x: lucem_illud_2020.normalizeTokens(x, lemma=False))\n",
    "#meta['tokenized_sents'] = meta['tokenized_words'].apply(lambda x: eval(x))\n",
    "#meta['normalized_sents'] = meta['normalized_words'].apply(lambda x: eval(x))\n",
    "meta.head(1)"
   ]
  },
  {
   "cell_type": "code",
   "execution_count": 184,
   "metadata": {},
   "outputs": [],
   "source": [
    "def adprob(ad, model):\n",
    "    '''a function to calculate the likelihood of each job description. '''\n",
    "    sen_scores = model.score(ad, len(ad))\n",
    "    ad_score = sen_scores.mean()\n",
    "    return ad_score"
   ]
  },
  {
   "cell_type": "code",
   "execution_count": 199,
   "metadata": {},
   "outputs": [],
   "source": [
    "self_likelihood = []\n",
    "for i in range(len(meta['asin'])):\n",
    "    W2V = gensim.models.word2vec.Word2Vec(review_agg['normalized_words'].iloc[i], hs=1, negative=0)\n",
    "    vocab = W2V.wv.index2word\n",
    "    self_likelihood.append(adprob(meta['normalized_words'].iloc[i], W2V))"
   ]
  },
  {
   "cell_type": "code",
   "execution_count": 200,
   "metadata": {},
   "outputs": [],
   "source": [
    "meta['self_likelihood'] = self_likelihood"
   ]
  },
  {
   "cell_type": "code",
   "execution_count": 201,
   "metadata": {},
   "outputs": [
    {
     "data": {
      "text/plain": [
       "[-18.474955,\n",
       " -17.892595,\n",
       " -16.424152,\n",
       " -18.367556,\n",
       " -20.032118,\n",
       " -19.850481,\n",
       " -18.256752,\n",
       " -20.395258,\n",
       " -19.734833,\n",
       " -18.994219]"
      ]
     },
     "execution_count": 201,
     "metadata": {},
     "output_type": "execute_result"
    }
   ],
   "source": [
    "self_likelihood"
   ]
  },
  {
   "cell_type": "code",
   "execution_count": 202,
   "metadata": {},
   "outputs": [
    {
     "data": {
      "text/plain": [
       "7"
      ]
     },
     "execution_count": 202,
     "metadata": {},
     "output_type": "execute_result"
    }
   ],
   "source": [
    "np.argmin(self_likelihood)"
   ]
  },
  {
   "cell_type": "code",
   "execution_count": 205,
   "metadata": {},
   "outputs": [
    {
     "data": {
      "text/plain": [
       "'Redragon K502 Gaming Keyboard RGB LED Backlit Illuminated 104 Key Silent Keyboard Karura with Wrist Rest for Windows PC Games (New Improved Version)'"
      ]
     },
     "execution_count": 205,
     "metadata": {},
     "output_type": "execute_result"
    }
   ],
   "source": [
    "meta['title'][np.argmin(self_likelihood)]"
   ]
  },
  {
   "cell_type": "code",
   "execution_count": 203,
   "metadata": {},
   "outputs": [
    {
     "data": {
      "text/plain": [
       "2"
      ]
     },
     "execution_count": 203,
     "metadata": {},
     "output_type": "execute_result"
    }
   ],
   "source": [
    "np.argmax(self_likelihood)"
   ]
  },
  {
   "cell_type": "code",
   "execution_count": 206,
   "metadata": {},
   "outputs": [
    {
     "data": {
      "text/plain": [
       "'iPazzPort 3-color Backlit Wireless Mini Keyboard and Mouse Touchpad for Raspberry Pi 3 Windows, Android, Google, Smart TV, Linux, Mac  KP-810-21SDL-RGB'"
      ]
     },
     "execution_count": 206,
     "metadata": {},
     "output_type": "execute_result"
    }
   ],
   "source": [
    "meta['title'][np.argmax(self_likelihood)]"
   ]
  }
 ],
 "metadata": {
  "kernelspec": {
   "display_name": "Python 3",
   "language": "python",
   "name": "python3"
  },
  "language_info": {
   "codemirror_mode": {
    "name": "ipython",
    "version": 3
   },
   "file_extension": ".py",
   "mimetype": "text/x-python",
   "name": "python",
   "nbconvert_exporter": "python",
   "pygments_lexer": "ipython3",
   "version": "3.7.2"
  },
  "toc": {
   "base_numbering": 1,
   "nav_menu": {},
   "number_sections": true,
   "sideBar": true,
   "skip_h1_title": false,
   "title_cell": "Table of Contents",
   "title_sidebar": "Contents",
   "toc_cell": false,
   "toc_position": {},
   "toc_section_display": true,
   "toc_window_display": false
  }
 },
 "nbformat": 4,
 "nbformat_minor": 2
}
