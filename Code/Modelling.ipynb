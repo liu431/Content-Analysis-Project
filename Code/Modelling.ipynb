{
 "cells": [
  {
   "cell_type": "code",
   "execution_count": 79,
   "metadata": {},
   "outputs": [
    {
     "name": "stderr",
     "output_type": "stream",
     "text": [
      "[nltk_data] Downloading package wordnet to\n",
      "[nltk_data]     C:\\Users\\qmun\\AppData\\Roaming\\nltk_data...\n",
      "[nltk_data]   Package wordnet is already up-to-date!\n"
     ]
    },
    {
     "name": "stdout",
     "output_type": "stream",
     "text": [
      "Collecting pyLDAvis\n",
      "  Downloading https://files.pythonhosted.org/packages/a5/3a/af82e070a8a96e13217c8f362f9a73e82d61ac8fff3a2561946a97f96266/pyLDAvis-2.1.2.tar.gz (1.6MB)\n",
      "Requirement already satisfied: wheel>=0.23.0 in c:\\users\\qmun\\anaconda3\\lib\\site-packages (from pyLDAvis) (0.33.6)\n",
      "Requirement already satisfied: numpy>=1.9.2 in c:\\users\\qmun\\anaconda3\\lib\\site-packages (from pyLDAvis) (1.16.5)\n",
      "Requirement already satisfied: scipy>=0.18.0 in c:\\users\\qmun\\anaconda3\\lib\\site-packages (from pyLDAvis) (1.3.1)\n",
      "Requirement already satisfied: pandas>=0.17.0 in c:\\users\\qmun\\anaconda3\\lib\\site-packages (from pyLDAvis) (0.25.1)\n",
      "Requirement already satisfied: joblib>=0.8.4 in c:\\users\\qmun\\anaconda3\\lib\\site-packages (from pyLDAvis) (0.13.2)\n",
      "Requirement already satisfied: jinja2>=2.7.2 in c:\\users\\qmun\\anaconda3\\lib\\site-packages (from pyLDAvis) (2.10.3)\n",
      "Requirement already satisfied: numexpr in c:\\users\\qmun\\anaconda3\\lib\\site-packages (from pyLDAvis) (2.7.0)\n",
      "Requirement already satisfied: pytest in c:\\users\\qmun\\anaconda3\\lib\\site-packages (from pyLDAvis) (5.2.1)\n",
      "Requirement already satisfied: future in c:\\users\\qmun\\anaconda3\\lib\\site-packages (from pyLDAvis) (0.17.1)\n",
      "Collecting funcy (from pyLDAvis)\n",
      "  Downloading https://files.pythonhosted.org/packages/ce/4b/6ffa76544e46614123de31574ad95758c421aae391a1764921b8a81e1eae/funcy-1.14.tar.gz (548kB)\n",
      "Requirement already satisfied: pytz>=2017.2 in c:\\users\\qmun\\anaconda3\\lib\\site-packages (from pandas>=0.17.0->pyLDAvis) (2019.3)\n",
      "Requirement already satisfied: python-dateutil>=2.6.1 in c:\\users\\qmun\\anaconda3\\lib\\site-packages (from pandas>=0.17.0->pyLDAvis) (2.8.0)\n",
      "Requirement already satisfied: MarkupSafe>=0.23 in c:\\users\\qmun\\anaconda3\\lib\\site-packages (from jinja2>=2.7.2->pyLDAvis) (1.1.1)\n",
      "Requirement already satisfied: py>=1.5.0 in c:\\users\\qmun\\anaconda3\\lib\\site-packages (from pytest->pyLDAvis) (1.8.0)\n",
      "Requirement already satisfied: packaging in c:\\users\\qmun\\anaconda3\\lib\\site-packages (from pytest->pyLDAvis) (19.2)\n",
      "Requirement already satisfied: attrs>=17.4.0 in c:\\users\\qmun\\anaconda3\\lib\\site-packages (from pytest->pyLDAvis) (19.2.0)\n",
      "Requirement already satisfied: more-itertools>=4.0.0 in c:\\users\\qmun\\anaconda3\\lib\\site-packages (from pytest->pyLDAvis) (7.2.0)\n",
      "Requirement already satisfied: atomicwrites>=1.0 in c:\\users\\qmun\\anaconda3\\lib\\site-packages (from pytest->pyLDAvis) (1.3.0)\n",
      "Requirement already satisfied: pluggy<1.0,>=0.12 in c:\\users\\qmun\\anaconda3\\lib\\site-packages (from pytest->pyLDAvis) (0.13.0)\n",
      "Requirement already satisfied: wcwidth in c:\\users\\qmun\\anaconda3\\lib\\site-packages (from pytest->pyLDAvis) (0.1.7)\n",
      "Requirement already satisfied: importlib-metadata>=0.12 in c:\\users\\qmun\\anaconda3\\lib\\site-packages (from pytest->pyLDAvis) (0.23)\n",
      "Requirement already satisfied: colorama in c:\\users\\qmun\\anaconda3\\lib\\site-packages (from pytest->pyLDAvis) (0.4.1)\n",
      "Requirement already satisfied: six>=1.5 in c:\\users\\qmun\\anaconda3\\lib\\site-packages (from python-dateutil>=2.6.1->pandas>=0.17.0->pyLDAvis) (1.12.0)\n",
      "Requirement already satisfied: pyparsing>=2.0.2 in c:\\users\\qmun\\anaconda3\\lib\\site-packages (from packaging->pytest->pyLDAvis) (2.4.2)\n",
      "Requirement already satisfied: zipp>=0.5 in c:\\users\\qmun\\anaconda3\\lib\\site-packages (from importlib-metadata>=0.12->pytest->pyLDAvis) (0.6.0)\n",
      "Building wheels for collected packages: pyLDAvis, funcy\n",
      "  Building wheel for pyLDAvis (setup.py): started\n",
      "  Building wheel for pyLDAvis (setup.py): finished with status 'done'\n",
      "  Created wheel for pyLDAvis: filename=pyLDAvis-2.1.2-py2.py3-none-any.whl size=97715 sha256=724a4e053bdc38c61798e69485f4683a5d38016c59d222d0a5eda0333b8de860\n",
      "  Stored in directory: C:\\Users\\qmun\\AppData\\Local\\pip\\Cache\\wheels\\98\\71\\24\\513a99e58bb6b8465bae4d2d5e9dba8f0bef8179e3051ac414\n",
      "  Building wheel for funcy (setup.py): started\n",
      "  Building wheel for funcy (setup.py): finished with status 'done'\n",
      "  Created wheel for funcy: filename=funcy-1.14-py2.py3-none-any.whl size=32045 sha256=47f3d69a2d11fc5298bcbaa6dd862f55e442f6a60f173f10e4b014cf93fec320\n",
      "  Stored in directory: C:\\Users\\qmun\\AppData\\Local\\pip\\Cache\\wheels\\20\\5a\\d8\\1d875df03deae6f178dfdf70238cca33f948ef8a6f5209f2eb\n",
      "Successfully built pyLDAvis funcy\n",
      "Installing collected packages: funcy, pyLDAvis\n",
      "Successfully installed funcy-1.14 pyLDAvis-2.1.2\n"
     ]
    }
   ],
   "source": [
    "import lucem_illud_2020 #pip install -U git+git://github.com/Computational-Content-Analysis-2020/lucem_illud_2020.git\n",
    "import scipy #For hierarchical clustering and some visuals\n",
    "#import scipy.cluster.hierarchy\n",
    "import gensim#For topic modeling\n",
    "import requests #For downloading our datasets\n",
    "import numpy as np #for arrays\n",
    "import pandas as pd #gives us DataFrames\n",
    "import matplotlib.pyplot as plt #For graphics\n",
    "import matplotlib.cm #Still for graphics\n",
    "import seaborn as sns #Makes the graphics look nicer\n",
    "\n",
    "#This 'magic' command makes the plots work better\n",
    "#in the notebook, don't use it outside of a notebook.\n",
    "#Also you can ignore the warning, it\n",
    "%matplotlib inline\n",
    "\n",
    "import itertools\n",
    "import json\n",
    "\n",
    "# comp-linguistics\n",
    "import scipy\n",
    "import spacy\n",
    "import en_core_web_sm\n",
    "import nltk\n",
    "\n",
    "nltk.download('wordnet')\n",
    "from nltk.stem import WordNetLemmatizer, SnowballStemmer\n",
    "stemmer = SnowballStemmer(\"english\")\n",
    "from nltk.stem.porter import *\n",
    "\n",
    "import gensim\n",
    "from gensim.utils import simple_preprocess\n",
    "from gensim.parsing.preprocessing import STOPWORDS\n",
    "from gensim import corpora, models\n",
    "import gensim.corpora as corpora\n",
    "from gensim.utils import simple_preprocess\n",
    "from gensim.models import CoherenceModel\n",
    "from pprint import pprint\n",
    "\n",
    "# Plotting tools\n",
    "!pip install pyLDAvis\n",
    "import pyLDAvis\n",
    "import pyLDAvis.gensim"
   ]
  },
  {
   "cell_type": "markdown",
   "metadata": {},
   "source": [
    "### Loading and Cleaning the data"
   ]
  },
  {
   "cell_type": "code",
   "execution_count": 54,
   "metadata": {},
   "outputs": [
    {
     "data": {
      "text/html": [
       "<div>\n",
       "<style scoped>\n",
       "    .dataframe tbody tr th:only-of-type {\n",
       "        vertical-align: middle;\n",
       "    }\n",
       "\n",
       "    .dataframe tbody tr th {\n",
       "        vertical-align: top;\n",
       "    }\n",
       "\n",
       "    .dataframe thead th {\n",
       "        text-align: right;\n",
       "    }\n",
       "</style>\n",
       "<table border=\"1\" class=\"dataframe\">\n",
       "  <thead>\n",
       "    <tr style=\"text-align: right;\">\n",
       "      <th></th>\n",
       "      <th>Unnamed: 0</th>\n",
       "      <th>asin</th>\n",
       "      <th>title</th>\n",
       "      <th>overall</th>\n",
       "      <th>vote</th>\n",
       "      <th>verified</th>\n",
       "      <th>reviewTime</th>\n",
       "      <th>reviewerID</th>\n",
       "      <th>style</th>\n",
       "      <th>reviewerName</th>\n",
       "      <th>reviewText</th>\n",
       "      <th>summary</th>\n",
       "      <th>unixReviewTime</th>\n",
       "      <th>image</th>\n",
       "    </tr>\n",
       "  </thead>\n",
       "  <tbody>\n",
       "    <tr>\n",
       "      <td>0</td>\n",
       "      <td>0</td>\n",
       "      <td>B000A6PPOK</td>\n",
       "      <td>Microsoft Natural Ergonomic Keyboard 4000</td>\n",
       "      <td>5.0</td>\n",
       "      <td>1,113</td>\n",
       "      <td>True</td>\n",
       "      <td>10 18, 2005</td>\n",
       "      <td>AILCWT1IIP7ZT</td>\n",
       "      <td>{'Style:': ' Retail'}</td>\n",
       "      <td>Charles Chen</td>\n",
       "      <td>As a software developer, I am literally attach...</td>\n",
       "      <td>Best Overall Keyboard to Date</td>\n",
       "      <td>1129593600</td>\n",
       "      <td>NaN</td>\n",
       "    </tr>\n",
       "    <tr>\n",
       "      <td>1</td>\n",
       "      <td>1</td>\n",
       "      <td>B000A6PPOK</td>\n",
       "      <td>Microsoft Natural Ergonomic Keyboard 4000</td>\n",
       "      <td>5.0</td>\n",
       "      <td>16</td>\n",
       "      <td>True</td>\n",
       "      <td>10 12, 2005</td>\n",
       "      <td>A300T403J8526F</td>\n",
       "      <td>{'Style:': ' Retail'}</td>\n",
       "      <td>T. Becker</td>\n",
       "      <td>I've had a Natural Keyboard Pro for years, and...</td>\n",
       "      <td>Best keyboard I've used</td>\n",
       "      <td>1129075200</td>\n",
       "      <td>NaN</td>\n",
       "    </tr>\n",
       "    <tr>\n",
       "      <td>2</td>\n",
       "      <td>2</td>\n",
       "      <td>B000A6PPOK</td>\n",
       "      <td>Microsoft Natural Ergonomic Keyboard 4000</td>\n",
       "      <td>4.0</td>\n",
       "      <td>11</td>\n",
       "      <td>True</td>\n",
       "      <td>10 5, 2005</td>\n",
       "      <td>AFPGV3IQ9K691</td>\n",
       "      <td>{'Style:': ' Retail'}</td>\n",
       "      <td>GDC</td>\n",
       "      <td>As with most Microsoft products, great hardwar...</td>\n",
       "      <td>Great keyboard, poor software.</td>\n",
       "      <td>1128470400</td>\n",
       "      <td>NaN</td>\n",
       "    </tr>\n",
       "    <tr>\n",
       "      <td>3</td>\n",
       "      <td>3</td>\n",
       "      <td>B000A6PPOK</td>\n",
       "      <td>Microsoft Natural Ergonomic Keyboard 4000</td>\n",
       "      <td>5.0</td>\n",
       "      <td>NaN</td>\n",
       "      <td>True</td>\n",
       "      <td>05 15, 2018</td>\n",
       "      <td>A2FMMCFQ8702DN</td>\n",
       "      <td>{'Style:': ' Business'}</td>\n",
       "      <td>Wickenball</td>\n",
       "      <td>Love it.</td>\n",
       "      <td>Five Stars</td>\n",
       "      <td>1526342400</td>\n",
       "      <td>NaN</td>\n",
       "    </tr>\n",
       "    <tr>\n",
       "      <td>4</td>\n",
       "      <td>4</td>\n",
       "      <td>B000A6PPOK</td>\n",
       "      <td>Microsoft Natural Ergonomic Keyboard 4000</td>\n",
       "      <td>5.0</td>\n",
       "      <td>NaN</td>\n",
       "      <td>True</td>\n",
       "      <td>05 12, 2018</td>\n",
       "      <td>A1I8WBJSZIPJE0</td>\n",
       "      <td>{'Style:': ' Business'}</td>\n",
       "      <td>B. Stearn</td>\n",
       "      <td>I've had various versions of this keyboard for...</td>\n",
       "      <td>Five Stars</td>\n",
       "      <td>1526083200</td>\n",
       "      <td>NaN</td>\n",
       "    </tr>\n",
       "  </tbody>\n",
       "</table>\n",
       "</div>"
      ],
      "text/plain": [
       "   Unnamed: 0        asin                                      title  overall  \\\n",
       "0           0  B000A6PPOK  Microsoft Natural Ergonomic Keyboard 4000      5.0   \n",
       "1           1  B000A6PPOK  Microsoft Natural Ergonomic Keyboard 4000      5.0   \n",
       "2           2  B000A6PPOK  Microsoft Natural Ergonomic Keyboard 4000      4.0   \n",
       "3           3  B000A6PPOK  Microsoft Natural Ergonomic Keyboard 4000      5.0   \n",
       "4           4  B000A6PPOK  Microsoft Natural Ergonomic Keyboard 4000      5.0   \n",
       "\n",
       "    vote  verified   reviewTime      reviewerID                    style  \\\n",
       "0  1,113      True  10 18, 2005   AILCWT1IIP7ZT    {'Style:': ' Retail'}   \n",
       "1     16      True  10 12, 2005  A300T403J8526F    {'Style:': ' Retail'}   \n",
       "2     11      True   10 5, 2005   AFPGV3IQ9K691    {'Style:': ' Retail'}   \n",
       "3    NaN      True  05 15, 2018  A2FMMCFQ8702DN  {'Style:': ' Business'}   \n",
       "4    NaN      True  05 12, 2018  A1I8WBJSZIPJE0  {'Style:': ' Business'}   \n",
       "\n",
       "   reviewerName                                         reviewText  \\\n",
       "0  Charles Chen  As a software developer, I am literally attach...   \n",
       "1     T. Becker  I've had a Natural Keyboard Pro for years, and...   \n",
       "2           GDC  As with most Microsoft products, great hardwar...   \n",
       "3    Wickenball                                           Love it.   \n",
       "4     B. Stearn  I've had various versions of this keyboard for...   \n",
       "\n",
       "                          summary  unixReviewTime image  \n",
       "0   Best Overall Keyboard to Date      1129593600   NaN  \n",
       "1         Best keyboard I've used      1129075200   NaN  \n",
       "2  Great keyboard, poor software.      1128470400   NaN  \n",
       "3                      Five Stars      1526342400   NaN  \n",
       "4                      Five Stars      1526083200   NaN  "
      ]
     },
     "execution_count": 54,
     "metadata": {},
     "output_type": "execute_result"
    }
   ],
   "source": [
    "df = pd.read_csv(\"https://raw.githubusercontent.com/liu431/Content-Analysis-Project/master/Data/output_review.csv\")\n",
    "df_meta = pd.read_csv(\"https://raw.githubusercontent.com/liu431/Content-Analysis-Project/master/Data/output_meta.csv\")\n",
    "df.head()"
   ]
  },
  {
   "cell_type": "code",
   "execution_count": 55,
   "metadata": {},
   "outputs": [
    {
     "data": {
      "text/html": [
       "<div>\n",
       "<style scoped>\n",
       "    .dataframe tbody tr th:only-of-type {\n",
       "        vertical-align: middle;\n",
       "    }\n",
       "\n",
       "    .dataframe tbody tr th {\n",
       "        vertical-align: top;\n",
       "    }\n",
       "\n",
       "    .dataframe thead th {\n",
       "        text-align: right;\n",
       "    }\n",
       "</style>\n",
       "<table border=\"1\" class=\"dataframe\">\n",
       "  <thead>\n",
       "    <tr style=\"text-align: right;\">\n",
       "      <th></th>\n",
       "      <th>overall</th>\n",
       "      <th>asin</th>\n",
       "    </tr>\n",
       "    <tr>\n",
       "      <th>ID</th>\n",
       "      <th></th>\n",
       "      <th></th>\n",
       "    </tr>\n",
       "  </thead>\n",
       "  <tbody>\n",
       "    <tr>\n",
       "      <td>B000A6PPOK</td>\n",
       "      <td>2567</td>\n",
       "      <td>B000A6PPOK</td>\n",
       "    </tr>\n",
       "    <tr>\n",
       "      <td>B00I0S6SK0</td>\n",
       "      <td>1805</td>\n",
       "      <td>B00I0S6SK0</td>\n",
       "    </tr>\n",
       "    <tr>\n",
       "      <td>B00E4TOWR0</td>\n",
       "      <td>418</td>\n",
       "      <td>B00E4TOWR0</td>\n",
       "    </tr>\n",
       "    <tr>\n",
       "      <td>B00LSGKEC4</td>\n",
       "      <td>378</td>\n",
       "      <td>B00LSGKEC4</td>\n",
       "    </tr>\n",
       "    <tr>\n",
       "      <td>B0194MC7JG</td>\n",
       "      <td>343</td>\n",
       "      <td>B0194MC7JG</td>\n",
       "    </tr>\n",
       "  </tbody>\n",
       "</table>\n",
       "</div>"
      ],
      "text/plain": [
       "            overall        asin\n",
       "ID                             \n",
       "B000A6PPOK     2567  B000A6PPOK\n",
       "B00I0S6SK0     1805  B00I0S6SK0\n",
       "B00E4TOWR0      418  B00E4TOWR0\n",
       "B00LSGKEC4      378  B00LSGKEC4\n",
       "B0194MC7JG      343  B0194MC7JG"
      ]
     },
     "execution_count": 55,
     "metadata": {},
     "output_type": "execute_result"
    }
   ],
   "source": [
    "tbl = df.groupby('asin').agg({'overall':'count'})\n",
    "tbl = tbl.sort_values(by = ['overall'], ascending = False)\n",
    "tbl['asin'] = tbl.index\n",
    "tbl = tbl.rename_axis(\"ID\")\n",
    "tbl"
   ]
  },
  {
   "cell_type": "code",
   "execution_count": 56,
   "metadata": {},
   "outputs": [
    {
     "data": {
      "text/plain": [
       "(1743, 14)"
      ]
     },
     "execution_count": 56,
     "metadata": {},
     "output_type": "execute_result"
    }
   ],
   "source": [
    "# downsampling\n",
    "df_sample = df[df['asin'] == tbl.index[-1]]\n",
    "for i in range(4):\n",
    "    df_temp = df[df['asin'] == tbl.index[i]].sample(n=350)\n",
    "    df_sample = df_sample.append(df_temp)\n",
    "df_sample.shape"
   ]
  },
  {
   "cell_type": "code",
   "execution_count": 57,
   "metadata": {},
   "outputs": [
    {
     "data": {
      "text/html": [
       "<div>\n",
       "<style scoped>\n",
       "    .dataframe tbody tr th:only-of-type {\n",
       "        vertical-align: middle;\n",
       "    }\n",
       "\n",
       "    .dataframe tbody tr th {\n",
       "        vertical-align: top;\n",
       "    }\n",
       "\n",
       "    .dataframe thead th {\n",
       "        text-align: right;\n",
       "    }\n",
       "</style>\n",
       "<table border=\"1\" class=\"dataframe\">\n",
       "  <thead>\n",
       "    <tr style=\"text-align: right;\">\n",
       "      <th></th>\n",
       "      <th>asin</th>\n",
       "      <th>title</th>\n",
       "      <th>reviewText</th>\n",
       "    </tr>\n",
       "  </thead>\n",
       "  <tbody>\n",
       "    <tr>\n",
       "      <td>0</td>\n",
       "      <td>B000A6PPOK</td>\n",
       "      <td>Microsoft Natural Ergonomic Keyboard 4000</td>\n",
       "      <td>As a software developer, I am literally attach...</td>\n",
       "    </tr>\n",
       "    <tr>\n",
       "      <td>1</td>\n",
       "      <td>B00E4TOWR0</td>\n",
       "      <td>HP Wired USB Keyboard K1500 (Black) (H3C52AA#ABA)</td>\n",
       "      <td>Love it.  The keys are placed where I like the...</td>\n",
       "    </tr>\n",
       "    <tr>\n",
       "      <td>2</td>\n",
       "      <td>B00I0S6SK0</td>\n",
       "      <td>Azio Vision Backlit USB Keyboard with Large Pr...</td>\n",
       "      <td>This is just what I needed and it works great....</td>\n",
       "    </tr>\n",
       "    <tr>\n",
       "      <td>3</td>\n",
       "      <td>B00LSGKEC4</td>\n",
       "      <td>Redragon K502 Gaming Keyboard RGB LED Backlit ...</td>\n",
       "      <td>This would have been five stars, but I receive...</td>\n",
       "    </tr>\n",
       "    <tr>\n",
       "      <td>4</td>\n",
       "      <td>B0194MC7JG</td>\n",
       "      <td>Wireless Keyboard and Mouse - Jelly Comb K025 ...</td>\n",
       "      <td>I didn't think it would be possible with this ...</td>\n",
       "    </tr>\n",
       "  </tbody>\n",
       "</table>\n",
       "</div>"
      ],
      "text/plain": [
       "         asin                                              title  \\\n",
       "0  B000A6PPOK          Microsoft Natural Ergonomic Keyboard 4000   \n",
       "1  B00E4TOWR0  HP Wired USB Keyboard K1500 (Black) (H3C52AA#ABA)   \n",
       "2  B00I0S6SK0  Azio Vision Backlit USB Keyboard with Large Pr...   \n",
       "3  B00LSGKEC4  Redragon K502 Gaming Keyboard RGB LED Backlit ...   \n",
       "4  B0194MC7JG  Wireless Keyboard and Mouse - Jelly Comb K025 ...   \n",
       "\n",
       "                                          reviewText  \n",
       "0  As a software developer, I am literally attach...  \n",
       "1  Love it.  The keys are placed where I like the...  \n",
       "2  This is just what I needed and it works great....  \n",
       "3  This would have been five stars, but I receive...  \n",
       "4  I didn't think it would be possible with this ...  "
      ]
     },
     "execution_count": 57,
     "metadata": {},
     "output_type": "execute_result"
    }
   ],
   "source": [
    "df_sample = df_sample[df_sample['reviewText'].notnull()]\n",
    "df_agg = df.groupby(['asin', 'title'], as_index=False)[['reviewText']].agg(sum)\n",
    "df_agg"
   ]
  },
  {
   "cell_type": "code",
   "execution_count": 58,
   "metadata": {},
   "outputs": [],
   "source": [
    "df_agg['tokenized_words'] = df_agg['reviewText'].apply(lambda x: lucem_illud_2020.word_tokenize(x))\n",
    "df_agg['normalized_words'] = df_agg['tokenized_words'].apply(lambda x: lucem_illud_2020.normalizeTokens(x, lemma=False))"
   ]
  },
  {
   "cell_type": "code",
   "execution_count": 59,
   "metadata": {},
   "outputs": [
    {
     "data": {
      "text/html": [
       "<div>\n",
       "<style scoped>\n",
       "    .dataframe tbody tr th:only-of-type {\n",
       "        vertical-align: middle;\n",
       "    }\n",
       "\n",
       "    .dataframe tbody tr th {\n",
       "        vertical-align: top;\n",
       "    }\n",
       "\n",
       "    .dataframe thead th {\n",
       "        text-align: right;\n",
       "    }\n",
       "</style>\n",
       "<table border=\"1\" class=\"dataframe\">\n",
       "  <thead>\n",
       "    <tr style=\"text-align: right;\">\n",
       "      <th></th>\n",
       "      <th>asin</th>\n",
       "      <th>title</th>\n",
       "      <th>reviewText</th>\n",
       "      <th>tokenized_words</th>\n",
       "      <th>normalized_words</th>\n",
       "    </tr>\n",
       "  </thead>\n",
       "  <tbody>\n",
       "    <tr>\n",
       "      <td>0</td>\n",
       "      <td>B000A6PPOK</td>\n",
       "      <td>Microsoft Natural Ergonomic Keyboard 4000</td>\n",
       "      <td>As a software developer, I am literally attach...</td>\n",
       "      <td>[As, a, software, developer, I, am, literally,...</td>\n",
       "      <td>[software, developer, literally, attached, key...</td>\n",
       "    </tr>\n",
       "    <tr>\n",
       "      <td>1</td>\n",
       "      <td>B00E4TOWR0</td>\n",
       "      <td>HP Wired USB Keyboard K1500 (Black) (H3C52AA#ABA)</td>\n",
       "      <td>Love it.  The keys are placed where I like the...</td>\n",
       "      <td>[Love, it, The, keys, are, placed, where, I, l...</td>\n",
       "      <td>[love, keys, placed, like, bethis, keyboard, f...</td>\n",
       "    </tr>\n",
       "    <tr>\n",
       "      <td>2</td>\n",
       "      <td>B00I0S6SK0</td>\n",
       "      <td>Azio Vision Backlit USB Keyboard with Large Pr...</td>\n",
       "      <td>This is just what I needed and it works great....</td>\n",
       "      <td>[This, is, just, what, I, needed, and, it, wor...</td>\n",
       "      <td>[needed, works, great, lights, great, night, l...</td>\n",
       "    </tr>\n",
       "    <tr>\n",
       "      <td>3</td>\n",
       "      <td>B00LSGKEC4</td>\n",
       "      <td>Redragon K502 Gaming Keyboard RGB LED Backlit ...</td>\n",
       "      <td>This would have been five stars, but I receive...</td>\n",
       "      <td>[This, would, have, been, five, stars, but, I,...</td>\n",
       "      <td>[stars, received, bad, keyboard, initially, fu...</td>\n",
       "    </tr>\n",
       "    <tr>\n",
       "      <td>4</td>\n",
       "      <td>B0194MC7JG</td>\n",
       "      <td>Wireless Keyboard and Mouse - Jelly Comb K025 ...</td>\n",
       "      <td>I didn't think it would be possible with this ...</td>\n",
       "      <td>[I, did, n't, think, it, would, be, possible, ...</td>\n",
       "      <td>[think, possible, set, ve, day, desktop, compu...</td>\n",
       "    </tr>\n",
       "  </tbody>\n",
       "</table>\n",
       "</div>"
      ],
      "text/plain": [
       "         asin                                              title  \\\n",
       "0  B000A6PPOK          Microsoft Natural Ergonomic Keyboard 4000   \n",
       "1  B00E4TOWR0  HP Wired USB Keyboard K1500 (Black) (H3C52AA#ABA)   \n",
       "2  B00I0S6SK0  Azio Vision Backlit USB Keyboard with Large Pr...   \n",
       "3  B00LSGKEC4  Redragon K502 Gaming Keyboard RGB LED Backlit ...   \n",
       "4  B0194MC7JG  Wireless Keyboard and Mouse - Jelly Comb K025 ...   \n",
       "\n",
       "                                          reviewText  \\\n",
       "0  As a software developer, I am literally attach...   \n",
       "1  Love it.  The keys are placed where I like the...   \n",
       "2  This is just what I needed and it works great....   \n",
       "3  This would have been five stars, but I receive...   \n",
       "4  I didn't think it would be possible with this ...   \n",
       "\n",
       "                                     tokenized_words  \\\n",
       "0  [As, a, software, developer, I, am, literally,...   \n",
       "1  [Love, it, The, keys, are, placed, where, I, l...   \n",
       "2  [This, is, just, what, I, needed, and, it, wor...   \n",
       "3  [This, would, have, been, five, stars, but, I,...   \n",
       "4  [I, did, n't, think, it, would, be, possible, ...   \n",
       "\n",
       "                                    normalized_words  \n",
       "0  [software, developer, literally, attached, key...  \n",
       "1  [love, keys, placed, like, bethis, keyboard, f...  \n",
       "2  [needed, works, great, lights, great, night, l...  \n",
       "3  [stars, received, bad, keyboard, initially, fu...  \n",
       "4  [think, possible, set, ve, day, desktop, compu...  "
      ]
     },
     "execution_count": 59,
     "metadata": {},
     "output_type": "execute_result"
    }
   ],
   "source": [
    "df_agg"
   ]
  },
  {
   "cell_type": "markdown",
   "metadata": {},
   "source": [
    "### HW5:Topic Extraction"
   ]
  },
  {
   "cell_type": "markdown",
   "metadata": {},
   "source": [
    "First, we find the optimal number of topic number"
   ]
  },
  {
   "cell_type": "code",
   "execution_count": 74,
   "metadata": {},
   "outputs": [],
   "source": [
    "def compute_corpus(data):\n",
    "    \n",
    "    #Functions to perform lemmatize and stem preprocessing steps\n",
    "    def lemmatize_stemming(text):\n",
    "        return stemmer.stem(WordNetLemmatizer().lemmatize(text, pos='v'))\n",
    "\n",
    "    def preprocess(text):\n",
    "        result = []\n",
    "        for token in gensim.utils.simple_preprocess(text):\n",
    "            if token not in gensim.parsing.preprocessing.STOPWORDS and len(token) > 3:\n",
    "                result.append(lemmatize_stemming(token))\n",
    "        return result\n",
    "\n",
    "    processed_docs = data.map(preprocess)\n",
    "    #Bag of words & Filter out infrequent tokens\n",
    "    dictionary = gensim.corpora.Dictionary(processed_docs)\n",
    "    dictionary.filter_extremes(no_below = 10, no_above = 0.5, keep_n = 100000)\n",
    "    \n",
    "    bow_corpus = [dictionary.doc2bow(doc) for doc in processed_docs]\n",
    "        \n",
    "    #TF-IDF (frequency-inverse document frequency): how important a word is to a document in a collection or corpus\n",
    "    tfidf = models.TfidfModel(bow_corpus)\n",
    "    corpus = tfidf[bow_corpus]\n",
    "    \n",
    "    return processed_docs, corpus, dictionary"
   ]
  },
  {
   "cell_type": "code",
   "execution_count": 80,
   "metadata": {},
   "outputs": [],
   "source": [
    "processed_rev, corpus_rev, dictionary_rev = compute_corpus(df['reviewText'])"
   ]
  },
  {
   "cell_type": "code",
   "execution_count": 81,
   "metadata": {},
   "outputs": [],
   "source": [
    "def compute_coherence_values(dictionary, corpus, texts, limit, start, step):\n",
    "    \n",
    "    \"\"\"\n",
    "    Compute c_v coherence for various number of topics\n",
    "\n",
    "    Parameters:\n",
    "    ----------\n",
    "    dictionary : Gensim dictionary\n",
    "    corpus : Gensim corpus\n",
    "    texts : List of input texts\n",
    "    limit : Max num of topics\n",
    "\n",
    "    Returns:\n",
    "    -------\n",
    "    model_list : List of LDA topic models\n",
    "    coherence_values : Coherence values corresponding to the LDA model with respective number of topics\n",
    "    log_perplexity_values: log prplexity values to the LDA model with respective number of topics\n",
    "    \"\"\"\n",
    "    \n",
    "    coherence_values = []\n",
    "    log_perplexity_values = []\n",
    "    model_list = []\n",
    "    \n",
    "    #Iterate through different number of topics\n",
    "    for num_topics in range(start, limit, step):\n",
    "        model = gensim.models.ldamodel.LdaModel(corpus=corpus, \n",
    "                                                num_topics=num_topics, \n",
    "                                                id2word=dictionary, \n",
    "                                                random_state=100,\n",
    "                                                chunksize = 100,\n",
    "                                                passes = 10,\n",
    "                                                alpha = 'auto')\n",
    "        \n",
    "        model_list.append(model)\n",
    "        \n",
    "        # Compute Coherence Score\n",
    "        coherencemodel = CoherenceModel(model=model, \n",
    "                                        texts=texts, \n",
    "                                        dictionary=dictionary, \n",
    "                                        coherence='c_v')\n",
    "        \n",
    "        \n",
    "        coherence_values.append(coherencemodel.get_coherence())\n",
    "        \n",
    "        # Compute Perplexity\n",
    "        log_perplexity_values.append(model.log_perplexity(corpus))\n",
    "\n",
    "    return model_list, coherence_values, log_perplexity_values"
   ]
  },
  {
   "cell_type": "code",
   "execution_count": 82,
   "metadata": {},
   "outputs": [],
   "source": [
    "limit = 10; start = 2; step = 1;\n",
    "\n",
    "model_list, coherence_values, log_perplexity = compute_coherence_values(dictionary=dictionary_rev,\n",
    "                                                                        corpus=corpus_rev, \n",
    "                                                                        texts=processed_rev, \n",
    "                                                                        start=2, \n",
    "                                                                        limit=limit, \n",
    "                                                                        step=1)"
   ]
  },
  {
   "cell_type": "code",
   "execution_count": 86,
   "metadata": {},
   "outputs": [
    {
     "data": {
      "text/plain": [
       "Text(0.5, 1.0, 'Topic Log Perplexity: Determining Optimal Number of Topics')"
      ]
     },
     "execution_count": 86,
     "metadata": {},
     "output_type": "execute_result"
    },
    {
     "data": {
      "image/png": "[encoded data removed]",
      "text/plain": [
       "<Figure size 576x432 with 1 Axes>"
      ]
     },
     "metadata": {
      "needs_background": "light"
     },
     "output_type": "display_data"
    }
   ],
   "source": [
    "x = np.arange(start, limit, step)\n",
    "plt.figure(figsize = (8,6))\n",
    "plt.plot(x, log_perplexity)\n",
    "plt.xlabel(\"Num Topics\", fontsize=20)\n",
    "plt.ylabel(\"Log perplexity score\", fontsize=20)\n",
    "plt.title('Topic Log Perplexity: Determining Optimal Number of Topics', fontsize=22)\n",
    "#plt.savefig(\"Plots/perplexity.png\")"
   ]
  },
  {
   "cell_type": "code",
   "execution_count": 87,
   "metadata": {},
   "outputs": [
    {
     "data": {
      "text/plain": [
       "Text(0.5, 1.0, 'Topic Coherence Score: Determining Optimal Number of Topics')"
      ]
     },
     "execution_count": 87,
     "metadata": {},
     "output_type": "execute_result"
    },
    {
     "data": {
      "image/png": "[encoded data removed]",
      "text/plain": [
       "<Figure size 576x432 with 1 Axes>"
      ]
     },
     "metadata": {
      "needs_background": "light"
     },
     "output_type": "display_data"
    }
   ],
   "source": [
    "x = np.arange(start, limit, step)\n",
    "plt.figure(figsize = (8,6))\n",
    "plt.plot(x, coherence_values)\n",
    "plt.xlabel(\"Num Topics\", fontsize=20)\n",
    "plt.ylabel(\"Coherence score\", fontsize=20)\n",
    "plt.title('Topic Coherence Score: Determining Optimal Number of Topics', fontsize=22)\n",
    "#plt.savefig(\"Plots/coherence.png\")"
   ]
  },
  {
   "cell_type": "markdown",
   "metadata": {},
   "source": [
    "Hence, we find the optimal model number = 5"
   ]
  },
  {
   "cell_type": "markdown",
   "metadata": {},
   "source": [
    "## Model Building"
   ]
  },
  {
   "cell_type": "markdown",
   "metadata": {},
   "source": [
    "Note, because of unsupervised machine learning, this graph as well as topic generation result might differ in each time running the data."
   ]
  },
  {
   "cell_type": "code",
   "execution_count": 60,
   "metadata": {},
   "outputs": [],
   "source": [
    "dictionary = gensim.corpora.Dictionary(df_agg['normalized_words'])"
   ]
  },
  {
   "cell_type": "code",
   "execution_count": 61,
   "metadata": {},
   "outputs": [],
   "source": [
    "corpus = [dictionary.doc2bow(text) for text in df_agg['normalized_words']]"
   ]
  },
  {
   "cell_type": "code",
   "execution_count": 62,
   "metadata": {},
   "outputs": [],
   "source": [
    "gensim.corpora.MmCorpus.serialize('amazon.mm', corpus)\n",
    "senmm = gensim.corpora.MmCorpus('amazon.mm')"
   ]
  },
  {
   "cell_type": "code",
   "execution_count": 63,
   "metadata": {},
   "outputs": [],
   "source": [
    "senlda = gensim.models.ldamodel.LdaModel(corpus=senmm, id2word=dictionary, num_topics=5, alpha='auto', eta='auto')"
   ]
  },
  {
   "cell_type": "code",
   "execution_count": 64,
   "metadata": {},
   "outputs": [
    {
     "data": {
      "text/plain": [
       "[(0, 0.7259853), (1, 0.14416687), (2, 0.12482532)]"
      ]
     },
     "execution_count": 64,
     "metadata": {},
     "output_type": "execute_result"
    }
   ],
   "source": [
    "sen1Bow = dictionary.doc2bow(df_agg['normalized_words'][0])\n",
    "sen1lda = senlda[sen1Bow]\n",
    "sen1lda"
   ]
  },
  {
   "cell_type": "code",
   "execution_count": 65,
   "metadata": {},
   "outputs": [
    {
     "name": "stdout",
     "output_type": "stream",
     "text": [
      "The topics of the text: B000A6PPOK\n",
      "are: [(0, 0.7039467), (1, 0.16576648), (2, 0.12534474)]\n"
     ]
    }
   ],
   "source": [
    "sen1Bow = dictionary.doc2bow(df_agg['normalized_words'][0])\n",
    "sen1lda = senlda[sen1Bow]\n",
    "print(\"The topics of the text: {}\".format(df_agg['asin'][0]))\n",
    "print(\"are: {}\".format(sen1lda))"
   ]
  },
  {
   "cell_type": "code",
   "execution_count": 66,
   "metadata": {},
   "outputs": [],
   "source": [
    "ldaDF = pd.DataFrame({\n",
    "        'name' : df_agg['asin'],\n",
    "        'topics' : [senlda[dictionary.doc2bow(l)] for l in df_agg['normalized_words']]\n",
    "    })"
   ]
  },
  {
   "cell_type": "code",
   "execution_count": 67,
   "metadata": {},
   "outputs": [
    {
     "data": {
      "text/html": [
       "<div>\n",
       "<style scoped>\n",
       "    .dataframe tbody tr th:only-of-type {\n",
       "        vertical-align: middle;\n",
       "    }\n",
       "\n",
       "    .dataframe tbody tr th {\n",
       "        vertical-align: top;\n",
       "    }\n",
       "\n",
       "    .dataframe thead th {\n",
       "        text-align: right;\n",
       "    }\n",
       "</style>\n",
       "<table border=\"1\" class=\"dataframe\">\n",
       "  <thead>\n",
       "    <tr style=\"text-align: right;\">\n",
       "      <th></th>\n",
       "      <th>name</th>\n",
       "      <th>topics</th>\n",
       "      <th>topic_0</th>\n",
       "      <th>topic_1</th>\n",
       "      <th>topic_2</th>\n",
       "      <th>topic_3</th>\n",
       "      <th>topic_4</th>\n",
       "    </tr>\n",
       "  </thead>\n",
       "  <tbody>\n",
       "    <tr>\n",
       "      <td>0</td>\n",
       "      <td>B000A6PPOK</td>\n",
       "      <td>[(0, 0.7099225), (1, 0.15651846), (2, 0.1272455)]</td>\n",
       "      <td>0.709922</td>\n",
       "      <td>0.156518</td>\n",
       "      <td>0.127246</td>\n",
       "      <td>0</td>\n",
       "      <td>0.000000</td>\n",
       "    </tr>\n",
       "    <tr>\n",
       "      <td>1</td>\n",
       "      <td>B00E4TOWR0</td>\n",
       "      <td>[(0, 0.3580524), (1, 0.035607513), (2, 0.59111...</td>\n",
       "      <td>0.358052</td>\n",
       "      <td>0.035608</td>\n",
       "      <td>0.591115</td>\n",
       "      <td>0</td>\n",
       "      <td>0.015137</td>\n",
       "    </tr>\n",
       "    <tr>\n",
       "      <td>2</td>\n",
       "      <td>B00I0S6SK0</td>\n",
       "      <td>[(0, 0.9818699), (1, 0.013911496)]</td>\n",
       "      <td>0.981870</td>\n",
       "      <td>0.013911</td>\n",
       "      <td>0.000000</td>\n",
       "      <td>0</td>\n",
       "      <td>0.000000</td>\n",
       "    </tr>\n",
       "    <tr>\n",
       "      <td>3</td>\n",
       "      <td>B00LSGKEC4</td>\n",
       "      <td>[(0, 0.8634463), (1, 0.027392676), (4, 0.10355...</td>\n",
       "      <td>0.863446</td>\n",
       "      <td>0.027393</td>\n",
       "      <td>0.000000</td>\n",
       "      <td>0</td>\n",
       "      <td>0.103558</td>\n",
       "    </tr>\n",
       "    <tr>\n",
       "      <td>4</td>\n",
       "      <td>B0194MC7JG</td>\n",
       "      <td>[(0, 0.19285919), (1, 0.030350512), (4, 0.7713...</td>\n",
       "      <td>0.192859</td>\n",
       "      <td>0.030351</td>\n",
       "      <td>0.000000</td>\n",
       "      <td>0</td>\n",
       "      <td>0.771379</td>\n",
       "    </tr>\n",
       "  </tbody>\n",
       "</table>\n",
       "</div>"
      ],
      "text/plain": [
       "         name                                             topics   topic_0  \\\n",
       "0  B000A6PPOK  [(0, 0.7099225), (1, 0.15651846), (2, 0.1272455)]  0.709922   \n",
       "1  B00E4TOWR0  [(0, 0.3580524), (1, 0.035607513), (2, 0.59111...  0.358052   \n",
       "2  B00I0S6SK0                 [(0, 0.9818699), (1, 0.013911496)]  0.981870   \n",
       "3  B00LSGKEC4  [(0, 0.8634463), (1, 0.027392676), (4, 0.10355...  0.863446   \n",
       "4  B0194MC7JG  [(0, 0.19285919), (1, 0.030350512), (4, 0.7713...  0.192859   \n",
       "\n",
       "    topic_1   topic_2  topic_3   topic_4  \n",
       "0  0.156518  0.127246        0  0.000000  \n",
       "1  0.035608  0.591115        0  0.015137  \n",
       "2  0.013911  0.000000        0  0.000000  \n",
       "3  0.027393  0.000000        0  0.103558  \n",
       "4  0.030351  0.000000        0  0.771379  "
      ]
     },
     "execution_count": 67,
     "metadata": {},
     "output_type": "execute_result"
    }
   ],
   "source": [
    "#Dict to temporally hold the probabilities\n",
    "topicsProbDict = {i : [0] * len(ldaDF) for i in range(senlda.num_topics)}\n",
    "\n",
    "#Load them into the dict\n",
    "for index, topicTuples in enumerate(ldaDF['topics']):\n",
    "    for topicNum, prob in topicTuples:\n",
    "        topicsProbDict[topicNum][index] = prob\n",
    "\n",
    "#Update the DataFrame\n",
    "for topicNum in range(senlda.num_topics):\n",
    "    ldaDF['topic_{}'.format(topicNum)] = topicsProbDict[topicNum]\n",
    "\n",
    "ldaDF"
   ]
  },
  {
   "cell_type": "code",
   "execution_count": 68,
   "metadata": {},
   "outputs": [
    {
     "data": {
      "text/html": [
       "<div>\n",
       "<style scoped>\n",
       "    .dataframe tbody tr th:only-of-type {\n",
       "        vertical-align: middle;\n",
       "    }\n",
       "\n",
       "    .dataframe tbody tr th {\n",
       "        vertical-align: top;\n",
       "    }\n",
       "\n",
       "    .dataframe thead th {\n",
       "        text-align: right;\n",
       "    }\n",
       "</style>\n",
       "<table border=\"1\" class=\"dataframe\">\n",
       "  <thead>\n",
       "    <tr style=\"text-align: right;\">\n",
       "      <th></th>\n",
       "      <th>topic_0</th>\n",
       "      <th>topic_1</th>\n",
       "      <th>topic_2</th>\n",
       "      <th>topic_3</th>\n",
       "      <th>topic_4</th>\n",
       "    </tr>\n",
       "  </thead>\n",
       "  <tbody>\n",
       "    <tr>\n",
       "      <td>0</td>\n",
       "      <td>0.709922</td>\n",
       "      <td>0.156518</td>\n",
       "      <td>0.127246</td>\n",
       "      <td>0</td>\n",
       "      <td>0.000000</td>\n",
       "    </tr>\n",
       "    <tr>\n",
       "      <td>1</td>\n",
       "      <td>0.358052</td>\n",
       "      <td>0.035608</td>\n",
       "      <td>0.591115</td>\n",
       "      <td>0</td>\n",
       "      <td>0.015137</td>\n",
       "    </tr>\n",
       "    <tr>\n",
       "      <td>2</td>\n",
       "      <td>0.981870</td>\n",
       "      <td>0.013911</td>\n",
       "      <td>0.000000</td>\n",
       "      <td>0</td>\n",
       "      <td>0.000000</td>\n",
       "    </tr>\n",
       "    <tr>\n",
       "      <td>3</td>\n",
       "      <td>0.863446</td>\n",
       "      <td>0.027393</td>\n",
       "      <td>0.000000</td>\n",
       "      <td>0</td>\n",
       "      <td>0.103558</td>\n",
       "    </tr>\n",
       "    <tr>\n",
       "      <td>4</td>\n",
       "      <td>0.192859</td>\n",
       "      <td>0.030351</td>\n",
       "      <td>0.000000</td>\n",
       "      <td>0</td>\n",
       "      <td>0.771379</td>\n",
       "    </tr>\n",
       "  </tbody>\n",
       "</table>\n",
       "</div>"
      ],
      "text/plain": [
       "    topic_0   topic_1   topic_2  topic_3   topic_4\n",
       "0  0.709922  0.156518  0.127246        0  0.000000\n",
       "1  0.358052  0.035608  0.591115        0  0.015137\n",
       "2  0.981870  0.013911  0.000000        0  0.000000\n",
       "3  0.863446  0.027393  0.000000        0  0.103558\n",
       "4  0.192859  0.030351  0.000000        0  0.771379"
      ]
     },
     "execution_count": 68,
     "metadata": {},
     "output_type": "execute_result"
    }
   ],
   "source": [
    "ldaDFV = ldaDF[['topic_%d' %x for x in range(5)]]\n",
    "ldaDFVisN = ldaDF[['name']]\n",
    "ldaDFVis = ldaDFV.as_matrix(columns=None)\n",
    "ldaDFVisNames = ldaDFVisN.as_matrix(columns=None)\n",
    "ldaDFV"
   ]
  },
  {
   "cell_type": "code",
   "execution_count": 69,
   "metadata": {},
   "outputs": [
    {
     "data": {
      "image/png": "[encoded data removed]",
      "text/plain": [
       "<Figure size 432x288 with 1 Axes>"
      ]
     },
     "metadata": {
      "needs_background": "light"
     },
     "output_type": "display_data"
    }
   ],
   "source": [
    "N = 5\n",
    "ind = np.arange(N)\n",
    "K = senlda.num_topics  # N documents, K topics\n",
    "ind = np.arange(N)  # the x-axis locations for the novels\n",
    "width = 0.5  # the width of the bars\n",
    "plots = []\n",
    "height_cumulative = np.zeros(N)\n",
    "\n",
    "for k in range(K):\n",
    "    color = plt.cm.coolwarm(k/K, 1)\n",
    "    if k == 0:\n",
    "        p = plt.bar(ind, ldaDFVis[:, k], width, color=color)\n",
    "    else:\n",
    "        p = plt.bar(ind, ldaDFVis[:, k], width, bottom=height_cumulative, color=color)\n",
    "    height_cumulative += ldaDFVis[:, k]\n",
    "    plots.append(p)\n",
    "    \n",
    "\n",
    "plt.ylim((0, 1))  # proportions sum to 1, so the height of the stacked bars is 1\n",
    "plt.ylabel('Topics')\n",
    "\n",
    "plt.title('Topics in Different Products')\n",
    "plt.xticks(ind+width/2, ldaDFVisNames, rotation='vertical')\n",
    "\n",
    "plt.yticks(np.arange(0, 1, 5))\n",
    "topic_labels = ['Topic #{}'.format(k) for k in range(K)]\n",
    "plt.legend([p[0] for p in plots], topic_labels, loc='center left', frameon=True,  bbox_to_anchor = (1, .5))\n",
    "\n",
    "plt.show()"
   ]
  },
  {
   "cell_type": "code",
   "execution_count": 70,
   "metadata": {},
   "outputs": [
    {
     "data": {
      "image/png": "[encoded data removed]",
      "text/plain": [
       "<Figure size 432x288 with 2 Axes>"
      ]
     },
     "metadata": {
      "needs_background": "light"
     },
     "output_type": "display_data"
    }
   ],
   "source": [
    "plt.pcolor(ldaDFVis, norm=None, cmap='Blues')\n",
    "plt.yticks(np.arange(ldaDFVis.shape[0])+0.5, ldaDFVisNames);\n",
    "plt.xticks(np.arange(ldaDFVis.shape[1])+0.5, topic_labels);\n",
    "\n",
    "# flip the y-axis so the texts are in the order we anticipate (Austen first, then Brontë)\n",
    "plt.gca().invert_yaxis()\n",
    "\n",
    "# rotate the ticks on the x-axis\n",
    "plt.xticks(rotation=90)\n",
    "\n",
    "# add a legend\n",
    "plt.colorbar(cmap='Blues')\n",
    "plt.tight_layout()  # fixes margins\n",
    "plt.show()"
   ]
  },
  {
   "cell_type": "code",
   "execution_count": 71,
   "metadata": {},
   "outputs": [
    {
     "data": {
      "text/plain": [
       "[('keyboard', 0.04693107),\n",
       " ('keys', 0.02356731),\n",
       " ('use', 0.012605322),\n",
       " ('like', 0.010255632),\n",
       " ('key', 0.008388727),\n",
       " ('great', 0.00745605),\n",
       " ('work', 0.007344124),\n",
       " ('keyboards', 0.007180412),\n",
       " ('time', 0.0063405046),\n",
       " ('good', 0.006007033)]"
      ]
     },
     "execution_count": 71,
     "metadata": {},
     "output_type": "execute_result"
    }
   ],
   "source": [
    "senlda.show_topic(1)"
   ]
  },
  {
   "cell_type": "code",
   "execution_count": 72,
   "metadata": {},
   "outputs": [
    {
     "data": {
      "text/html": [
       "<div>\n",
       "<style scoped>\n",
       "    .dataframe tbody tr th:only-of-type {\n",
       "        vertical-align: middle;\n",
       "    }\n",
       "\n",
       "    .dataframe tbody tr th {\n",
       "        vertical-align: top;\n",
       "    }\n",
       "\n",
       "    .dataframe thead th {\n",
       "        text-align: right;\n",
       "    }\n",
       "</style>\n",
       "<table border=\"1\" class=\"dataframe\">\n",
       "  <thead>\n",
       "    <tr style=\"text-align: right;\">\n",
       "      <th></th>\n",
       "      <th>Topic_0</th>\n",
       "      <th>Topic_1</th>\n",
       "      <th>Topic_2</th>\n",
       "      <th>Topic_3</th>\n",
       "      <th>Topic_4</th>\n",
       "    </tr>\n",
       "  </thead>\n",
       "  <tbody>\n",
       "    <tr>\n",
       "      <td>0</td>\n",
       "      <td>keyboard</td>\n",
       "      <td>keyboard</td>\n",
       "      <td>keyboard</td>\n",
       "      <td>keyboard</td>\n",
       "      <td>keyboard</td>\n",
       "    </tr>\n",
       "    <tr>\n",
       "      <td>1</td>\n",
       "      <td>keys</td>\n",
       "      <td>keys</td>\n",
       "      <td>keys</td>\n",
       "      <td>keys</td>\n",
       "      <td>keys</td>\n",
       "    </tr>\n",
       "    <tr>\n",
       "      <td>2</td>\n",
       "      <td>key</td>\n",
       "      <td>use</td>\n",
       "      <td>key</td>\n",
       "      <td>like</td>\n",
       "      <td>use</td>\n",
       "    </tr>\n",
       "    <tr>\n",
       "      <td>3</td>\n",
       "      <td>great</td>\n",
       "      <td>like</td>\n",
       "      <td>use</td>\n",
       "      <td>keyboards</td>\n",
       "      <td>like</td>\n",
       "    </tr>\n",
       "    <tr>\n",
       "      <td>4</td>\n",
       "      <td>use</td>\n",
       "      <td>key</td>\n",
       "      <td>like</td>\n",
       "      <td>key</td>\n",
       "      <td>key</td>\n",
       "    </tr>\n",
       "    <tr>\n",
       "      <td>5</td>\n",
       "      <td>like</td>\n",
       "      <td>great</td>\n",
       "      <td>keyboards</td>\n",
       "      <td>use</td>\n",
       "      <td>great</td>\n",
       "    </tr>\n",
       "    <tr>\n",
       "      <td>6</td>\n",
       "      <td>good</td>\n",
       "      <td>work</td>\n",
       "      <td>great</td>\n",
       "      <td>great</td>\n",
       "      <td>typing</td>\n",
       "    </tr>\n",
       "    <tr>\n",
       "      <td>7</td>\n",
       "      <td>work</td>\n",
       "      <td>keyboards</td>\n",
       "      <td>work</td>\n",
       "      <td>work</td>\n",
       "      <td>type</td>\n",
       "    </tr>\n",
       "    <tr>\n",
       "      <td>8</td>\n",
       "      <td>keyboards</td>\n",
       "      <td>time</td>\n",
       "      <td>typing</td>\n",
       "      <td>type</td>\n",
       "      <td>keyboards</td>\n",
       "    </tr>\n",
       "    <tr>\n",
       "      <td>9</td>\n",
       "      <td>typing</td>\n",
       "      <td>good</td>\n",
       "      <td>good</td>\n",
       "      <td>love</td>\n",
       "      <td>love</td>\n",
       "    </tr>\n",
       "  </tbody>\n",
       "</table>\n",
       "</div>"
      ],
      "text/plain": [
       "     Topic_0    Topic_1    Topic_2    Topic_3    Topic_4\n",
       "0   keyboard   keyboard   keyboard   keyboard   keyboard\n",
       "1       keys       keys       keys       keys       keys\n",
       "2        key        use        key       like        use\n",
       "3      great       like        use  keyboards       like\n",
       "4        use        key       like        key        key\n",
       "5       like      great  keyboards        use      great\n",
       "6       good       work      great      great     typing\n",
       "7       work  keyboards       work       work       type\n",
       "8  keyboards       time     typing       type  keyboards\n",
       "9     typing       good       good       love       love"
      ]
     },
     "execution_count": 72,
     "metadata": {},
     "output_type": "execute_result"
    }
   ],
   "source": [
    "topicsDict = {}\n",
    "for topicNum in range(senlda.num_topics):\n",
    "    topicWords = [w for w, p in senlda.show_topic(topicNum)]\n",
    "    topicsDict['Topic_{}'.format(topicNum)] = topicWords\n",
    "\n",
    "wordRanksDF = pd.DataFrame(topicsDict)\n",
    "wordRanksDF"
   ]
  },
  {
   "cell_type": "markdown",
   "metadata": {},
   "source": [
    "We can see a great number of overlapping between different reviews among different topics, which quite make sense since different reviewers might have similar comments on the similar keyboards product."
   ]
  }
 ],
 "metadata": {
  "kernelspec": {
   "display_name": "Python 3",
   "language": "python",
   "name": "python3"
  },
  "language_info": {
   "codemirror_mode": {
    "name": "ipython",
    "version": 3
   },
   "file_extension": ".py",
   "mimetype": "text/x-python",
   "name": "python",
   "nbconvert_exporter": "python",
   "pygments_lexer": "ipython3",
   "version": "3.7.4"
  }
 },
 "nbformat": 4,
 "nbformat_minor": 2
}
