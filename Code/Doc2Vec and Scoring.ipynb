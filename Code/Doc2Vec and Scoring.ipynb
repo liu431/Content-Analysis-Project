{
 "cells": [
  {
   "cell_type": "markdown",
   "metadata": {},
   "source": [
    "This notebook applies Doc2Vec and Scoring fucntion on the consumer reviews to quantify product-level differences."
   ]
  },
  {
   "cell_type": "code",
   "execution_count": 1,
   "metadata": {},
   "outputs": [],
   "source": [
    "#All these packages need to be installed from pip\n",
    "import gensim#For word2vec, etc\n",
    "import requests #For downloading our datasets\n",
    "import lucem_illud_2020\n",
    "\n",
    "import numpy as np #For arrays\n",
    "import pandas #Gives us DataFrames\n",
    "import matplotlib.pyplot as plt #For graphics\n",
    "import seaborn #Makes the graphics look nicer\n",
    "import sklearn.metrics.pairwise #For cosine similarity\n",
    "import sklearn.manifold #For T-SNE\n",
    "import sklearn.decomposition #For PCA\n",
    "\n",
    "#This 'magic' command makes the plots work better\n",
    "#in the notebook, don't use it outside of a notebook.\n",
    "#Also you can ignore the warning\n",
    "%matplotlib inline\n",
    "\n",
    "import os #For looking through files\n",
    "import os.path #For managing file paths"
   ]
  },
  {
   "cell_type": "markdown",
   "metadata": {},
   "source": [
    "## Data\n",
    "\n",
    "Check out [this notebook](https://github.com/liu431/Content-Analysis-Project/blob/master/Data/data_extraction_electronics.ipynb) for getting the Amazon Review Data (2018), transformed the format, and extracted the sample corpus.\n"
   ]
  },
  {
   "cell_type": "markdown",
   "metadata": {},
   "source": [
    "Sample data: metadata and reviews of 10 keyboards that have highest reviews in the data "
   ]
  },
  {
   "cell_type": "code",
   "execution_count": 2,
   "metadata": {},
   "outputs": [
    {
     "data": {
      "application/javascript": [
       "\n",
       "        if (window._pyforest_update_imports_cell) { window._pyforest_update_imports_cell('import pandas as pd'); }\n",
       "    "
      ],
      "text/plain": [
       "<IPython.core.display.Javascript object>"
      ]
     },
     "metadata": {},
     "output_type": "display_data"
    },
    {
     "data": {
      "application/javascript": [
       "\n",
       "        if (window._pyforest_update_imports_cell) { window._pyforest_update_imports_cell('import pandas as pd'); }\n",
       "    "
      ],
      "text/plain": [
       "<IPython.core.display.Javascript object>"
      ]
     },
     "metadata": {},
     "output_type": "display_data"
    }
   ],
   "source": [
    "df = pd.read_csv(\"https://raw.githubusercontent.com/liu431/Content-Analysis-Project/master/Data/output_review.csv\")\n",
    "df_meta = pd.read_csv(\"https://raw.githubusercontent.com/liu431/Content-Analysis-Project/master/Data/output_meta.csv\")"
   ]
  },
  {
   "cell_type": "code",
   "execution_count": 3,
   "metadata": {},
   "outputs": [],
   "source": [
    "tbl = df.groupby('asin').agg({'overall':'count'})\n",
    "tbl = tbl.sort_values(by = ['overall'], ascending = False)\n",
    "tbl['asin'] = tbl.index\n",
    "tbl = tbl.rename_axis(\"ID\")"
   ]
  },
  {
   "cell_type": "code",
   "execution_count": 4,
   "metadata": {},
   "outputs": [],
   "source": [
    "# downsampling\n",
    "df_sample = df[df['asin'] == tbl.index[-1]]\n",
    "for i in range(4):\n",
    "    df_temp = df[df['asin'] == tbl.index[i]].sample(n=350)\n",
    "    df_sample = df_sample.append(df_temp)"
   ]
  },
  {
   "cell_type": "code",
   "execution_count": 5,
   "metadata": {},
   "outputs": [
    {
     "data": {
      "text/html": [
       "<div>\n",
       "<style scoped>\n",
       "    .dataframe tbody tr th:only-of-type {\n",
       "        vertical-align: middle;\n",
       "    }\n",
       "\n",
       "    .dataframe tbody tr th {\n",
       "        vertical-align: top;\n",
       "    }\n",
       "\n",
       "    .dataframe thead th {\n",
       "        text-align: right;\n",
       "    }\n",
       "</style>\n",
       "<table border=\"1\" class=\"dataframe\">\n",
       "  <thead>\n",
       "    <tr style=\"text-align: right;\">\n",
       "      <th></th>\n",
       "      <th>asin</th>\n",
       "      <th>title</th>\n",
       "      <th>reviewText</th>\n",
       "      <th>Brand</th>\n",
       "    </tr>\n",
       "  </thead>\n",
       "  <tbody>\n",
       "    <tr>\n",
       "      <th>0</th>\n",
       "      <td>B000A6PPOK</td>\n",
       "      <td>Microsoft Natural Ergonomic Keyboard 4000</td>\n",
       "      <td>As a software developer, I am literally attach...</td>\n",
       "      <td>Microsoft</td>\n",
       "    </tr>\n",
       "    <tr>\n",
       "      <th>1</th>\n",
       "      <td>B00E4TOWR0</td>\n",
       "      <td>HP Wired USB Keyboard K1500 (Black) (H3C52AA#ABA)</td>\n",
       "      <td>Love it.  The keys are placed where I like the...</td>\n",
       "      <td>HP</td>\n",
       "    </tr>\n",
       "    <tr>\n",
       "      <th>2</th>\n",
       "      <td>B00I0S6SK0</td>\n",
       "      <td>Azio Vision Backlit USB Keyboard with Large Pr...</td>\n",
       "      <td>This is just what I needed and it works great....</td>\n",
       "      <td>Azio</td>\n",
       "    </tr>\n",
       "    <tr>\n",
       "      <th>3</th>\n",
       "      <td>B00LSGKEC4</td>\n",
       "      <td>Redragon K502 Gaming Keyboard RGB LED Backlit ...</td>\n",
       "      <td>This would have been five stars, but I receive...</td>\n",
       "      <td>Redragon</td>\n",
       "    </tr>\n",
       "    <tr>\n",
       "      <th>4</th>\n",
       "      <td>B0194MC7JG</td>\n",
       "      <td>Wireless Keyboard and Mouse - Jelly Comb K025 ...</td>\n",
       "      <td>I didn't think it would be possible with this ...</td>\n",
       "      <td>Jelly Comb</td>\n",
       "    </tr>\n",
       "  </tbody>\n",
       "</table>\n",
       "</div>"
      ],
      "text/plain": [
       "         asin                                              title  \\\n",
       "0  B000A6PPOK          Microsoft Natural Ergonomic Keyboard 4000   \n",
       "1  B00E4TOWR0  HP Wired USB Keyboard K1500 (Black) (H3C52AA#ABA)   \n",
       "2  B00I0S6SK0  Azio Vision Backlit USB Keyboard with Large Pr...   \n",
       "3  B00LSGKEC4  Redragon K502 Gaming Keyboard RGB LED Backlit ...   \n",
       "4  B0194MC7JG  Wireless Keyboard and Mouse - Jelly Comb K025 ...   \n",
       "\n",
       "                                          reviewText       Brand  \n",
       "0  As a software developer, I am literally attach...   Microsoft  \n",
       "1  Love it.  The keys are placed where I like the...          HP  \n",
       "2  This is just what I needed and it works great....        Azio  \n",
       "3  This would have been five stars, but I receive...    Redragon  \n",
       "4  I didn't think it would be possible with this ...  Jelly Comb  "
      ]
     },
     "execution_count": 5,
     "metadata": {},
     "output_type": "execute_result"
    }
   ],
   "source": [
    "df_sample = df_sample[df_sample['reviewText'].notnull()]\n",
    "df_agg = df.groupby(['asin', 'title'], as_index=False)[['reviewText']].agg(sum)\n",
    "df_agg['Brand'] = ['Microsoft', 'HP', 'Azio', 'Redragon', 'Jelly Comb']\n",
    "df_agg"
   ]
  },
  {
   "cell_type": "code",
   "execution_count": null,
   "metadata": {},
   "outputs": [],
   "source": []
  },
  {
   "cell_type": "markdown",
   "metadata": {},
   "source": [
    "## Doc2Vec"
   ]
  },
  {
   "cell_type": "markdown",
   "metadata": {},
   "source": [
    "### Cleaning"
   ]
  },
  {
   "cell_type": "code",
   "execution_count": 6,
   "metadata": {},
   "outputs": [],
   "source": [
    "df_agg['tokenized_words'] = df_agg['reviewText'].apply(lambda x: lucem_illud_2020.word_tokenize(x))\n",
    "df_agg['normalized_words'] = df_agg['tokenized_words'].apply(lambda x: lucem_illud_2020.normalizeTokens(x, lemma=False))"
   ]
  },
  {
   "cell_type": "code",
   "execution_count": 7,
   "metadata": {},
   "outputs": [],
   "source": [
    "keywords = ['Microsoft', 'HP', 'Azio', 'Redragon', 'Jelly']"
   ]
  },
  {
   "cell_type": "code",
   "execution_count": 8,
   "metadata": {},
   "outputs": [],
   "source": [
    "taggedDocs = []\n",
    "for index, row in df_agg.iterrows():\n",
    "    #Just doing a simple keyword assignment\n",
    "    docKeywords = [s for s in keywords if s in row['normalized_words']]\n",
    "    docKeywords.append(row['asin'])\n",
    "    docKeywords.append(row['Brand']) #This lets us extract individual documnets since doi's are unique\n",
    "    taggedDocs.append(gensim.models.doc2vec.LabeledSentence(words = row['normalized_words'], tags = docKeywords))\n",
    "df_agg['TaggedReviews'] = taggedDocs"
   ]
  },
  {
   "cell_type": "code",
   "execution_count": 9,
   "metadata": {},
   "outputs": [
    {
     "data": {
      "text/plain": [
       "['B0194MC7JG', 'Jelly Comb']"
      ]
     },
     "execution_count": 9,
     "metadata": {},
     "output_type": "execute_result"
    }
   ],
   "source": [
    "docKeywords"
   ]
  },
  {
   "cell_type": "markdown",
   "metadata": {},
   "source": [
    "### Model"
   ]
  },
  {
   "cell_type": "code",
   "execution_count": 10,
   "metadata": {},
   "outputs": [],
   "source": [
    "dfD2V = gensim.models.doc2vec.Doc2Vec(df_agg['TaggedReviews'], vector_size = 100) #Limiting to 100 dimensions"
   ]
  },
  {
   "cell_type": "markdown",
   "metadata": {},
   "source": [
    "### Analysis"
   ]
  },
  {
   "cell_type": "code",
   "execution_count": 11,
   "metadata": {},
   "outputs": [
    {
     "data": {
      "text/plain": [
       "[('price', 0.9998995661735535)]"
      ]
     },
     "execution_count": 11,
     "metadata": {},
     "output_type": "execute_result"
    }
   ],
   "source": [
    "dfD2V.most_similar(positive = ['feel','great'], negative = ['like'], topn = 1)"
   ]
  },
  {
   "cell_type": "markdown",
   "metadata": {},
   "source": [
    "#### Words that are most similar to the whole document"
   ]
  },
  {
   "cell_type": "code",
   "execution_count": 12,
   "metadata": {},
   "outputs": [
    {
     "data": {
      "text/plain": [
       "[('natural', 0.9987658858299255),\n",
       " ('tunnel', 0.9952185153961182),\n",
       " ('fatigue', 0.9949127435684204),\n",
       " ('ergo', 0.9941148161888123),\n",
       " ('arms', 0.992831826210022)]"
      ]
     },
     "execution_count": 12,
     "metadata": {},
     "output_type": "execute_result"
    }
   ],
   "source": [
    "dfD2V.most_similar( [ dfD2V.docvecs['B000A6PPOK'] ], topn=5) "
   ]
  },
  {
   "cell_type": "markdown",
   "metadata": {},
   "source": [
    "#### Recommend products by keywords"
   ]
  },
  {
   "cell_type": "code",
   "execution_count": 13,
   "metadata": {},
   "outputs": [
    {
     "data": {
      "text/plain": [
       "[('B0194MC7JG', 0.9998947381973267),\n",
       " ('Jelly Comb', 0.9998944997787476),\n",
       " ('B00E4TOWR0', 0.9921402931213379),\n",
       " ('HP', 0.9921029210090637),\n",
       " ('Redragon', 0.9900383949279785)]"
      ]
     },
     "execution_count": 13,
     "metadata": {},
     "output_type": "execute_result"
    }
   ],
   "source": [
    "dfD2V.docvecs.most_similar([dfD2V['wireless']], topn=5 )"
   ]
  },
  {
   "cell_type": "code",
   "execution_count": 14,
   "metadata": {},
   "outputs": [
    {
     "data": {
      "text/plain": [
       "[('B0194MC7JG', 0.99830561876297),\n",
       " ('Jelly Comb', 0.998305082321167),\n",
       " ('B00E4TOWR0', 0.9977549910545349),\n",
       " ('HP', 0.9977334141731262),\n",
       " ('Redragon', 0.9962441921234131)]"
      ]
     },
     "execution_count": 14,
     "metadata": {},
     "output_type": "execute_result"
    }
   ],
   "source": [
    "dfD2V.docvecs.most_similar([ dfD2V['wireless']+dfD2V['keyboard']], topn=5 )"
   ]
  },
  {
   "cell_type": "markdown",
   "metadata": {},
   "source": [
    "#### Heatmap: cosine similarities between products"
   ]
  },
  {
   "cell_type": "code",
   "execution_count": 15,
   "metadata": {},
   "outputs": [],
   "source": [
    "targetDocs = df_agg['Brand']\n",
    "\n",
    "heatmapMatrixD = []\n",
    "\n",
    "for tagOuter in targetDocs:\n",
    "    column = []\n",
    "    tagVec = dfD2V.docvecs[tagOuter].reshape(1, -1)\n",
    "    for tagInner in targetDocs:\n",
    "        column.append(sklearn.metrics.pairwise.cosine_similarity(tagVec, dfD2V.docvecs[tagInner].reshape(1, -1))[0][0])\n",
    "    heatmapMatrixD.append(column)\n",
    "heatmapMatrixD = np.array(heatmapMatrixD)"
   ]
  },
  {
   "cell_type": "code",
   "execution_count": 39,
   "metadata": {},
   "outputs": [
    {
     "data": {
      "image/png": "[encoded data removed]",
      "text/plain": [
       "<Figure size 1440x1080 with 2 Axes>"
      ]
     },
     "metadata": {},
     "output_type": "display_data"
    }
   ],
   "source": [
    "fig, ax = plt.subplots(figsize=(20,15))\n",
    "hmap = ax.pcolor(heatmapMatrixD, cmap='terrain')\n",
    "cbar = plt.colorbar(hmap)\n",
    "\n",
    "plt.title('Cosine Similarity Between Product Reviews', fontsize=30)\n",
    "cbar.set_label('similarity', rotation=270)\n",
    "a = ax.set_xticks(np.arange(heatmapMatrixD.shape[1]) + 0.5, minor=False)\n",
    "a = ax.set_yticks(np.arange(heatmapMatrixD.shape[0]) + 0.5, minor=False)\n",
    "\n",
    "a = ax.set_xticklabels(targetDocs, minor=False, rotation=270)\n",
    "a = ax.set_yticklabels(targetDocs, minor=False)\n",
    "\n",
    "plt.savefig('Plots/CosineSimilarity.png')"
   ]
  },
  {
   "cell_type": "markdown",
   "metadata": {},
   "source": [
    "####  Doc2Vec Distance"
   ]
  },
  {
   "cell_type": "code",
   "execution_count": 17,
   "metadata": {},
   "outputs": [
    {
     "data": {
      "application/javascript": [
       "\n",
       "        if (window._pyforest_update_imports_cell) { window._pyforest_update_imports_cell('import pandas as pd'); }\n",
       "    "
      ],
      "text/plain": [
       "<IPython.core.display.Javascript object>"
      ]
     },
     "metadata": {},
     "output_type": "display_data"
    },
    {
     "data": {
      "text/html": [
       "<div>\n",
       "<style scoped>\n",
       "    .dataframe tbody tr th:only-of-type {\n",
       "        vertical-align: middle;\n",
       "    }\n",
       "\n",
       "    .dataframe tbody tr th {\n",
       "        vertical-align: top;\n",
       "    }\n",
       "\n",
       "    .dataframe thead th {\n",
       "        text-align: right;\n",
       "    }\n",
       "</style>\n",
       "<table border=\"1\" class=\"dataframe\">\n",
       "  <thead>\n",
       "    <tr style=\"text-align: right;\">\n",
       "      <th></th>\n",
       "      <th>Product</th>\n",
       "      <th>similarities</th>\n",
       "      <th>diff</th>\n",
       "    </tr>\n",
       "  </thead>\n",
       "  <tbody>\n",
       "    <tr>\n",
       "      <th>0</th>\n",
       "      <td>Microsoft</td>\n",
       "      <td>1.00</td>\n",
       "      <td>0.00</td>\n",
       "    </tr>\n",
       "    <tr>\n",
       "      <th>1</th>\n",
       "      <td>HP</td>\n",
       "      <td>0.95</td>\n",
       "      <td>-0.05</td>\n",
       "    </tr>\n",
       "    <tr>\n",
       "      <th>2</th>\n",
       "      <td>Azio</td>\n",
       "      <td>0.81</td>\n",
       "      <td>-0.19</td>\n",
       "    </tr>\n",
       "    <tr>\n",
       "      <th>3</th>\n",
       "      <td>Redragon</td>\n",
       "      <td>0.95</td>\n",
       "      <td>-0.05</td>\n",
       "    </tr>\n",
       "    <tr>\n",
       "      <th>4</th>\n",
       "      <td>Jelly Comb</td>\n",
       "      <td>0.98</td>\n",
       "      <td>-0.02</td>\n",
       "    </tr>\n",
       "  </tbody>\n",
       "</table>\n",
       "</div>"
      ],
      "text/plain": [
       "      Product  similarities  diff\n",
       "0   Microsoft          1.00  0.00\n",
       "1          HP          0.95 -0.05\n",
       "2        Azio          0.81 -0.19\n",
       "3    Redragon          0.95 -0.05\n",
       "4  Jelly Comb          0.98 -0.02"
      ]
     },
     "execution_count": 17,
     "metadata": {},
     "output_type": "execute_result"
    }
   ],
   "source": [
    "#B000A6PPOK as baseline\n",
    "distance = pd.DataFrame({'Product':df_agg['Brand'], 'similarities':heatmapMatrixD[0]})\n",
    "distance['diff'] = distance['similarities']-1\n",
    "distance.round(2)"
   ]
  },
  {
   "cell_type": "markdown",
   "metadata": {},
   "source": [
    "## Scoring function"
   ]
  },
  {
   "cell_type": "markdown",
   "metadata": {},
   "source": [
    "Calculate the likelihood that a given text would have been generated by a word-embedding model by summing the inner product between each pair of the text's word vectors."
   ]
  },
  {
   "cell_type": "code",
   "execution_count": 18,
   "metadata": {},
   "outputs": [
    {
     "data": {
      "text/html": [
       "<div>\n",
       "<style scoped>\n",
       "    .dataframe tbody tr th:only-of-type {\n",
       "        vertical-align: middle;\n",
       "    }\n",
       "\n",
       "    .dataframe tbody tr th {\n",
       "        vertical-align: top;\n",
       "    }\n",
       "\n",
       "    .dataframe thead th {\n",
       "        text-align: right;\n",
       "    }\n",
       "</style>\n",
       "<table border=\"1\" class=\"dataframe\">\n",
       "  <thead>\n",
       "    <tr style=\"text-align: right;\">\n",
       "      <th></th>\n",
       "      <th>Unnamed: 0</th>\n",
       "      <th>overall</th>\n",
       "      <th>asin</th>\n",
       "      <th>category</th>\n",
       "      <th>description</th>\n",
       "      <th>title</th>\n",
       "      <th>image</th>\n",
       "      <th>brand</th>\n",
       "      <th>feature</th>\n",
       "      <th>rank</th>\n",
       "      <th>...</th>\n",
       "      <th>price</th>\n",
       "      <th>also_buy</th>\n",
       "      <th>also_view</th>\n",
       "      <th>similar_item</th>\n",
       "      <th>tech1</th>\n",
       "      <th>tech2</th>\n",
       "      <th>details</th>\n",
       "      <th>fit</th>\n",
       "      <th>tokenized_words</th>\n",
       "      <th>normalized_words</th>\n",
       "    </tr>\n",
       "  </thead>\n",
       "  <tbody>\n",
       "    <tr>\n",
       "      <th>0</th>\n",
       "      <td>92</td>\n",
       "      <td>2567</td>\n",
       "      <td>B000A6PPOK</td>\n",
       "      <td>['Electronics', 'Computers &amp; Accessories', 'Co...</td>\n",
       "      <td>['USB']</td>\n",
       "      <td>Microsoft Natural Ergonomic Keyboard 4000</td>\n",
       "      <td>['https://images-na.ssl-images-amazon.com/imag...</td>\n",
       "      <td>Microsoft</td>\n",
       "      <td>['Split ergonomic design encourages natural ha...</td>\n",
       "      <td>['&gt;#222 in Computers &amp; Accessories &gt; Computer ...</td>\n",
       "      <td>...</td>\n",
       "      <td>$48.50</td>\n",
       "      <td>['B00FPAVUHC', 'B0043T7FXE', 'B001F42MKG', 'B0...</td>\n",
       "      <td>['B075GZVD4T', 'B002MMY4WY', 'B00CYX26BC', 'B0...</td>\n",
       "      <td>[{'asin': '', 'href': '', 'name': 'Microsoft N...</td>\n",
       "      <td>NaN</td>\n",
       "      <td>NaN</td>\n",
       "      <td>NaN</td>\n",
       "      <td>NaN</td>\n",
       "      <td>[Split, ergonomic, design, encourages, natural...</td>\n",
       "      <td>[split, ergonomic, design, encourages, natural...</td>\n",
       "    </tr>\n",
       "    <tr>\n",
       "      <th>1</th>\n",
       "      <td>191</td>\n",
       "      <td>1805</td>\n",
       "      <td>B00I0S6SK0</td>\n",
       "      <td>['Electronics', 'Computers &amp; Accessories', 'Co...</td>\n",
       "      <td>['The AZiO Vision keyboard features extra larg...</td>\n",
       "      <td>Azio Vision Backlit USB Keyboard with Large Pr...</td>\n",
       "      <td>['https://images-na.ssl-images-amazon.com/imag...</td>\n",
       "      <td>Azio</td>\n",
       "      <td>['Easy to see large print keys. 2x Larger than...</td>\n",
       "      <td>['&gt;#56 in Computers &amp; Accessories &gt; Computer A...</td>\n",
       "      <td>...</td>\n",
       "      <td>$2.54</td>\n",
       "      <td>['B00ERV026K', 'B0787QZ6WD', 'B075WW7V6W', 'B0...</td>\n",
       "      <td>['B003VAGXWK', 'B00AGI7NKG', 'B007ZUC7DG', 'B0...</td>\n",
       "      <td>[{'asin': '', 'href': '', 'name': 'Azio Vision...</td>\n",
       "      <td>{'Number of USB 2.0 Ports': '1'}</td>\n",
       "      <td>{'Brand Name': 'Azio', 'Item model number': 'K...</td>\n",
       "      <td>NaN</td>\n",
       "      <td>NaN</td>\n",
       "      <td>[Easy, to, see, large, print, keys, 2x, Larger...</td>\n",
       "      <td>[easy, large, print, keys, 2x, larger, convent...</td>\n",
       "    </tr>\n",
       "    <tr>\n",
       "      <th>2</th>\n",
       "      <td>2263</td>\n",
       "      <td>418</td>\n",
       "      <td>B00E4TOWR0</td>\n",
       "      <td>['Electronics', 'Computers &amp; Accessories', 'Co...</td>\n",
       "      <td>[\"Get-more-done productivity: Achieve more wit...</td>\n",
       "      <td>HP Wired USB Keyboard K1500 (Black) (H3C52AA#ABA)</td>\n",
       "      <td>['https://images-na.ssl-images-amazon.com/imag...</td>\n",
       "      <td>HP</td>\n",
       "      <td>['Get-more-done productivity: Achieve more wit...</td>\n",
       "      <td>['&gt;#25 in Computers &amp; Accessories &gt; Computer A...</td>\n",
       "      <td>...</td>\n",
       "      <td>$14.99</td>\n",
       "      <td>NaN</td>\n",
       "      <td>['B005EOWBHC', 'B00ZYLMQH0', 'B004YDSPSS', 'B0...</td>\n",
       "      <td>[{'asin': '', 'href': '', 'name': 'HP Wired US...</td>\n",
       "      <td>{'Brand Name': 'HP', 'Series': 'H3C52AA', 'Ite...</td>\n",
       "      <td>NaN</td>\n",
       "      <td>NaN</td>\n",
       "      <td>NaN</td>\n",
       "      <td>[Get, more, done, productivity, Achieve, more,...</td>\n",
       "      <td>[productivity, achieve, hp, keyboard, k1500, i...</td>\n",
       "    </tr>\n",
       "    <tr>\n",
       "      <th>3</th>\n",
       "      <td>2620</td>\n",
       "      <td>378</td>\n",
       "      <td>B00LSGKEC4</td>\n",
       "      <td>['Electronics', 'Computers &amp; Accessories', 'Co...</td>\n",
       "      <td>NaN</td>\n",
       "      <td>Redragon K502 Gaming Keyboard RGB LED Backlit ...</td>\n",
       "      <td>['https://images-na.ssl-images-amazon.com/imag...</td>\n",
       "      <td>Redragon</td>\n",
       "      <td>['SILENT GAMING KEYBOARD; 104 Key Gaming Keybo...</td>\n",
       "      <td>&gt;#263 in Computers &amp; Accessories &gt; Computer Ac...</td>\n",
       "      <td>...</td>\n",
       "      <td>$28.99</td>\n",
       "      <td>['B00HTK1NCS', 'B011HMDZ0Q', 'B00GU4F4OM', 'B0...</td>\n",
       "      <td>['B073DBS35C', 'B074DRFHYS', 'B01EOH2JLW', 'B0...</td>\n",
       "      <td>[{'asin': '', 'href': '', 'name': 'Redragon K5...</td>\n",
       "      <td>{'Brand Name': 'Redragon', 'Series': 'K502 Kar...</td>\n",
       "      <td>NaN</td>\n",
       "      <td>NaN</td>\n",
       "      <td>NaN</td>\n",
       "      <td>[SILENT, GAMING, KEYBOARD, 104, Key, Gaming, K...</td>\n",
       "      <td>[silent, gaming, keyboard, key, gaming, keyboa...</td>\n",
       "    </tr>\n",
       "    <tr>\n",
       "      <th>4</th>\n",
       "      <td>2962</td>\n",
       "      <td>343</td>\n",
       "      <td>B0194MC7JG</td>\n",
       "      <td>['Electronics', 'Computers &amp; Accessories', 'Co...</td>\n",
       "      <td>['ONE WIRELESS KEYBOARD AND MOUSE SET FOR WIRE...</td>\n",
       "      <td>Wireless Keyboard and Mouse - Jelly Comb K025 ...</td>\n",
       "      <td>['https://images-na.ssl-images-amazon.com/imag...</td>\n",
       "      <td>Jelly Comb</td>\n",
       "      <td>['RELIABLE 2.4GHz WIRELESS CONNECTION: 10m or ...</td>\n",
       "      <td>['&gt;#323 in Computers &amp; Accessories &gt; Computer ...</td>\n",
       "      <td>...</td>\n",
       "      <td>$2.54</td>\n",
       "      <td>['B01B4RWTAG', 'B001CJRM36', 'B0181JTPCU', 'B0...</td>\n",
       "      <td>NaN</td>\n",
       "      <td>[{'asin': '', 'href': '', 'name': 'Wireless Ke...</td>\n",
       "      <td>NaN</td>\n",
       "      <td>NaN</td>\n",
       "      <td>NaN</td>\n",
       "      <td>NaN</td>\n",
       "      <td>[RELIABLE, 2.4GHz, WIRELESS, CONNECTION, 10, m...</td>\n",
       "      <td>[reliable, 2.4ghz, wireless, connection, m, fe...</td>\n",
       "    </tr>\n",
       "  </tbody>\n",
       "</table>\n",
       "<p>5 rows × 22 columns</p>\n",
       "</div>"
      ],
      "text/plain": [
       "   Unnamed: 0  overall        asin  \\\n",
       "0          92     2567  B000A6PPOK   \n",
       "1         191     1805  B00I0S6SK0   \n",
       "2        2263      418  B00E4TOWR0   \n",
       "3        2620      378  B00LSGKEC4   \n",
       "4        2962      343  B0194MC7JG   \n",
       "\n",
       "                                            category  \\\n",
       "0  ['Electronics', 'Computers & Accessories', 'Co...   \n",
       "1  ['Electronics', 'Computers & Accessories', 'Co...   \n",
       "2  ['Electronics', 'Computers & Accessories', 'Co...   \n",
       "3  ['Electronics', 'Computers & Accessories', 'Co...   \n",
       "4  ['Electronics', 'Computers & Accessories', 'Co...   \n",
       "\n",
       "                                         description  \\\n",
       "0                                            ['USB']   \n",
       "1  ['The AZiO Vision keyboard features extra larg...   \n",
       "2  [\"Get-more-done productivity: Achieve more wit...   \n",
       "3                                                NaN   \n",
       "4  ['ONE WIRELESS KEYBOARD AND MOUSE SET FOR WIRE...   \n",
       "\n",
       "                                               title  \\\n",
       "0          Microsoft Natural Ergonomic Keyboard 4000   \n",
       "1  Azio Vision Backlit USB Keyboard with Large Pr...   \n",
       "2  HP Wired USB Keyboard K1500 (Black) (H3C52AA#ABA)   \n",
       "3  Redragon K502 Gaming Keyboard RGB LED Backlit ...   \n",
       "4  Wireless Keyboard and Mouse - Jelly Comb K025 ...   \n",
       "\n",
       "                                               image       brand  \\\n",
       "0  ['https://images-na.ssl-images-amazon.com/imag...   Microsoft   \n",
       "1  ['https://images-na.ssl-images-amazon.com/imag...        Azio   \n",
       "2  ['https://images-na.ssl-images-amazon.com/imag...          HP   \n",
       "3  ['https://images-na.ssl-images-amazon.com/imag...    Redragon   \n",
       "4  ['https://images-na.ssl-images-amazon.com/imag...  Jelly Comb   \n",
       "\n",
       "                                             feature  \\\n",
       "0  ['Split ergonomic design encourages natural ha...   \n",
       "1  ['Easy to see large print keys. 2x Larger than...   \n",
       "2  ['Get-more-done productivity: Achieve more wit...   \n",
       "3  ['SILENT GAMING KEYBOARD; 104 Key Gaming Keybo...   \n",
       "4  ['RELIABLE 2.4GHz WIRELESS CONNECTION: 10m or ...   \n",
       "\n",
       "                                                rank  ...    price  \\\n",
       "0  ['>#222 in Computers & Accessories > Computer ...  ...  $48.50    \n",
       "1  ['>#56 in Computers & Accessories > Computer A...  ...   $2.54    \n",
       "2  ['>#25 in Computers & Accessories > Computer A...  ...  $14.99    \n",
       "3  >#263 in Computers & Accessories > Computer Ac...  ...  $28.99    \n",
       "4  ['>#323 in Computers & Accessories > Computer ...  ...   $2.54    \n",
       "\n",
       "                                            also_buy  \\\n",
       "0  ['B00FPAVUHC', 'B0043T7FXE', 'B001F42MKG', 'B0...   \n",
       "1  ['B00ERV026K', 'B0787QZ6WD', 'B075WW7V6W', 'B0...   \n",
       "2                                                NaN   \n",
       "3  ['B00HTK1NCS', 'B011HMDZ0Q', 'B00GU4F4OM', 'B0...   \n",
       "4  ['B01B4RWTAG', 'B001CJRM36', 'B0181JTPCU', 'B0...   \n",
       "\n",
       "                                           also_view  \\\n",
       "0  ['B075GZVD4T', 'B002MMY4WY', 'B00CYX26BC', 'B0...   \n",
       "1  ['B003VAGXWK', 'B00AGI7NKG', 'B007ZUC7DG', 'B0...   \n",
       "2  ['B005EOWBHC', 'B00ZYLMQH0', 'B004YDSPSS', 'B0...   \n",
       "3  ['B073DBS35C', 'B074DRFHYS', 'B01EOH2JLW', 'B0...   \n",
       "4                                                NaN   \n",
       "\n",
       "                                        similar_item  \\\n",
       "0  [{'asin': '', 'href': '', 'name': 'Microsoft N...   \n",
       "1  [{'asin': '', 'href': '', 'name': 'Azio Vision...   \n",
       "2  [{'asin': '', 'href': '', 'name': 'HP Wired US...   \n",
       "3  [{'asin': '', 'href': '', 'name': 'Redragon K5...   \n",
       "4  [{'asin': '', 'href': '', 'name': 'Wireless Ke...   \n",
       "\n",
       "                                               tech1  \\\n",
       "0                                                NaN   \n",
       "1                   {'Number of USB 2.0 Ports': '1'}   \n",
       "2  {'Brand Name': 'HP', 'Series': 'H3C52AA', 'Ite...   \n",
       "3  {'Brand Name': 'Redragon', 'Series': 'K502 Kar...   \n",
       "4                                                NaN   \n",
       "\n",
       "                                               tech2 details fit  \\\n",
       "0                                                NaN     NaN NaN   \n",
       "1  {'Brand Name': 'Azio', 'Item model number': 'K...     NaN NaN   \n",
       "2                                                NaN     NaN NaN   \n",
       "3                                                NaN     NaN NaN   \n",
       "4                                                NaN     NaN NaN   \n",
       "\n",
       "                                     tokenized_words  \\\n",
       "0  [Split, ergonomic, design, encourages, natural...   \n",
       "1  [Easy, to, see, large, print, keys, 2x, Larger...   \n",
       "2  [Get, more, done, productivity, Achieve, more,...   \n",
       "3  [SILENT, GAMING, KEYBOARD, 104, Key, Gaming, K...   \n",
       "4  [RELIABLE, 2.4GHz, WIRELESS, CONNECTION, 10, m...   \n",
       "\n",
       "                                    normalized_words  \n",
       "0  [split, ergonomic, design, encourages, natural...  \n",
       "1  [easy, large, print, keys, 2x, larger, convent...  \n",
       "2  [productivity, achieve, hp, keyboard, k1500, i...  \n",
       "3  [silent, gaming, keyboard, key, gaming, keyboa...  \n",
       "4  [reliable, 2.4ghz, wireless, connection, m, fe...  \n",
       "\n",
       "[5 rows x 22 columns]"
      ]
     },
     "execution_count": 18,
     "metadata": {},
     "output_type": "execute_result"
    }
   ],
   "source": [
    "df_meta['tokenized_words'] = df_meta['feature'].apply(lambda x: lucem_illud_2020.word_tokenize(x))\n",
    "df_meta['normalized_words'] = df_meta['tokenized_words'].apply(lambda x: lucem_illud_2020.normalizeTokens(x, lemma=False))\n",
    "df_meta"
   ]
  },
  {
   "cell_type": "code",
   "execution_count": 19,
   "metadata": {},
   "outputs": [],
   "source": [
    "def adprob(ad, model):\n",
    "    '''a function to calculate the likelihood of each product description. '''\n",
    "    sen_scores = model.score(ad, len(ad))\n",
    "    ad_score = sen_scores.mean()\n",
    "    return ad_score"
   ]
  },
  {
   "cell_type": "code",
   "execution_count": 20,
   "metadata": {},
   "outputs": [],
   "source": [
    "self_likelihood = []\n",
    "for i in range(len(df_meta['asin'])):\n",
    "    W2V = gensim.models.word2vec.Word2Vec(df_agg['normalized_words'].iloc[i], hs=1, negative=0)\n",
    "    vocab = W2V.wv.index2word\n",
    "    self_likelihood.append(adprob(df_meta['normalized_words'].iloc[i], W2V))"
   ]
  },
  {
   "cell_type": "code",
   "execution_count": 21,
   "metadata": {},
   "outputs": [],
   "source": [
    "df_meta['self_likelihood'] = self_likelihood"
   ]
  },
  {
   "cell_type": "code",
   "execution_count": 22,
   "metadata": {},
   "outputs": [
    {
     "data": {
      "text/plain": [
       "[-18.498903, -17.995121, -19.214176, -20.642963, -20.091568]"
      ]
     },
     "execution_count": 22,
     "metadata": {},
     "output_type": "execute_result"
    }
   ],
   "source": [
    "self_likelihood"
   ]
  },
  {
   "cell_type": "code",
   "execution_count": 23,
   "metadata": {},
   "outputs": [
    {
     "data": {
      "text/plain": [
       "3"
      ]
     },
     "execution_count": 23,
     "metadata": {},
     "output_type": "execute_result"
    }
   ],
   "source": [
    "np.argmin(self_likelihood)"
   ]
  },
  {
   "cell_type": "code",
   "execution_count": 28,
   "metadata": {},
   "outputs": [
    {
     "data": {
      "text/plain": [
       "'Redragon K502 Gaming Keyboard RGB LED Backlit Illuminated 104 Key Silent Keyboard Karura with Wrist Rest for Windows PC Games (New Improved Version)'"
      ]
     },
     "execution_count": 28,
     "metadata": {},
     "output_type": "execute_result"
    }
   ],
   "source": [
    "df_meta['title'][np.argmin(self_likelihood)]"
   ]
  },
  {
   "cell_type": "code",
   "execution_count": 30,
   "metadata": {},
   "outputs": [
    {
     "data": {
      "text/plain": [
       "'Azio Vision Backlit USB Keyboard with Large Print keys and 5 Interchangeable Backlight Colors (KB506) - Wired'"
      ]
     },
     "execution_count": 30,
     "metadata": {},
     "output_type": "execute_result"
    }
   ],
   "source": [
    "df_meta['title'][np.argmax(self_likelihood)]"
   ]
  },
  {
   "cell_type": "code",
   "execution_count": 31,
   "metadata": {},
   "outputs": [
    {
     "data": {
      "application/javascript": [
       "\n",
       "        if (window._pyforest_update_imports_cell) { window._pyforest_update_imports_cell('import pandas as pd'); }\n",
       "    "
      ],
      "text/plain": [
       "<IPython.core.display.Javascript object>"
      ]
     },
     "metadata": {},
     "output_type": "display_data"
    },
    {
     "data": {
      "text/html": [
       "<div>\n",
       "<style scoped>\n",
       "    .dataframe tbody tr th:only-of-type {\n",
       "        vertical-align: middle;\n",
       "    }\n",
       "\n",
       "    .dataframe tbody tr th {\n",
       "        vertical-align: top;\n",
       "    }\n",
       "\n",
       "    .dataframe thead th {\n",
       "        text-align: right;\n",
       "    }\n",
       "</style>\n",
       "<table border=\"1\" class=\"dataframe\">\n",
       "  <thead>\n",
       "    <tr style=\"text-align: right;\">\n",
       "      <th></th>\n",
       "      <th>Product</th>\n",
       "      <th>Likelihood</th>\n",
       "      <th>Trustworthiness</th>\n",
       "    </tr>\n",
       "  </thead>\n",
       "  <tbody>\n",
       "    <tr>\n",
       "      <th>0</th>\n",
       "      <td>Microsoft</td>\n",
       "      <td>-18.50</td>\n",
       "      <td>0.00</td>\n",
       "    </tr>\n",
       "    <tr>\n",
       "      <th>1</th>\n",
       "      <td>HP</td>\n",
       "      <td>-18.00</td>\n",
       "      <td>0.03</td>\n",
       "    </tr>\n",
       "    <tr>\n",
       "      <th>2</th>\n",
       "      <td>Azio</td>\n",
       "      <td>-19.21</td>\n",
       "      <td>-0.04</td>\n",
       "    </tr>\n",
       "    <tr>\n",
       "      <th>3</th>\n",
       "      <td>Redragon</td>\n",
       "      <td>-20.64</td>\n",
       "      <td>-0.12</td>\n",
       "    </tr>\n",
       "    <tr>\n",
       "      <th>4</th>\n",
       "      <td>Jelly Comb</td>\n",
       "      <td>-20.09</td>\n",
       "      <td>-0.09</td>\n",
       "    </tr>\n",
       "  </tbody>\n",
       "</table>\n",
       "</div>"
      ],
      "text/plain": [
       "      Product  Likelihood  Trustworthiness\n",
       "0   Microsoft      -18.50             0.00\n",
       "1          HP      -18.00             0.03\n",
       "2        Azio      -19.21            -0.04\n",
       "3    Redragon      -20.64            -0.12\n",
       "4  Jelly Comb      -20.09            -0.09"
      ]
     },
     "execution_count": 31,
     "metadata": {},
     "output_type": "execute_result"
    }
   ],
   "source": [
    "#B000A6PPOK as baseline\n",
    "likelihood = pd.DataFrame({'Product':df_agg['Brand'], 'Likelihood':self_likelihood})\n",
    "likelihood['Trustworthiness'] = -(likelihood['Likelihood'] - likelihood['Likelihood'][0])/likelihood['Likelihood'][0]\n",
    "likelihood.round(2)"
   ]
  },
  {
   "cell_type": "code",
   "execution_count": 32,
   "metadata": {},
   "outputs": [],
   "source": [
    "likelihood_sort = likelihood.sort_values(by=['Trustworthiness'])"
   ]
  },
  {
   "cell_type": "code",
   "execution_count": 33,
   "metadata": {},
   "outputs": [
    {
     "data": {
      "application/javascript": [
       "\n",
       "        if (window._pyforest_update_imports_cell) { window._pyforest_update_imports_cell('import pandas as pd\\nimport seaborn as sns'); }\n",
       "    "
      ],
      "text/plain": [
       "<IPython.core.display.Javascript object>"
      ]
     },
     "metadata": {},
     "output_type": "display_data"
    },
    {
     "data": {
      "application/javascript": [
       "\n",
       "        if (window._pyforest_update_imports_cell) { window._pyforest_update_imports_cell('import pandas as pd\\nimport seaborn as sns'); }\n",
       "    "
      ],
      "text/plain": [
       "<IPython.core.display.Javascript object>"
      ]
     },
     "metadata": {},
     "output_type": "display_data"
    },
    {
     "data": {
      "application/javascript": [
       "\n",
       "        if (window._pyforest_update_imports_cell) { window._pyforest_update_imports_cell('import pandas as pd\\nimport seaborn as sns'); }\n",
       "    "
      ],
      "text/plain": [
       "<IPython.core.display.Javascript object>"
      ]
     },
     "metadata": {},
     "output_type": "display_data"
    },
    {
     "data": {
      "image/png": "[encoded data removed]",
      "text/plain": [
       "<Figure size 504x360 with 1 Axes>"
      ]
     },
     "metadata": {},
     "output_type": "display_data"
    }
   ],
   "source": [
    "sns.set(style=\"white\", context=\"talk\")\n",
    "rs = np.random.RandomState(8)\n",
    "\n",
    "# Set up the matplotlib figure\n",
    "f, ax1 = plt.subplots(1, 1, figsize=(7, 5), sharex=True)\n",
    "\n",
    "x = np.array(likelihood_sort['Product'])\n",
    "y1 = likelihood_sort['Trustworthiness']\n",
    "\n",
    "# Center the data to make it diverging\n",
    "sns.barplot(x=x, y=y1, palette=\"vlag\", ax=ax1)\n",
    "ax1.axhline(0, color=\"k\", clip_on=False)\n",
    "ax1.set_ylabel(\"Percentage Change\")\n",
    "\n",
    "# Finalize the plot\n",
    "sns.despine(bottom=True)\n",
    "#plt.setp(f.axes, yticks=[])\n",
    "plt.tight_layout(h_pad=2)\n",
    "plt.title('Percentage Difference of Trustworthiness')\n",
    "plt.savefig('Plots/Percentage Difference of Trustworthiness.png')"
   ]
  }
 ],
 "metadata": {
  "kernelspec": {
   "display_name": "Python 3",
   "language": "python",
   "name": "python3"
  },
  "language_info": {
   "codemirror_mode": {
    "name": "ipython",
    "version": 3
   },
   "file_extension": ".py",
   "mimetype": "text/x-python",
   "name": "python",
   "nbconvert_exporter": "python",
   "pygments_lexer": "ipython3",
   "version": "3.7.2"
  },
  "toc": {
   "base_numbering": 1,
   "nav_menu": {},
   "number_sections": true,
   "sideBar": true,
   "skip_h1_title": false,
   "title_cell": "Table of Contents",
   "title_sidebar": "Contents",
   "toc_cell": false,
   "toc_position": {},
   "toc_section_display": true,
   "toc_window_display": false
  }
 },
 "nbformat": 4,
 "nbformat_minor": 2
}
