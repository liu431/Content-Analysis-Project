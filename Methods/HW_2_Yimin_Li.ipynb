{
 "cells": [
  {
   "cell_type": "markdown",
   "metadata": {},
   "source": [
    "# Week 2 - Sampling & Reliability"
   ]
  },
  {
   "cell_type": "markdown",
   "metadata": {},
   "source": [
    "### Yimin Li liym15@uchicago.edu"
   ]
  },
  {
   "cell_type": "code",
   "execution_count": 1,
   "metadata": {},
   "outputs": [],
   "source": [
    "#Special module written for this class\n",
    "#This provides access to data and to helper functions from previous weeks\n",
    "#Make sure you update it before starting this notebook\n",
    "import lucem_illud_2020 #pip install -U git+git://github.com/Computational-Content-Analysis-2020/lucem_illud_2020.git\n",
    "\n",
    "#All these packages need to be installed from pip\n",
    "import numpy as np #For arrays\n",
    "import scipy as sp #For some stats\n",
    "import pandas as pd #Gives us DataFrames\n",
    "import matplotlib.pyplot as plt #For graphics\n",
    "import seaborn #Makes the graphics look nicer\n",
    "import pyanno #On python3 make sure to pip install pyanno3\n",
    "\n",
    "#We need to import these this way due to how pyanno is setup\n",
    "from pyanno.measures import pairwise_matrix, agreement, cohens_kappa, cohens_weighted_kappa, fleiss_kappa, krippendorffs_alpha, pearsons_rho, scotts_pi, spearmans_rho\n",
    "from pyanno.annotations import AnnotationsContainer\n",
    "from pyanno.models import ModelA, ModelBt, ModelB\n",
    "\n",
    "from functools import reduce\n",
    "from itertools import permutations\n",
    "import math\n",
    "\n",
    "\n",
    "#This 'magic' command makes the plots work better\n",
    "#in the notebook, don't use it outside of a notebook.\n",
    "#Also you can ignore the warning\n",
    "%matplotlib inline\n",
    "\n",
    "import os #For looking through files\n",
    "import os.path #For managing file paths"
   ]
  },
  {
   "cell_type": "markdown",
   "metadata": {},
   "source": [
    "## <span style=\"color:red\">*Pitch the Domain of your Project*</span>\n",
    "\n",
    "<span style=\"color:red\">In the two cells immediately following, describe **WHAT** you are planning to analyze for your final project (i.e., texts, contexts and the social game, world and actors you intend to learn about through your analysis) (<200 words) and **WHY** you are going to do it (i.e., why would theory and/or the average person benefit from knowing the results of your investigation) (<200 words)? [**Note**: your individual or collective project can change over the course of the quarter if new data and/or analysis opportunities arise or if old ones fade away.]"
   ]
  },
  {
   "cell_type": "markdown",
   "metadata": {},
   "source": [
    "## ***What?*** "
   ]
  },
  {
   "cell_type": "markdown",
   "metadata": {},
   "source": [
    "We are interesting to find a divergence on Chinese different attitudes towards democracy on social media. For example, some Chinese netizens criticized Chinese government for being autocracy while others have witnessed \"the evilness of democracy, particularly during the recent Hong Kong protest and covid-19.\" I am particularly interested in researching on this pattern by analyzing the Twitter. In this project, I would lay emphasis on understanding Chinese attitude towards democracy on Twitter, trying to bring out a big picture about how they viewed Chinese democracy on Twitter? Are they positive, neutral or negative towards democracy in China? Also, what factor plays a more important role in shaping their attitude towards democracy?"
   ]
  },
  {
   "cell_type": "markdown",
   "metadata": {},
   "source": [
    "## ***Why?*** "
   ]
  },
  {
   "cell_type": "markdown",
   "metadata": {},
   "source": [
    "The project mainly challenges the \"take-it-for-granted\" norms that everyone criticized the autocracy and embraced the democracy. Different from Western countries embracing democracy without any hesitation, citizens in authoritarian countries (i.e. China) might have a divergence when talking about democracy. Understanding their attitude on democracy on social media would provide a new form of evidence different from traditional survey data approach. It can help us better understand general Chinese attitude on democracy (i.e. how much of Chinese netizens are positive towards democracy) as well as implying to what extent government has successfully shaped citizens' attitude. Also, this project may provide a pivot study for future study applying to all authoritarian countries and other languages besides English, providing a new method to understand public opinion apart from traditional, costly survey approach."
   ]
  },
  {
   "cell_type": "markdown",
   "metadata": {},
   "source": [
    "## <span style=\"color:red\">*Pitch Your Sample*</span>\n",
    "\n",
    "<span style=\"color:red\">In the cell immediately following, describe the rationale behind your proposed sample design for your final project. What is the social game, social work, or social actors about whom you are seeking to make inferences? What are its virtues with respect to your research questions? What are its limitations? What are alternatives? What would be a reasonable path to \"scale up\" your sample for further analysis (i.e., high-profile publication)? (<200 words)."
   ]
  },
  {
   "cell_type": "markdown",
   "metadata": {},
   "source": [
    "Due to content analysis language restriction and feasibility for web scraping, I would use data from Twitter (or Weibo) about democracy published by Chinese netizens. I would first web scrape the post about democracy on Twitter in Chinese, and used Google Translate to translate it into English for content analysis. It would pose strong doubt on external validity of our research, since Chinese expressing opinion on Twitter is very unlikely to represent the public opinion of Chinese citizens. However, since Twitter is blocked in China (only accessible for those living outside China or using VPN), it is still very interesting to analyze these kind of citizens' attitude who have been more exposed to Western democracy and less likely to be influenced by Chinese propaganda campaign. Then, we could extraploate the technique to Weibo (China's biggest social media) to have a more general approach.\n",
    "\n",
    "My data is highly limited and biased. However, understanding those citizens exposed to Western values can be regarded as a pivot study for understanding overall Chinese attitude on Weibo at a later stage. If those citizens (who use Twitter and expressed their opinion out) are still hatred towards democracy, it is quite more interesting to study why they are not influenced by Western norms and it might become a solid evidence that some Chinese authoritarian norms are inborn, rather than shaped by the propaganda campaign and Firewall, depiciting new approach of the authoritarian resilience in China."
   ]
  },
  {
   "cell_type": "markdown",
   "metadata": {},
   "source": [
    "## <span style=\"color:red\">*Your turn*</span>\n",
    "\n",
    "<span style=\"color:red\">Perform a content annotation survey of some kind in which at least 3 people evaluate and code each piece of content, using Amazon Mechanical Turk as described in the MTurk slides in the Assignment link on Canvas, or by hand with friends.  With the resulting data, calculate, visualize and discuss inter-coder agreement or covariation with appropriate metrics. What does this means for the reliability of human assessments regarding content in your domain?"
   ]
  },
  {
   "cell_type": "markdown",
   "metadata": {},
   "source": [
    "### Dataset"
   ]
  },
  {
   "cell_type": "markdown",
   "metadata": {},
   "source": [
    "In this demo dataset, I manually collected several posts (~25 posts) related to democracy in Chinese on Twitter. Then, I asked five friends to evaluate their attitude towards Chinese democracy (1-5, 1=strongly negative, 5=strongly positive). I also introduced the coder 5 (me) who is more gentle in coding the data, whose score tend to be more closed to the middle compared to other coders (It acts as an outlier). Then, I translated the post to English by using Google Translate and stored the coders' score, plain text and date of the post in one excel file.\n",
    "(Note: For future study, web scraping technique would be applied.)"
   ]
  },
  {
   "cell_type": "code",
   "execution_count": 5,
   "metadata": {},
   "outputs": [
    {
     "data": {
      "text/html": [
       "<div>\n",
       "<style scoped>\n",
       "    .dataframe tbody tr th:only-of-type {\n",
       "        vertical-align: middle;\n",
       "    }\n",
       "\n",
       "    .dataframe tbody tr th {\n",
       "        vertical-align: top;\n",
       "    }\n",
       "\n",
       "    .dataframe thead th {\n",
       "        text-align: right;\n",
       "    }\n",
       "</style>\n",
       "<table border=\"1\" class=\"dataframe\">\n",
       "  <thead>\n",
       "    <tr style=\"text-align: right;\">\n",
       "      <th></th>\n",
       "      <th>coder1</th>\n",
       "      <th>coder2</th>\n",
       "      <th>coder3</th>\n",
       "      <th>coder4</th>\n",
       "      <th>coder5(gentle)</th>\n",
       "      <th>coder6</th>\n",
       "      <th>Text</th>\n",
       "      <th>Date</th>\n",
       "    </tr>\n",
       "  </thead>\n",
       "  <tbody>\n",
       "    <tr>\n",
       "      <td>0</td>\n",
       "      <td>5</td>\n",
       "      <td>5</td>\n",
       "      <td>5</td>\n",
       "      <td>4</td>\n",
       "      <td>4</td>\n",
       "      <td>4</td>\n",
       "      <td>Guo Jiao ’s main slogan: Save 1.4 billion Chin...</td>\n",
       "      <td>2020/4/22</td>\n",
       "    </tr>\n",
       "    <tr>\n",
       "      <td>1</td>\n",
       "      <td>3</td>\n",
       "      <td>5</td>\n",
       "      <td>5</td>\n",
       "      <td>4</td>\n",
       "      <td>3</td>\n",
       "      <td>4</td>\n",
       "      <td>Japan only lost life, but China lost the entir...</td>\n",
       "      <td>2020/4/21</td>\n",
       "    </tr>\n",
       "    <tr>\n",
       "      <td>2</td>\n",
       "      <td>1</td>\n",
       "      <td>1</td>\n",
       "      <td>1</td>\n",
       "      <td>1</td>\n",
       "      <td>2</td>\n",
       "      <td>1</td>\n",
       "      <td>The scumbag reporter from China and the offici...</td>\n",
       "      <td>2020/4/20</td>\n",
       "    </tr>\n",
       "    <tr>\n",
       "      <td>3</td>\n",
       "      <td>1</td>\n",
       "      <td>1</td>\n",
       "      <td>1</td>\n",
       "      <td>1</td>\n",
       "      <td>2</td>\n",
       "      <td>1</td>\n",
       "      <td>Since then, the Chinese economy has left Chine...</td>\n",
       "      <td>2020/4/22</td>\n",
       "    </tr>\n",
       "    <tr>\n",
       "      <td>4</td>\n",
       "      <td>5</td>\n",
       "      <td>5</td>\n",
       "      <td>5</td>\n",
       "      <td>5</td>\n",
       "      <td>4</td>\n",
       "      <td>5</td>\n",
       "      <td>Jianguo even took the lead in planning the rio...</td>\n",
       "      <td>2020/4/17</td>\n",
       "    </tr>\n",
       "  </tbody>\n",
       "</table>\n",
       "</div>"
      ],
      "text/plain": [
       "   coder1  coder2  coder3  coder4  coder5(gentle)  coder6  \\\n",
       "0       5       5       5       4               4       4   \n",
       "1       3       5       5       4               3       4   \n",
       "2       1       1       1       1               2       1   \n",
       "3       1       1       1       1               2       1   \n",
       "4       5       5       5       5               4       5   \n",
       "\n",
       "                                                Text       Date  \n",
       "0  Guo Jiao ’s main slogan: Save 1.4 billion Chin...  2020/4/22  \n",
       "1  Japan only lost life, but China lost the entir...  2020/4/21  \n",
       "2  The scumbag reporter from China and the offici...  2020/4/20  \n",
       "3  Since then, the Chinese economy has left Chine...  2020/4/22  \n",
       "4  Jianguo even took the lead in planning the rio...  2020/4/17  "
      ]
     },
     "execution_count": 5,
     "metadata": {},
     "output_type": "execute_result"
    }
   ],
   "source": [
    "df = pd.read_csv(\"demo_data.csv\")\n",
    "df.head()"
   ]
  },
  {
   "cell_type": "code",
   "execution_count": 23,
   "metadata": {},
   "outputs": [
    {
     "data": {
      "text/plain": [
       "array([[4, 4, 4, 3, 3, 3],\n",
       "       [2, 4, 4, 3, 2, 3],\n",
       "       [0, 0, 0, 0, 1, 0],\n",
       "       [0, 0, 0, 0, 1, 0],\n",
       "       [4, 4, 4, 4, 3, 4],\n",
       "       [0, 0, 1, 1, 2, 1],\n",
       "       [4, 4, 4, 4, 3, 4],\n",
       "       [4, 4, 4, 4, 3, 3],\n",
       "       [0, 0, 1, 1, 1, 0],\n",
       "       [4, 4, 4, 4, 3, 4],\n",
       "       [0, 0, 0, 0, 1, 0],\n",
       "       [4, 4, 4, 4, 3, 4],\n",
       "       [3, 4, 4, 4, 3, 4],\n",
       "       [4, 3, 4, 3, 4, 4],\n",
       "       [2, 2, 2, 3, 2, 3],\n",
       "       [0, 0, 1, 1, 2, 1],\n",
       "       [2, 3, 2, 2, 2, 2],\n",
       "       [2, 1, 1, 1, 2, 2],\n",
       "       [4, 4, 3, 3, 3, 4],\n",
       "       [4, 3, 3, 4, 2, 3],\n",
       "       [3, 2, 3, 4, 2, 3],\n",
       "       [0, 0, 0, 0, 1, 0],\n",
       "       [4, 3, 4, 4, 3, 4],\n",
       "       [3, 4, 4, 3, 2, 3],\n",
       "       [3, 4, 3, 3, 3, 4]])"
      ]
     },
     "execution_count": 23,
     "metadata": {},
     "output_type": "execute_result"
    }
   ],
   "source": [
    "anno = AnnotationsContainer.from_array(df.values[:,:6])\n",
    "anno.annotations"
   ]
  },
  {
   "cell_type": "code",
   "execution_count": 24,
   "metadata": {},
   "outputs": [
    {
     "data": {
      "text/plain": [
       "[1, 2, 3, 4, 5]"
      ]
     },
     "execution_count": 24,
     "metadata": {},
     "output_type": "execute_result"
    }
   ],
   "source": [
    "anno.labels"
   ]
  },
  {
   "cell_type": "markdown",
   "metadata": {},
   "source": [
    "### Annotation Statistics"
   ]
  },
  {
   "cell_type": "markdown",
   "metadata": {},
   "source": [
    "#### First, we compute the \"confusion matrix\" between two coders. As is written in the above mentioned notes, coder 5 tends to be a more outlier than other coder. Hence, we would copute two confusion matrixs: One is between any two coder (Coder 1 and 2), the other is between regular coder and outlier (Coder 1 and Coder 5)."
   ]
  },
  {
   "cell_type": "code",
   "execution_count": 36,
   "metadata": {},
   "outputs": [
    {
     "data": {
      "text/plain": [
       "array([0.18      , 0.10666667, 0.13333333, 0.24      , 0.34      ])"
      ]
     },
     "execution_count": 36,
     "metadata": {},
     "output_type": "execute_result"
    }
   ],
   "source": [
    "pyanno.measures.agreement.labels_frequency(anno.annotations,5)"
   ]
  },
  {
   "cell_type": "code",
   "execution_count": 37,
   "metadata": {},
   "outputs": [
    {
     "name": "stdout",
     "output_type": "stream",
     "text": [
      "[[7. 0. 0. 0. 0.]\n",
      " [0. 0. 0. 0. 0.]\n",
      " [0. 1. 1. 1. 1.]\n",
      " [0. 0. 1. 0. 3.]\n",
      " [0. 0. 0. 3. 7.]]\n"
     ]
    },
    {
     "data": {
      "image/png": "[encoded data removed]",
      "text/plain": [
       "<Figure size 432x288 with 2 Axes>"
      ]
     },
     "metadata": {
      "needs_background": "light"
     },
     "output_type": "display_data"
    }
   ],
   "source": [
    "c = pyanno.measures.agreement.confusion_matrix(anno.annotations[:,0], anno.annotations[:,1],5)\n",
    "print(c)\n",
    "ac = seaborn.heatmap(c)\n",
    "plt.show()"
   ]
  },
  {
   "cell_type": "code",
   "execution_count": 47,
   "metadata": {},
   "outputs": [
    {
     "name": "stdout",
     "output_type": "stream",
     "text": [
      "[[0. 5. 2. 0. 0.]\n",
      " [0. 0. 0. 0. 0.]\n",
      " [0. 0. 4. 0. 0.]\n",
      " [0. 0. 2. 2. 0.]\n",
      " [0. 0. 1. 8. 1.]]\n"
     ]
    },
    {
     "data": {
      "image/png": "[encoded data removed]",
      "text/plain": [
       "<Figure size 432x288 with 2 Axes>"
      ]
     },
     "metadata": {
      "needs_background": "light"
     },
     "output_type": "display_data"
    }
   ],
   "source": [
    "c2 = pyanno.measures.agreement.confusion_matrix(anno.annotations[:,0], anno.annotations[:,4],5)\n",
    "print(c2)\n",
    "ac2 = seaborn.heatmap(c2)\n",
    "plt.show()"
   ]
  },
  {
   "cell_type": "markdown",
   "metadata": {},
   "source": [
    "Based on the confusion matrixs, we can calculate the Scott's $\\pi$"
   ]
  },
  {
   "cell_type": "code",
   "execution_count": 49,
   "metadata": {},
   "outputs": [
    {
     "data": {
      "text/plain": [
       "0.43246311010215677"
      ]
     },
     "execution_count": 49,
     "metadata": {},
     "output_type": "execute_result"
    }
   ],
   "source": [
    "scotts_pi(anno.annotations[:,0], anno.annotations[:,1])"
   ]
  },
  {
   "cell_type": "code",
   "execution_count": 50,
   "metadata": {},
   "outputs": [
    {
     "data": {
      "text/plain": [
       "0.07216494845360817"
      ]
     },
     "execution_count": 50,
     "metadata": {},
     "output_type": "execute_result"
    }
   ],
   "source": [
    "scotts_pi(anno.annotations[:,0], anno.annotations[:,4])"
   ]
  },
  {
   "cell_type": "markdown",
   "metadata": {},
   "source": [
    "We can easily see that the scotts_pi score with an outlier is much smaller than between two regular coders, which prove our hypothesis. Then, we can then calculate the Fleiss' $\\kappa$ and Krippendorff's $\\alpha$ to measure the whole accuracy."
   ]
  },
  {
   "cell_type": "code",
   "execution_count": 51,
   "metadata": {},
   "outputs": [
    {
     "data": {
      "text/plain": [
       "0.31699384365199207"
      ]
     },
     "execution_count": 51,
     "metadata": {},
     "output_type": "execute_result"
    }
   ],
   "source": [
    "fleiss_kappa(anno.annotations[::])"
   ]
  },
  {
   "cell_type": "code",
   "execution_count": 54,
   "metadata": {},
   "outputs": [
    {
     "data": {
      "text/plain": [
       "0.8580838802625259"
      ]
     },
     "execution_count": 54,
     "metadata": {},
     "output_type": "execute_result"
    }
   ],
   "source": [
    "krippendorffs_alpha(anno.annotations[::])"
   ]
  },
  {
   "cell_type": "markdown",
   "metadata": {},
   "source": [
    "#### Then,we analyze Cohen's $\\kappa$ to further measure agreement between coders"
   ]
  },
  {
   "cell_type": "code",
   "execution_count": 53,
   "metadata": {},
   "outputs": [
    {
     "name": "stdout",
     "output_type": "stream",
     "text": [
      "[[1.         0.43438914 0.51403888 0.42105263 0.16512059 0.51508621]\n",
      " [0.43438914 1.         0.50221239 0.29956897 0.00181488 0.34354486]\n",
      " [0.51403888 0.50221239 1.         0.62284483 0.11380597 0.51716738]\n",
      " [0.42105263 0.29956897 0.62284483 1.         0.03288201 0.56989247]\n",
      " [0.16512059 0.00181488 0.11380597 0.03288201 1.         0.03474903]\n",
      " [0.51508621 0.34354486 0.51716738 0.56989247 0.03474903 1.        ]]\n"
     ]
    },
    {
     "data": {
      "image/png": "[encoded data removed]",
      "text/plain": [
       "<Figure size 432x288 with 2 Axes>"
      ]
     },
     "metadata": {
      "needs_background": "light"
     },
     "output_type": "display_data"
    }
   ],
   "source": [
    "m = pairwise_matrix(cohens_kappa, anno.annotations)\n",
    "print(m)\n",
    "ax = seaborn.heatmap(m)\n",
    "plt.show()"
   ]
  },
  {
   "cell_type": "code",
   "execution_count": 55,
   "metadata": {},
   "outputs": [
    {
     "data": {
      "text/plain": [
       "0.3392113495473198"
      ]
     },
     "execution_count": 55,
     "metadata": {},
     "output_type": "execute_result"
    }
   ],
   "source": [
    "def pairwise_metric_average(metric, array):\n",
    "    \"\"\"Calculate the pairwise metric average for the real elements of metric function run on an array of annotations\"\"\"\n",
    "    p = permutations(range(array[0,:].size),2)\n",
    "    m = [metric(array[:,x[0]], array[:,x[1]]) for x in p]\n",
    "    clean_m = [c for c in m if not math.isnan(c)]\n",
    "    return reduce(lambda a, b: a + b, clean_m)/len(clean_m)    \n",
    " \n",
    "pairwise_metric_average(cohens_kappa, anno.annotations)"
   ]
  },
  {
   "cell_type": "code",
   "execution_count": 59,
   "metadata": {},
   "outputs": [
    {
     "data": {
      "text/plain": [
       "0.6526021685800296"
      ]
     },
     "execution_count": 59,
     "metadata": {},
     "output_type": "execute_result"
    }
   ],
   "source": [
    "pairwise_metric_average(cohens_weighted_kappa,anno.annotations)"
   ]
  },
  {
   "cell_type": "markdown",
   "metadata": {},
   "source": [
    "The average score of Cohen's $\\kappa$ for all pairs is low. It might because of the outlier of coder 5. As is shown in the above heatmap, the coder 5 might not be reliable because of its \"gentle\" scoring. But we would see the weighted score is much better, which its weighted score is almost two times better than the unweighted one."
   ]
  },
  {
   "cell_type": "markdown",
   "metadata": {},
   "source": [
    "#### We can also explore the correlations of values (Pearson's $\\rho$) or correlation of ranks (Spearman's $\\rho$) for pairs of coders:"
   ]
  },
  {
   "cell_type": "code",
   "execution_count": 60,
   "metadata": {},
   "outputs": [
    {
     "data": {
      "image/png": "[encoded data removed]",
      "text/plain": [
       "<Figure size 432x288 with 2 Axes>"
      ]
     },
     "metadata": {
      "needs_background": "light"
     },
     "output_type": "display_data"
    },
    {
     "data": {
      "image/png": "[encoded data removed]",
      "text/plain": [
       "<Figure size 432x288 with 2 Axes>"
      ]
     },
     "metadata": {
      "needs_background": "light"
     },
     "output_type": "display_data"
    },
    {
     "name": "stdout",
     "output_type": "stream",
     "text": [
      "0.8928470480674016 0.8329597174340441\n"
     ]
    }
   ],
   "source": [
    "n = pairwise_matrix(pearsons_rho, anno.annotations)\n",
    "m = pairwise_matrix(spearmans_rho, anno.annotations)\n",
    "an = seaborn.heatmap(n)\n",
    "plt.show()\n",
    "am = seaborn.heatmap(m)\n",
    "plt.show()\n",
    "\n",
    "print(pairwise_metric_average(pearsons_rho,anno.annotations), pairwise_metric_average(spearmans_rho,anno.annotations))"
   ]
  },
  {
   "cell_type": "markdown",
   "metadata": {},
   "source": [
    "As shown in the heatmap, the correlation of values (Pearson's $\\rho$) are strong between different coders (except for the outlier coder). But interestingly we would find that the correlation of ranks (Spearman's $\\rho$) are not as strong as the value."
   ]
  },
  {
   "cell_type": "markdown",
   "metadata": {},
   "source": [
    "## <span style=\"color:red\">*Your turn*</span>\n",
    "\n",
    "<span style=\"color:red\">In the cells immediately following, use the results of your content annotation survey to predict high and low-quality analysts, then predict MAP estimates for your codes in question. What do these estimates suggest about the distribution of skill among your coders? How different are these estimates from a majority vote?"
   ]
  },
  {
   "cell_type": "code",
   "execution_count": 71,
   "metadata": {},
   "outputs": [
    {
     "name": "stdout",
     "output_type": "stream",
     "text": [
      "[[[0.7155455  0.14705204 0.05147758 0.08364864 0.00227623]\n",
      "  [0.26453444 0.48137594 0.20199038 0.03301225 0.01908699]\n",
      "  [0.01818962 0.12162342 0.55136725 0.16025988 0.14855983]\n",
      "  [0.04925214 0.04491007 0.20334391 0.59001209 0.11248178]\n",
      "  [0.05820301 0.0583554  0.09317065 0.19311456 0.59715639]]\n",
      "\n",
      " [[0.77509531 0.14956266 0.03533185 0.00564682 0.03436337]\n",
      "  [0.08952038 0.54769663 0.28354177 0.03041046 0.04883075]\n",
      "  [0.04794073 0.3110367  0.51323059 0.05187348 0.0759185 ]\n",
      "  [0.01567605 0.07324622 0.10747966 0.75367284 0.04992523]\n",
      "  [0.02142042 0.01025132 0.08636324 0.11565362 0.7663114 ]]\n",
      "\n",
      " [[0.740611   0.20761977 0.04820887 0.00119323 0.00236713]\n",
      "  [0.11364362 0.57563858 0.06682363 0.2239854  0.01990876]\n",
      "  [0.14580353 0.07717188 0.685365   0.07477331 0.01688629]\n",
      "  [0.08413806 0.03274168 0.30970424 0.47633843 0.09707758]\n",
      "  [0.05959516 0.06143551 0.09184129 0.11830662 0.66882141]]\n",
      "\n",
      " [[0.77056757 0.14072077 0.04008837 0.0348985  0.0137248 ]\n",
      "  [0.16142491 0.66592083 0.12632795 0.03967668 0.00664964]\n",
      "  [0.04509536 0.12505009 0.68540507 0.11938778 0.0250617 ]\n",
      "  [0.03571218 0.03545605 0.05465882 0.80677633 0.06739663]\n",
      "  [0.00937549 0.05908058 0.04072164 0.19802223 0.69280006]]\n",
      "\n",
      " [[0.71281159 0.20419863 0.05693724 0.02202411 0.00402843]\n",
      "  [0.13749452 0.68043591 0.07819811 0.02799719 0.07587427]\n",
      "  [0.09213451 0.09317148 0.5140761  0.21884659 0.08177131]\n",
      "  [0.04772894 0.17799663 0.11800675 0.48505315 0.17121454]\n",
      "  [0.0200918  0.01743041 0.05890763 0.12332293 0.78024723]]\n",
      "\n",
      " [[0.71547577 0.23532407 0.01754463 0.01537343 0.01628209]\n",
      "  [0.13990544 0.67462016 0.05144734 0.10257667 0.03145039]\n",
      "  [0.02168417 0.12699396 0.65662189 0.1354478  0.05925217]\n",
      "  [0.05775071 0.08261506 0.14118362 0.56280284 0.15564777]\n",
      "  [0.00317879 0.09634812 0.03192488 0.13454453 0.73400368]]]\n",
      "-205.39400710402666\n"
     ]
    }
   ],
   "source": [
    "# create a new instance of model, with 5 label classes and 6 annotators.\n",
    "model = ModelB.create_initial_state(5, 6)\n",
    "print(model.theta)\n",
    "print(model.log_likelihood(anno.annotations))"
   ]
  },
  {
   "cell_type": "code",
   "execution_count": 74,
   "metadata": {},
   "outputs": [
    {
     "name": "stdout",
     "output_type": "stream",
     "text": [
      "[[[8.33042605e-001 1.25211161e-001 4.17462347e-002 0.00000000e+000\n",
      "   0.00000000e+000]\n",
      "  [2.02974698e-001 6.04116712e-001 1.52634142e-001 4.02744475e-002\n",
      "   0.00000000e+000]\n",
      "  [3.98823792e-002 1.19538842e-001 6.80832614e-001 1.19873430e-001\n",
      "   3.98727353e-002]\n",
      "  [0.00000000e+000 3.77461159e-002 1.50413625e-001 6.60103937e-001\n",
      "   1.51736322e-001]\n",
      "  [0.00000000e+000 0.00000000e+000 3.84372919e-002 1.52037939e-001\n",
      "   8.09524769e-001]]\n",
      "\n",
      " [[8.33042605e-001 1.25220342e-001 4.17370536e-002 3.77716418e-103\n",
      "   0.00000000e+000]\n",
      "  [2.02974698e-001 6.35910945e-001 1.20831610e-001 4.02827465e-002\n",
      "   0.00000000e+000]\n",
      "  [3.98823792e-002 1.27913490e-001 6.32660028e-001 1.59258514e-001\n",
      "   4.02855885e-002]\n",
      "  [0.00000000e+000 3.77524110e-002 1.55401736e-001 5.99235082e-001\n",
      "   2.07610771e-001]\n",
      "  [0.00000000e+000 0.00000000e+000 3.39364231e-002 1.73102104e-001\n",
      "   7.92961473e-001]]\n",
      "\n",
      " [[7.92966443e-001 1.65296503e-001 4.17370536e-002 0.00000000e+000\n",
      "   0.00000000e+000]\n",
      "  [1.20859594e-001 7.18026050e-001 1.20839909e-001 4.02744475e-002\n",
      "   0.00000000e+000]\n",
      "  [3.98462874e-002 1.27949582e-001 6.72037267e-001 1.19882348e-001\n",
      "   4.02845156e-002]\n",
      "  [0.00000000e+000 3.77524110e-002 1.18287345e-001 6.61957725e-001\n",
      "   1.82002519e-001]\n",
      "  [0.00000000e+000 0.00000000e+000 3.37618558e-002 1.50372403e-001\n",
      "   8.15865741e-001]]\n",
      "\n",
      " [[7.92966443e-001 1.65296503e-001 4.17370536e-002 0.00000000e+000\n",
      "   0.00000000e+000]\n",
      "  [1.20859594e-001 7.18026050e-001 1.20831641e-001 4.02827150e-002\n",
      "   3.22123186e-079]\n",
      "  [3.98462874e-002 1.27949582e-001 6.37387753e-001 1.54627682e-001\n",
      "   4.01886958e-002]\n",
      "  [0.00000000e+000 3.77524110e-002 1.13375143e-001 6.65195436e-001\n",
      "   1.83677011e-001]\n",
      "  [0.00000000e+000 0.00000000e+000 3.37592527e-002 2.19309749e-001\n",
      "   7.46930998e-001]]\n",
      "\n",
      " [[6.26055804e-001 3.27407426e-001 4.65367698e-002 0.00000000e+000\n",
      "   0.00000000e+000]\n",
      "  [1.20823342e-001 6.10377964e-001 2.28524246e-001 4.02744475e-002\n",
      "   0.00000000e+000]\n",
      "  [3.98462806e-002 1.19539192e-001 6.81228026e-001 1.19540175e-001\n",
      "   3.98463267e-002]\n",
      "  [0.00000000e+000 3.77461159e-002 2.53068390e-001 5.95686659e-001\n",
      "   1.13498835e-001]\n",
      "  [0.00000000e+000 0.00000000e+000 4.75982563e-002 4.12488339e-001\n",
      "   5.39913405e-001]]\n",
      "\n",
      " [[8.28252069e-001 1.30001696e-001 4.17462347e-002 0.00000000e+000\n",
      "   0.00000000e+000]\n",
      "  [1.27084594e-001 6.80006816e-001 1.52625875e-001 4.02827150e-002\n",
      "   0.00000000e+000]\n",
      "  [3.98466309e-002 1.19574590e-001 6.45762401e-001 1.54968889e-001\n",
      "   3.98474887e-002]\n",
      "  [0.00000000e+000 3.77461159e-002 1.13381438e-001 7.08915432e-001\n",
      "   1.39957015e-001]\n",
      "  [0.00000000e+000 0.00000000e+000 3.37592527e-002 1.79918631e-001\n",
      "   7.86322116e-001]]]\n",
      "-139.91959520530634\n"
     ]
    }
   ],
   "source": [
    "samples = model.sample_posterior_over_accuracy(anno.annotations, 200, burn_in_samples=100, thin_samples=3)\n",
    "model.map(anno.annotations)\n",
    "print(model.theta)\n",
    "print(model.log_likelihood(anno.annotations))"
   ]
  },
  {
   "cell_type": "code",
   "execution_count": 75,
   "metadata": {},
   "outputs": [
    {
     "name": "stdout",
     "output_type": "stream",
     "text": [
      "[[[8.33042605e-001 1.25211161e-001 4.17462347e-002 0.00000000e+000\n",
      "   0.00000000e+000]\n",
      "  [2.02974698e-001 6.04116712e-001 1.52634142e-001 4.02744475e-002\n",
      "   0.00000000e+000]\n",
      "  [3.98823792e-002 1.19538842e-001 6.80832614e-001 1.19873430e-001\n",
      "   3.98727353e-002]\n",
      "  [0.00000000e+000 3.77461159e-002 1.50413625e-001 6.60103937e-001\n",
      "   1.51736322e-001]\n",
      "  [0.00000000e+000 0.00000000e+000 3.84372919e-002 1.52037939e-001\n",
      "   8.09524769e-001]]\n",
      "\n",
      " [[8.33042605e-001 1.25220342e-001 4.17370536e-002 3.77716418e-103\n",
      "   0.00000000e+000]\n",
      "  [2.02974698e-001 6.35910945e-001 1.20831610e-001 4.02827465e-002\n",
      "   0.00000000e+000]\n",
      "  [3.98823792e-002 1.27913490e-001 6.32660028e-001 1.59258514e-001\n",
      "   4.02855885e-002]\n",
      "  [0.00000000e+000 3.77524110e-002 1.55401736e-001 5.99235082e-001\n",
      "   2.07610771e-001]\n",
      "  [0.00000000e+000 0.00000000e+000 3.39364231e-002 1.73102104e-001\n",
      "   7.92961473e-001]]\n",
      "\n",
      " [[7.92966443e-001 1.65296503e-001 4.17370536e-002 0.00000000e+000\n",
      "   0.00000000e+000]\n",
      "  [1.20859594e-001 7.18026050e-001 1.20839909e-001 4.02744475e-002\n",
      "   0.00000000e+000]\n",
      "  [3.98462874e-002 1.27949582e-001 6.72037267e-001 1.19882348e-001\n",
      "   4.02845156e-002]\n",
      "  [0.00000000e+000 3.77524110e-002 1.18287345e-001 6.61957725e-001\n",
      "   1.82002519e-001]\n",
      "  [0.00000000e+000 0.00000000e+000 3.37618558e-002 1.50372403e-001\n",
      "   8.15865741e-001]]\n",
      "\n",
      " [[7.92966443e-001 1.65296503e-001 4.17370536e-002 0.00000000e+000\n",
      "   0.00000000e+000]\n",
      "  [1.20859594e-001 7.18026050e-001 1.20831641e-001 4.02827150e-002\n",
      "   3.22123186e-079]\n",
      "  [3.98462874e-002 1.27949582e-001 6.37387753e-001 1.54627682e-001\n",
      "   4.01886958e-002]\n",
      "  [0.00000000e+000 3.77524110e-002 1.13375143e-001 6.65195436e-001\n",
      "   1.83677011e-001]\n",
      "  [0.00000000e+000 0.00000000e+000 3.37592527e-002 2.19309749e-001\n",
      "   7.46930998e-001]]\n",
      "\n",
      " [[6.26055804e-001 3.27407426e-001 4.65367698e-002 0.00000000e+000\n",
      "   0.00000000e+000]\n",
      "  [1.20823342e-001 6.10377964e-001 2.28524246e-001 4.02744475e-002\n",
      "   0.00000000e+000]\n",
      "  [3.98462806e-002 1.19539192e-001 6.81228026e-001 1.19540175e-001\n",
      "   3.98463267e-002]\n",
      "  [0.00000000e+000 3.77461159e-002 2.53068390e-001 5.95686659e-001\n",
      "   1.13498835e-001]\n",
      "  [0.00000000e+000 0.00000000e+000 4.75982563e-002 4.12488339e-001\n",
      "   5.39913405e-001]]\n",
      "\n",
      " [[8.28252069e-001 1.30001696e-001 4.17462347e-002 0.00000000e+000\n",
      "   0.00000000e+000]\n",
      "  [1.27084594e-001 6.80006816e-001 1.52625875e-001 4.02827150e-002\n",
      "   0.00000000e+000]\n",
      "  [3.98466309e-002 1.19574590e-001 6.45762401e-001 1.54968889e-001\n",
      "   3.98474887e-002]\n",
      "  [0.00000000e+000 3.77461159e-002 1.13381438e-001 7.08915432e-001\n",
      "   1.39957015e-001]\n",
      "  [0.00000000e+000 0.00000000e+000 3.37592527e-002 1.79918631e-001\n",
      "   7.86322116e-001]]]\n",
      "-139.91959520530634\n"
     ]
    }
   ],
   "source": [
    "model = ModelB.create_initial_state(5, 6)\n",
    "model.map(anno.annotations)\n",
    "print(model.theta)\n",
    "print(model.log_likelihood(anno.annotations))"
   ]
  },
  {
   "cell_type": "markdown",
   "metadata": {},
   "source": [
    "#### Once we have the model, we can make inferences about the true label classes."
   ]
  },
  {
   "cell_type": "code",
   "execution_count": 78,
   "metadata": {},
   "outputs": [
    {
     "data": {
      "image/png": "[encoded data removed]",
      "text/plain": [
       "<Figure size 1080x720 with 4 Axes>"
      ]
     },
     "metadata": {
      "needs_background": "light"
     },
     "output_type": "display_data"
    }
   ],
   "source": [
    "posterior = model.infer_labels(anno.annotations)\n",
    "\n",
    "votes = []\n",
    "for r in anno.annotations:\n",
    "    v = [0] * len(anno.labels)\n",
    "    votes.append(v)\n",
    "    for a in r:\n",
    "        if a > -1:\n",
    "            v[a] += 1\n",
    "votes_array = np.array(votes)\n",
    "\n",
    "fig, (ax1, ax2) = plt.subplots(ncols=2, figsize = (15, 10), sharey=True)\n",
    "num_questions = 18\n",
    "\n",
    "seaborn.heatmap(votes_array[:num_questions], annot = True, ax=ax2)\n",
    "seaborn.heatmap(posterior[:num_questions], annot=True, ax =ax1)\n",
    "ax1.set_title(\"Model\")\n",
    "ax2.set_title(\"Votes\")\n",
    "plt.show()"
   ]
  },
  {
   "cell_type": "markdown",
   "metadata": {},
   "source": [
    "We can also plot the heatmap by using ModelBt"
   ]
  },
  {
   "cell_type": "code",
   "execution_count": 85,
   "metadata": {},
   "outputs": [
    {
     "name": "stdout",
     "output_type": "stream",
     "text": [
      "[0.72727379 0.77264661 0.65953599 0.66296041 0.85607439 0.67060764]\n",
      "-222.90595909023008\n"
     ]
    }
   ],
   "source": [
    "model = ModelBt.create_initial_state(5, 6)\n",
    "print(model.theta)\n",
    "print(model.log_likelihood(anno.annotations))"
   ]
  },
  {
   "cell_type": "code",
   "execution_count": 86,
   "metadata": {},
   "outputs": [
    {
     "name": "stdout",
     "output_type": "stream",
     "text": [
      "[0.74820967 0.69989094 0.8873125  0.68171184 0.19418307 0.74940442]\n",
      "-185.85684341190986\n"
     ]
    }
   ],
   "source": [
    "model.map(anno.annotations)\n",
    "print(model.theta)\n",
    "print(model.log_likelihood(anno.annotations))"
   ]
  },
  {
   "cell_type": "code",
   "execution_count": 87,
   "metadata": {},
   "outputs": [
    {
     "data": {
      "image/png": "[encoded data removed]",
      "text/plain": [
       "<Figure size 432x288 with 2 Axes>"
      ]
     },
     "metadata": {
      "needs_background": "light"
     },
     "output_type": "display_data"
    }
   ],
   "source": [
    "posterior = model.infer_labels(anno.annotations)\n",
    "ax = seaborn.heatmap(posterior[:18,])\n",
    "plt.show()"
   ]
  },
  {
   "cell_type": "markdown",
   "metadata": {},
   "source": [
    "### Visualizing coder accuracy"
   ]
  },
  {
   "cell_type": "code",
   "execution_count": 88,
   "metadata": {},
   "outputs": [],
   "source": [
    "model = ModelBt.create_initial_state(5, 6)\n",
    "model.mle(anno.annotations)\n",
    "samples = model.sample_posterior_over_accuracy(anno.annotations, 200, burn_in_samples=100, thin_samples=3)\n",
    "y =  samples.mean(axis=0)#.mean(axis = 1).mean(axis = 1)\n",
    "y_ci = samples.std(axis=0)#.mean(axis = 1).mean(axis = 1)"
   ]
  },
  {
   "cell_type": "code",
   "execution_count": 89,
   "metadata": {},
   "outputs": [
    {
     "data": {
      "image/png": "[encoded data removed]",
      "text/plain": [
       "<Figure size 432x288 with 1 Axes>"
      ]
     },
     "metadata": {
      "needs_background": "light"
     },
     "output_type": "display_data"
    }
   ],
   "source": [
    "plt.figure()\n",
    "plt.errorbar(range(6),y, yerr = y_ci)\n",
    "plt.show()"
   ]
  },
  {
   "cell_type": "markdown",
   "metadata": {},
   "source": [
    "As expected, coder 5 has the lowest accuracy score among others which we set him as an outlier to make a much clearer visualization. Apart from coder 5 (outlier coder), other coders' accuracy score seems to be around 0.7 which is much higher than the outlier coder. So depending on the ModelBt and its visualization, we can easily tell the coders' accuracy."
   ]
  }
 ],
 "metadata": {
  "kernelspec": {
   "display_name": "Python 3",
   "language": "python",
   "name": "python3"
  },
  "language_info": {
   "codemirror_mode": {
    "name": "ipython",
    "version": 3
   },
   "file_extension": ".py",
   "mimetype": "text/x-python",
   "name": "python",
   "nbconvert_exporter": "python",
   "pygments_lexer": "ipython3",
   "version": "3.7.4"
  }
 },
 "nbformat": 4,
 "nbformat_minor": 2
}
